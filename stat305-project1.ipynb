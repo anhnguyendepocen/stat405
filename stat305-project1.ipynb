{
 "cells": [
  {
   "cell_type": "markdown",
   "metadata": {},
   "source": [
    "# Stat 305, Project 1"
   ]
  },
  {
   "cell_type": "markdown",
   "metadata": {},
   "source": [
    "**You may work in teams of 2, submitting one notebook per team.**"
   ]
  },
  {
   "cell_type": "markdown",
   "metadata": {},
   "source": [
    "**Type your name(s) here**"
   ]
  },
  {
   "cell_type": "markdown",
   "metadata": {},
   "source": [
    "# Introduction\n",
    "\n",
    "You should work through this notebook from start to finish.  Read the text and complete the parts as indicated.  Some code has already been provided.  Be sure to run this code and view the output to undestand what it does.  To run a cell, hold down SHIFT and hit ENTER.  In other parts, you will need to provide the code yourself; use the examples provided and the links as a guide. \n",
    "\n",
    "In this project you will use simulation to investigate further some of the problems that we have encountered in handouts or on homework.  Refer to the relevant handouts as necessary.  You will generate plots and approximate expected values, standard deviations, and probabilities.  Be sure to think about your plots and numbers and if they seem reasonable.\n",
    "\n",
    "In this lab you will use the Python package [Symbulate](https://github.com/dlsun/symbulate).  A few specific links to the documentation are provided below, but it might make more sense if you read the documentation from start to finish.  **You should use only use Symbulate commands, not general Python code.**"
   ]
  },
  {
   "cell_type": "markdown",
   "metadata": {},
   "source": [
    "To use Symbulate, you must first run (SHIFT-ENTER) the following commands."
   ]
  },
  {
   "cell_type": "code",
   "execution_count": 1,
   "metadata": {},
   "outputs": [],
   "source": [
    "from symbulate import *\n",
    "%matplotlib inline"
   ]
  },
  {
   "cell_type": "markdown",
   "metadata": {},
   "source": [
    "# Problem 1 - Rolling dice\n",
    "\n",
    "**Refer to Handout 5, Exercise 6.11, and Exercise 10.1.**\n",
    "\n",
    "This problem provides a quick introduction to Symbulate.  See Handout 5 and Symbulate documentation for more details.  There is nothing for you to do in Problem 1 other than to work through it and run each cell, noting the code syntax and the output it produces.\n",
    "\n",
    "Setup: Roll a fair four-sided die twice and let $X$ be the sum of two rolls and $Y$ be the larger of the two rolls (or the common value if a tie).\n",
    "\n",
    "The following defines the probability space (corresponding to the outcomes of the rolls) and the RVs."
   ]
  },
  {
   "cell_type": "code",
   "execution_count": 2,
   "metadata": {},
   "outputs": [],
   "source": [
    "P = BoxModel([1, 2, 3, 4], size=2, replace=True, order_matters=True)\n",
    "X = RV(P, sum)\n",
    "Y = RV(P, max)"
   ]
  },
  {
   "cell_type": "markdown",
   "metadata": {},
   "source": [
    "The following code simulates 10000 values of $X$ and summarizes the results in a table and plot."
   ]
  },
  {
   "cell_type": "code",
   "execution_count": 3,
   "metadata": {},
   "outputs": [
    {
     "data": {
      "text/html": [
       "\n",
       "    <table>\n",
       "      <thead>\n",
       "        <th width=\"80%\">Outcome</th>\n",
       "        <th width=\"20%\">Value</th>\n",
       "      </thead>\n",
       "      <tbody>\n",
       "        <tr><td>2</td><td>0.0677</td></tr><tr><td>3</td><td>0.1251</td></tr><tr><td>4</td><td>0.1821</td></tr><tr><td>5</td><td>0.2486</td></tr><tr><td>6</td><td>0.1903</td></tr><tr><td>7</td><td>0.1269</td></tr><tr><td>8</td><td>0.0593</td></tr><tr><td><b>Total</b></td><td><b>1.0000000000000002</b></td></tr>\n",
       "      </tbody>\n",
       "    </table>\n",
       "    "
      ],
      "text/plain": [
       "{2: 0.0677, 3: 0.1251, 4: 0.1821, 5: 0.2486, 6: 0.1903, 7: 0.1269, 8: 0.0593}"
      ]
     },
     "execution_count": 3,
     "metadata": {},
     "output_type": "execute_result"
    },
    {
     "data": {
      "image/png": "[encoded data removed]",
      "text/plain": [
       "<Figure size 432x288 with 1 Axes>"
      ]
     },
     "metadata": {},
     "output_type": "display_data"
    }
   ],
   "source": [
    "x = X.sim(10000)\n",
    "x.plot()\n",
    "x.tabulate(normalize=True)"
   ]
  },
  {
   "cell_type": "markdown",
   "metadata": {},
   "source": [
    "Now use the simulation results to approximate the expected value, variance, and standard deviation of $X$."
   ]
  },
  {
   "cell_type": "code",
   "execution_count": 4,
   "metadata": {},
   "outputs": [
    {
     "data": {
      "text/plain": [
       "(4.9866, 2.52322044, 1.5884648060312825)"
      ]
     },
     "execution_count": 4,
     "metadata": {},
     "output_type": "execute_result"
    }
   ],
   "source": [
    "x.mean(), x.var(), x.sd()"
   ]
  },
  {
   "cell_type": "markdown",
   "metadata": {},
   "source": [
    "The following simulates 10000 $(X, Y)$ pairs and summarizes the results in a plot and a table, to approximate the joint distribution.  The `plot` option `\"tile\"` creates a plot where relative frequencies are represented by color intensities, and `\"marginal\"` adds plots of the marginal distributions."
   ]
  },
  {
   "cell_type": "code",
   "execution_count": 5,
   "metadata": {},
   "outputs": [
    {
     "data": {
      "text/html": [
       "\n",
       "    <table>\n",
       "      <thead>\n",
       "        <th width=\"80%\">Outcome</th>\n",
       "        <th width=\"20%\">Value</th>\n",
       "      </thead>\n",
       "      <tbody>\n",
       "        <tr><td>(2, 1)</td><td>626</td></tr><tr><td>(3, 2)</td><td>1253</td></tr><tr><td>(4, 2)</td><td>636</td></tr><tr><td>(4, 3)</td><td>1259</td></tr><tr><td>(5, 3)</td><td>1241</td></tr><tr><td>(5, 4)</td><td>1245</td></tr><tr><td>(6, 3)</td><td>625</td></tr><tr><td>(6, 4)</td><td>1247</td></tr><tr><td>(7, 4)</td><td>1259</td></tr><tr><td>(8, 4)</td><td>609</td></tr><tr><td><b>Total</b></td><td><b>10000</b></td></tr>\n",
       "      </tbody>\n",
       "    </table>\n",
       "    "
      ],
      "text/plain": [
       "{(2, 1): 626,\n",
       " (3, 2): 1253,\n",
       " (4, 2): 636,\n",
       " (4, 3): 1259,\n",
       " (5, 3): 1241,\n",
       " (5, 4): 1245,\n",
       " (6, 3): 625,\n",
       " (6, 4): 1247,\n",
       " (7, 4): 1259,\n",
       " (8, 4): 609}"
      ]
     },
     "execution_count": 5,
     "metadata": {},
     "output_type": "execute_result"
    },
    {
     "data": {
      "image/png": "[encoded data removed]",
      "text/plain": [
       "<Figure size 432x288 with 4 Axes>"
      ]
     },
     "metadata": {},
     "output_type": "display_data"
    }
   ],
   "source": [
    "xy = (X & Y).sim(10000)\n",
    "xy.plot([\"tile\", \"marginal\"])\n",
    "xy.tabulate()"
   ]
  },
  {
   "cell_type": "markdown",
   "metadata": {},
   "source": [
    "The following simulates 10000 values of $X$ given $Y=4$.  Note the syntax: use `|` for conditioning, and be sure to put the event being conditioned on in parentheses `(Y == 4)`.  Also note that using `.sim(10000)` with conditioning produces 10000 outcomes which satisfy the condition."
   ]
  },
  {
   "cell_type": "code",
   "execution_count": 6,
   "metadata": {},
   "outputs": [
    {
     "data": {
      "text/html": [
       "\n",
       "    <table>\n",
       "      <thead>\n",
       "        <th width=\"80%\">Outcome</th>\n",
       "        <th width=\"20%\">Value</th>\n",
       "      </thead>\n",
       "      <tbody>\n",
       "        <tr><td>5</td><td>2838</td></tr><tr><td>6</td><td>2849</td></tr><tr><td>7</td><td>2817</td></tr><tr><td>8</td><td>1496</td></tr><tr><td><b>Total</b></td><td><b>10000</b></td></tr>\n",
       "      </tbody>\n",
       "    </table>\n",
       "    "
      ],
      "text/plain": [
       "{5: 2838, 6: 2849, 7: 2817, 8: 1496}"
      ]
     },
     "execution_count": 6,
     "metadata": {},
     "output_type": "execute_result"
    },
    {
     "data": {
      "image/png": "[encoded data removed]",
      "text/plain": [
       "<Figure size 432x288 with 1 Axes>"
      ]
     },
     "metadata": {},
     "output_type": "display_data"
    }
   ],
   "source": [
    "x_given_y = (X | (Y == 4) ).sim(10000)\n",
    "x_given_y.plot()\n",
    "x_given_y.tabulate()"
   ]
  },
  {
   "cell_type": "markdown",
   "metadata": {},
   "source": [
    "The following simulates values of $XY$ (see Exercise 10.1 part k)."
   ]
  },
  {
   "cell_type": "code",
   "execution_count": 7,
   "metadata": {},
   "outputs": [
    {
     "data": {
      "text/plain": [
       "(17.0097, 73.46060591000001, 8.570916281821916)"
      ]
     },
     "execution_count": 7,
     "metadata": {},
     "output_type": "execute_result"
    },
    {
     "data": {
      "image/png": "[encoded data removed]",
      "text/plain": [
       "<Figure size 432x288 with 1 Axes>"
      ]
     },
     "metadata": {},
     "output_type": "display_data"
    }
   ],
   "source": [
    "Z = X * Y\n",
    "z = Z.sim(10000)\n",
    "z.plot()\n",
    "z.mean(), z.var(), z.sd()"
   ]
  },
  {
   "cell_type": "markdown",
   "metadata": {},
   "source": [
    "# Problem 2 - Collector problem\n",
    "\n",
    "**Somewhat related problems: Exercise 2.6, Exercise 4.12, HW1 problems 5 and 6, HW2 problem 1.**\n",
    "\n",
    "Setup: \tRoll a fair six-sided die until each of the six faces is rolled at least once.  (Since Python uses zero-based indexing, it's a little more natural to think of the faces labeled 0, 1, ..., 5 instead of 1, 2, ..., 6.) Let $X$ be the total number of rolls needed.  Let $Y$ be the maximum number of rolls of any one face.  For example, for the sequence of rolls $\\omega=(3, 0, 1, 5, 3, 5, 0, 0, 4, 3, 3, 5, 1, 4, 2)$, $X(\\omega)=15$ (the last face obtained is 2 and that occurs on the 15th roll), and $Y(\\omega)=4$ (face 3 is rolled 4 times).\n",
    "\n",
    "The following Python code labels the \"prizes\" and defines a function which takes as an input a sequence of rolls and returns as an output the pair of $(X, Y)$ values."
   ]
  },
  {
   "cell_type": "code",
   "execution_count": 8,
   "metadata": {},
   "outputs": [],
   "source": [
    "n = 6 # define the number of \"prizes\"\n",
    "prizes = list(range(n)) # label the prizes 0, 1, 2, ..., n-1\n",
    "\n",
    "def number_prizes__max_count(outcome):\n",
    "    prizes_so_far = []  \n",
    "    for i, prize in enumerate(outcome):\n",
    "        prizes_so_far.append(prize)\n",
    "        if len(set(prizes_so_far)) == n:\n",
    "            return i + 1, max([prizes_so_far.count(j) for j in prizes])"
   ]
  },
  {
   "cell_type": "markdown",
   "metadata": {},
   "source": [
    "Here is the function evaluated for a sample outcome (sequence of rolls)"
   ]
  },
  {
   "cell_type": "code",
   "execution_count": 9,
   "metadata": {},
   "outputs": [
    {
     "data": {
      "text/plain": [
       "(15, 4)"
      ]
     },
     "execution_count": 9,
     "metadata": {},
     "output_type": "execute_result"
    }
   ],
   "source": [
    "outcome = (3, 0, 1, 5, 3, 5, 0, 0, 4, 3, 3, 5, 1, 4, 2)\n",
    "number_prizes__max_count(outcome)"
   ]
  },
  {
   "cell_type": "markdown",
   "metadata": {},
   "source": [
    "## Part a)\n",
    "\n",
    "Define a probability space and RVs $X$ and $Y$.  (I did this one for you, but make sure you understand what it is doing.)"
   ]
  },
  {
   "cell_type": "code",
   "execution_count": 10,
   "metadata": {},
   "outputs": [],
   "source": [
    "P = BoxModel(prizes, size=inf, replace=True, order_matters=True)\n",
    "X, Y = RV(P, number_prizes__max_count)"
   ]
  },
  {
   "cell_type": "markdown",
   "metadata": {},
   "source": [
    "## Part b)\n",
    "\n",
    "Simulate 10000 values of $X$ and summarize the simulation results to approximate the distribution of $X$ and its expected value, variance, and standard deviation.  Also estimate $P(X>20)$ (hint: [use a `count` function](https://dlsun.github.io/symbulate/sim.html#count))."
   ]
  },
  {
   "cell_type": "code",
   "execution_count": 11,
   "metadata": {},
   "outputs": [],
   "source": [
    "## TYPE YOUR CODE HERE\n",
    "## YOU MAY ADD CELLS AS NEEDED\n",
    "## NOTE THAT JUPYTER GENERALLY DISPLAYS ONLY THE OUTPUT FROM THE LAST LINE OF CODE IN A CELL"
   ]
  },
  {
   "cell_type": "markdown",
   "metadata": {},
   "source": [
    "## Part c)\n",
    "\n",
    "Simulate 10000 values of $Y$ and summarize the simulation results to approximate the distribution of $Y$ and its expected value, variance, and standard deviation.  Also estimate $P(Y>10)$."
   ]
  },
  {
   "cell_type": "code",
   "execution_count": 12,
   "metadata": {},
   "outputs": [],
   "source": [
    "## TYPE YOUR CODE HERE\n",
    "## YOU MAY ADD CELLS AS NEEDED\n",
    "## NOTE THAT JUPYTER GENERALLY DISPLAYS ONLY THE OUTPUT FROM THE LAST LINE OF CODE IN A CELL"
   ]
  },
  {
   "cell_type": "markdown",
   "metadata": {},
   "source": [
    "## Part d)\n",
    "\n",
    "Use simulation to approximate the conditional distribution of $X$ given $Y=5$ and its conditional expected value, conditional variance, and conditional standard deviation.  Also estimate $P(X>10 | Y=5)$. "
   ]
  },
  {
   "cell_type": "code",
   "execution_count": 13,
   "metadata": {},
   "outputs": [],
   "source": [
    "## TYPE YOUR CODE HERE\n",
    "## YOU MAY ADD CELLS AS NEEDED\n",
    "## NOTE THAT JUPYTER GENERALLY DISPLAYS ONLY THE OUTPUT FROM THE LAST LINE OF CODE IN A CELL"
   ]
  },
  {
   "cell_type": "markdown",
   "metadata": {},
   "source": [
    "# Problem 3 - Transformations of Uniformly distributed RVs\n",
    "\n",
    "**Related problems: Exercise 6.10, Exercise 7.4, Exercise 10.2, HW2 problem 2.**\n",
    "\n",
    "Setup: Let $U$ be a RV with a Uniform(0, 1) distribution."
   ]
  },
  {
   "cell_type": "code",
   "execution_count": 14,
   "metadata": {},
   "outputs": [
    {
     "data": {
      "text/plain": [
       "0.5036004510479734"
      ]
     },
     "execution_count": 14,
     "metadata": {},
     "output_type": "execute_result"
    },
    {
     "data": {
      "image/png": "[encoded data removed]",
      "text/plain": [
       "<Figure size 432x288 with 1 Axes>"
      ]
     },
     "metadata": {},
     "output_type": "display_data"
    }
   ],
   "source": [
    "U = RV(Uniform(0, 1))\n",
    "u = U.sim(10000)\n",
    "u.plot()\n",
    "u.mean()"
   ]
  },
  {
   "cell_type": "markdown",
   "metadata": {},
   "source": [
    "For each of the following RVs, use simulation to approximate the distribution (display it in a plot), and the expected value."
   ]
  },
  {
   "cell_type": "markdown",
   "metadata": {},
   "source": [
    "## Part a)\n",
    "\n",
    "$400 + 1200U$"
   ]
  },
  {
   "cell_type": "code",
   "execution_count": 15,
   "metadata": {},
   "outputs": [],
   "source": [
    "## TYPE YOUR CODE HERE\n",
    "## YOU MAY ADD CELLS AS NEEDED\n",
    "## NOTE THAT JUPYTER GENERALLY DISPLAYS ONLY THE OUTPUT FROM THE LAST LINE OF CODE IN A CELL"
   ]
  },
  {
   "cell_type": "markdown",
   "metadata": {},
   "source": [
    "## Part b)\n",
    "\n",
    "$-\\log(U)$ (Note: in Python and in R and in most contexts, $\\log$ represents the natural log $\\ln$)"
   ]
  },
  {
   "cell_type": "code",
   "execution_count": 16,
   "metadata": {},
   "outputs": [],
   "source": [
    "## TYPE YOUR CODE HERE\n",
    "## YOU MAY ADD CELLS AS NEEDED\n",
    "## NOTE THAT JUPYTER GENERALLY DISPLAYS ONLY THE OUTPUT FROM THE LAST LINE OF CODE IN A CELL"
   ]
  },
  {
   "cell_type": "markdown",
   "metadata": {},
   "source": [
    "## Part c)\n",
    "\n",
    "$U^2$. (Note: `**` represents exponentiation in Python, e.g. `3**2 = 9`.)"
   ]
  },
  {
   "cell_type": "code",
   "execution_count": 17,
   "metadata": {},
   "outputs": [],
   "source": [
    "## TYPE YOUR CODE HERE\n",
    "## YOU MAY ADD CELLS AS NEEDED\n",
    "## NOTE THAT JUPYTER GENERALLY DISPLAYS ONLY THE OUTPUT FROM THE LAST LINE OF CODE IN A CELL"
   ]
  },
  {
   "cell_type": "markdown",
   "metadata": {},
   "source": [
    "## Part d)\n",
    "\n",
    "$1-U$."
   ]
  },
  {
   "cell_type": "code",
   "execution_count": 18,
   "metadata": {},
   "outputs": [],
   "source": [
    "## TYPE YOUR CODE HERE\n",
    "## YOU MAY ADD CELLS AS NEEDED\n",
    "## NOTE THAT JUPYTER GENERALLY DISPLAYS ONLY THE OUTPUT FROM THE LAST LINE OF CODE IN A CELL"
   ]
  },
  {
   "cell_type": "markdown",
   "metadata": {},
   "source": [
    "Now consider the probability space corresponding to two values drawn independently from a Uniform(0, 1) distribution."
   ]
  },
  {
   "cell_type": "code",
   "execution_count": 19,
   "metadata": {},
   "outputs": [
    {
     "data": {
      "image/png": "[encoded data removed]",
      "text/plain": [
       "<Figure size 432x288 with 1 Axes>"
      ]
     },
     "metadata": {},
     "output_type": "display_data"
    }
   ],
   "source": [
    "P = Uniform(0, 1) ** 2\n",
    "U1, U2 = RV(P)\n",
    "(U1 & U2).sim(1000).plot()"
   ]
  },
  {
   "cell_type": "markdown",
   "metadata": {},
   "source": [
    "For each of the following RVs, use simulation to approximate the distribution (display it in a plot), and the expected value."
   ]
  },
  {
   "cell_type": "markdown",
   "metadata": {},
   "source": [
    "## Part e)\n",
    "\n",
    "The sum of the values."
   ]
  },
  {
   "cell_type": "code",
   "execution_count": 20,
   "metadata": {},
   "outputs": [],
   "source": [
    "## TYPE YOUR CODE HERE\n",
    "## YOU MAY ADD CELLS AS NEEDED\n",
    "## NOTE THAT JUPYTER GENERALLY DISPLAYS ONLY THE OUTPUT FROM THE LAST LINE OF CODE IN A CELL"
   ]
  },
  {
   "cell_type": "markdown",
   "metadata": {},
   "source": [
    "## Part f) \n",
    "\n",
    "The larger of the two values.  (Hint: unfortunately, the syntax `max(U1, U2)` won't work.  You can either define directly on the probspace as `RV(P, max)` or in terms of U1, U2 using [`apply`](https://dlsun.github.io/symbulate/sim.html#apply): `(U1 & U2).apply(max)`.)  "
   ]
  },
  {
   "cell_type": "code",
   "execution_count": 21,
   "metadata": {},
   "outputs": [],
   "source": [
    "## TYPE YOUR CODE HERE\n",
    "## YOU MAY ADD CELLS AS NEEDED\n",
    "## NOTE THAT JUPYTER GENERALLY DISPLAYS ONLY THE OUTPUT FROM THE LAST LINE OF CODE IN A CELL"
   ]
  },
  {
   "cell_type": "markdown",
   "metadata": {},
   "source": [
    "## Part g) \n",
    "\n",
    "The product of the two values."
   ]
  },
  {
   "cell_type": "code",
   "execution_count": 22,
   "metadata": {},
   "outputs": [],
   "source": [
    "## TYPE YOUR CODE HERE\n",
    "## YOU MAY ADD CELLS AS NEEDED\n",
    "## NOTE THAT JUPYTER GENERALLY DISPLAYS ONLY THE OUTPUT FROM THE LAST LINE OF CODE IN A CELL"
   ]
  },
  {
   "cell_type": "markdown",
   "metadata": {},
   "source": [
    "## Part h) \n",
    "\n",
    "The joint distribution of the sum of the two values and the larger of the two values."
   ]
  },
  {
   "cell_type": "code",
   "execution_count": 23,
   "metadata": {},
   "outputs": [],
   "source": [
    "## TYPE YOUR CODE HERE\n",
    "## YOU MAY ADD CELLS AS NEEDED\n",
    "## NOTE THAT JUPYTER GENERALLY DISPLAYS ONLY THE OUTPUT FROM THE LAST LINE OF CODE IN A CELL"
   ]
  },
  {
   "cell_type": "markdown",
   "metadata": {},
   "source": [
    "## Part i) \n",
    "\n",
    "The joint distribution of the product of the two values and the larger of the two values."
   ]
  },
  {
   "cell_type": "code",
   "execution_count": 24,
   "metadata": {},
   "outputs": [],
   "source": [
    "## TYPE YOUR CODE HERE\n",
    "## YOU MAY ADD CELLS AS NEEDED\n",
    "## NOTE THAT JUPYTER GENERALLY DISPLAYS ONLY THE OUTPUT FROM THE LAST LINE OF CODE IN A CELL"
   ]
  },
  {
   "cell_type": "markdown",
   "metadata": {},
   "source": [
    "## Part j) \n",
    "\n",
    "The joint distribution of the sum of the two values and the product of the two values."
   ]
  },
  {
   "cell_type": "code",
   "execution_count": 25,
   "metadata": {},
   "outputs": [],
   "source": [
    "## TYPE YOUR CODE HERE\n",
    "## YOU MAY ADD CELLS AS NEEDED\n",
    "## NOTE THAT JUPYTER GENERALLY DISPLAYS ONLY THE OUTPUT FROM THE LAST LINE OF CODE IN A CELL"
   ]
  },
  {
   "cell_type": "markdown",
   "metadata": {},
   "source": [
    "# Submission Instructions\n",
    "\n",
    "Before submitting, revisit all the problems and check that your answers seem reasonable.  In particular look at your plots; can you intuitively justify the shapes of your plots?\n",
    "\n",
    "Before you submit this notebook, click the \"Kernel\" drop-down menu at the top of this page and select \"Restart & Run All\". This will ensure that all of the code in your notebook executes properly.\n",
    "\n",
    "We will re-run your notebook before grading your answers. You will lose points for a notebook with cells that do not run, even if your answers are correct, so please do not skip this step.  After re-running your notebook, scroll through it to make sure that everything has run properly."
   ]
  },
  {
   "cell_type": "code",
   "execution_count": null,
   "metadata": {},
   "outputs": [],
   "source": []
  }
 ],
 "metadata": {
  "kernelspec": {
   "display_name": "Python 3",
   "language": "python",
   "name": "python3"
  },
  "language_info": {
   "codemirror_mode": {
    "name": "ipython",
    "version": 3
   },
   "file_extension": ".py",
   "mimetype": "text/x-python",
   "name": "python",
   "nbconvert_exporter": "python",
   "pygments_lexer": "ipython3",
   "version": "3.6.6"
  }
 },
 "nbformat": 4,
 "nbformat_minor": 2
}
