{
 "cells": [
  {
   "cell_type": "markdown",
   "metadata": {},
   "source": [
    "# Stat 305 HW3 Part II"
   ]
  },
  {
   "cell_type": "markdown",
   "metadata": {},
   "source": [
    "**You may work in teams of 2, submitting one notebook per team.**"
   ]
  },
  {
   "cell_type": "markdown",
   "metadata": {},
   "source": [
    "**TYPE YOUR NAME(S) HERE**"
   ]
  },
  {
   "cell_type": "markdown",
   "metadata": {},
   "source": [
    "# Introduction\n",
    "\n",
    "This Jupyter notebook provides a template for you to fill in.  Read the notebook from start to finish, completing the parts as indicated.  To run a cell, make sure the cell is highlighted by clicking on it, then press SHIFT + ENTER on your keyboard.  (Alternatively, you can click the \"play\" button in the toolbar above.)\n",
    "\n",
    "Some code has already been provided.  Be sure to run this code and view the output to undestand what it does.  In other parts, you will need to provide the code yourself; use the examples provided and the links as a guide. \n",
    "\n",
    "You will use the Python package [Symbulate](https://github.com/dlsun/symbulate).  A few specific links to the documentation are provided below, but it might make more sense if you read the documentation from start to finish.  **You should use only use Symbulate commands, not general Python code.**"
   ]
  },
  {
   "cell_type": "markdown",
   "metadata": {},
   "source": [
    "Be sure to run the following lines first."
   ]
  },
  {
   "cell_type": "code",
   "execution_count": 1,
   "metadata": {},
   "outputs": [],
   "source": [
    "from symbulate import *\n",
    "%matplotlib inline"
   ]
  },
  {
   "cell_type": "markdown",
   "metadata": {},
   "source": [
    "## Part A: Binomial and Hypergeometric distributions"
   ]
  },
  {
   "cell_type": "markdown",
   "metadata": {},
   "source": [
    "Shuffle a standard deck of 52 cards (13 hearts, and 39 other cards) and draw 5. Consider the number of hearts drawn."
   ]
  },
  {
   "cell_type": "markdown",
   "metadata": {},
   "source": [
    "## Problem 1\n",
    "\n",
    "First suppose the draws are made **with replacement**, and let $X$ represent the number of hearts among the 5 cards drawn."
   ]
  },
  {
   "cell_type": "markdown",
   "metadata": {},
   "source": [
    "### a)\n",
    "\n",
    "Define a probability space `P` in which an outcome corresponds to an ordered sequence of draws **with replacement.**   (Hint: you only need to consider whether a card is a heart or not.  Let 1 represent heart, and 0 not a heart.  See the examples for [BoxModel](https://dlsun.github.io/symbulate/probspace.html#boxmodel); use the `probs` argument like in `In[6:]`, or a dictionary like input like in `In[7:]`.  See also Examples from Handouts.)"
   ]
  },
  {
   "cell_type": "code",
   "execution_count": 2,
   "metadata": {},
   "outputs": [],
   "source": [
    "# Type all of your code for this problem in this cell.\n",
    "# Feel free to add additional cells for scratch work, but they will not be graded."
   ]
  },
  {
   "cell_type": "markdown",
   "metadata": {},
   "source": [
    "### b)\n",
    "\n",
    "Define a `RV` $X$ on the probability space `P` which counts the number of hearts.  (Hint: you could use a `count` function, but what simple function will count the number of 1s in a sequence of 0/1s?)"
   ]
  },
  {
   "cell_type": "code",
   "execution_count": 3,
   "metadata": {},
   "outputs": [],
   "source": [
    "# Type all of your code for this problem in this cell.\n",
    "# Feel free to add additional cells for scratch work, but they will not be graded."
   ]
  },
  {
   "cell_type": "markdown",
   "metadata": {},
   "source": [
    "### c)\n",
    "\n",
    "Simulate 10000 values of $X$, store the values in a variable `x`, and summarize its approximate distribution in a table."
   ]
  },
  {
   "cell_type": "code",
   "execution_count": 4,
   "metadata": {},
   "outputs": [],
   "source": [
    "# Type all of your code for this problem in this cell.\n",
    "# Feel free to add additional cells for scratch work, but they will not be graded."
   ]
  },
  {
   "cell_type": "markdown",
   "metadata": {},
   "source": [
    "### d)\n",
    "\n",
    "Display the approximate distribution of $X$ in a plot.  Overlay the true probability mass function on the plot.  ([Hint](https://dlsun.github.io/symbulate/common_discrete.html#binomial).)\n",
    "\n",
    "Note: There is a difference between calling `plot` for a named distribution like `Distribution().plot()` as opposed to calling plot for simulated values of a RV which has a named distribution, like `RV(Distribution()).sim(10000).plot()`."
   ]
  },
  {
   "cell_type": "code",
   "execution_count": 5,
   "metadata": {},
   "outputs": [],
   "source": [
    "# Type all of your code for this problem in this cell.\n",
    "# Feel free to add additional cells for scratch work, but they will not be graded."
   ]
  },
  {
   "cell_type": "markdown",
   "metadata": {},
   "source": [
    "### e)\n",
    "\n",
    "Use the simulation results to estimate $P(X=3)$.  Enter the appropriate Symbulate commands below; don't just use the above table.  (Hint: use a [`count` function](https://dlsun.github.io/symbulate/sim.html#count).)"
   ]
  },
  {
   "cell_type": "code",
   "execution_count": 6,
   "metadata": {},
   "outputs": [],
   "source": [
    "# Type all of your code for this problem in this cell.\n",
    "# Feel free to add additional cells for scratch work, but they will not be graded."
   ]
  },
  {
   "cell_type": "markdown",
   "metadata": {},
   "source": [
    "### f)\n",
    "\n",
    "Use the [.pdf() method](https://dlsun.github.io/symbulate/common_general_comments.html#pdf) to calculate the exact value of $P(X=3)$.  (Hint: what is the name of the distribution of $X$ in this case?)  Compare the approximation from the previous part with the exact value; recall that a relative frequency based on $N$ repetitions of a simulation is likely to be within $1/\\sqrt{N}$ of the true probability."
   ]
  },
  {
   "cell_type": "code",
   "execution_count": 7,
   "metadata": {},
   "outputs": [],
   "source": [
    "# Type all of your code for this problem in this cell.\n",
    "# Feel free to add additional cells for scratch work, but they will not be graded."
   ]
  },
  {
   "cell_type": "markdown",
   "metadata": {},
   "source": [
    "### g)\n",
    "\n",
    "Use the simulation results to estimate $E(X)$.  Compare the approximate expected value with the theoretical expected value.  (A mean based on $N$ repetitions of a simulation is likely to be within $2SD(X)/\\sqrt{N}$ of the true expected value.)"
   ]
  },
  {
   "cell_type": "code",
   "execution_count": 8,
   "metadata": {},
   "outputs": [],
   "source": [
    "# Type all of your code for this problem in this cell.\n",
    "# Feel free to add additional cells for scratch work, but they will not be graded."
   ]
  },
  {
   "cell_type": "markdown",
   "metadata": {},
   "source": [
    "## Problem 2\n",
    "\n",
    "Now suppose the draws are made **without replacement**, and let $Y$ represent the number of hearts among the 5 cards drawn."
   ]
  },
  {
   "cell_type": "markdown",
   "metadata": {},
   "source": [
    "### a)\n",
    "\n",
    "Define a probability space `Q` in which an outcome corresponds to an ordered sequence of draws **without replacement.**   (Hint: As in problem 1, you only need to consider whether a card is a heart or not, but now it is necessary to specify the actual number of cards of each type.  Use [`BoxModel` with a dictionary-like input as in `In[7]`](https://dlsun.github.io/symbulate/sim.html#count).)"
   ]
  },
  {
   "cell_type": "code",
   "execution_count": 9,
   "metadata": {},
   "outputs": [],
   "source": [
    "# Type all of your code for this problem in this cell.\n",
    "# Feel free to add additional cells for scratch work, but they will not be graded."
   ]
  },
  {
   "cell_type": "markdown",
   "metadata": {},
   "source": [
    "### b)\n",
    "\n",
    "Define a `RV` $Y$ on the probability space `Q` which counts the number of hearts."
   ]
  },
  {
   "cell_type": "code",
   "execution_count": 10,
   "metadata": {},
   "outputs": [],
   "source": [
    "# Type all of your code for this problem in this cell.\n",
    "# Feel free to add additional cells for scratch work, but they will not be graded."
   ]
  },
  {
   "cell_type": "markdown",
   "metadata": {},
   "source": [
    "### c)\n",
    "\n",
    "Simulate 10000 values of $Y$, store the values in a variable `y`, and summarize its approximate distribution in a table."
   ]
  },
  {
   "cell_type": "code",
   "execution_count": 11,
   "metadata": {},
   "outputs": [],
   "source": [
    "# Type all of your code for this problem in this cell.\n",
    "# Feel free to add additional cells for scratch work, but they will not be graded."
   ]
  },
  {
   "cell_type": "markdown",
   "metadata": {},
   "source": [
    "### d)\n",
    "\n",
    "Display the approximate distribution of $Y$ in a plot.  Overlay the true probability mass function on the plot.  ([Hint](https://dlsun.github.io/symbulate/common_discrete.html#hyper).  Also, see Handout 17.)"
   ]
  },
  {
   "cell_type": "code",
   "execution_count": 12,
   "metadata": {},
   "outputs": [],
   "source": [
    "# Type all of your code for this problem in this cell.\n",
    "# Feel free to add additional cells for scratch work, but they will not be graded."
   ]
  },
  {
   "cell_type": "markdown",
   "metadata": {},
   "source": [
    "### e)\n",
    "\n",
    "Use the simulation results to estimate $P(Y=3)$.  Enter the appropriate Symbulate commands below; don't just use the above table."
   ]
  },
  {
   "cell_type": "code",
   "execution_count": 13,
   "metadata": {},
   "outputs": [],
   "source": [
    "# Type all of your code for this problem in this cell.\n",
    "# Feel free to add additional cells for scratch work, but they will not be graded."
   ]
  },
  {
   "cell_type": "markdown",
   "metadata": {},
   "source": [
    "### f)\n",
    "\n",
    "Use the [.pdf() method](https://dlsun.github.io/symbulate/common_general_comments.html#pdf) to calculate the exact value of $P(Y=3)$.  (Hint: See Handout 17.  What is the name of the distribution of $Y$ in this case?)  Compare the approximation from the previous part with the exact value; recall that a relative frequency based on $N$ repetitions of a simulation is likely to be within $1/\\sqrt{N}$ of the true probability."
   ]
  },
  {
   "cell_type": "code",
   "execution_count": 14,
   "metadata": {},
   "outputs": [],
   "source": [
    "# Type all of your code for this problem in this cell.\n",
    "# Feel free to add additional cells for scratch work, but they will not be graded."
   ]
  },
  {
   "cell_type": "markdown",
   "metadata": {},
   "source": [
    "### g)\n",
    "\n",
    "Use the simulation results to estimate $E(Y)$.  Compare the approximate expected value with the theoretical expected value.  (A mean based on $N$ repetitions of a simulation is likely to be within $2SD(X)/\\sqrt{N}$ of the true expected value.)  Also compare the expected value of $Y$ (without replacement) and $X$ (with replacement); are these values within the  margin of error of each other?"
   ]
  },
  {
   "cell_type": "code",
   "execution_count": 15,
   "metadata": {},
   "outputs": [],
   "source": [
    "# Type all of your code for this problem in this cell.\n",
    "# Feel free to add additional cells for scratch work, but they will not be graded."
   ]
  },
  {
   "cell_type": "markdown",
   "metadata": {},
   "source": [
    "## Part B - Optional.  I had meant to assign this earlier, but the server was not yet up and running.  You do not need to submit it, but I would encourage you to try it."
   ]
  },
  {
   "cell_type": "markdown",
   "metadata": {},
   "source": [
    "Recall the collector problem.  Each box of a certain type of cereal contains one of $n$ distinct prizes and you want to obtain a complete set. Suppose that each box of cereal is equally likely to contain any one of the $n$ prizes, and the particular prize\n",
    "that appears in one box has no bearing on the prize that appears in another box. You purchase\n",
    "cereal boxes one box at a time until you have the complete set of $n$ prizes. \n",
    "\n",
    "Let $X$ be the total number of boxes purchased, assuming you stop once you have the complete set of $n$ prizes.\n",
    "\n",
    "We will assume $n=10$ (with prizes labeled 0, 1, ..., 9.)  But you can easily change this parameter to see how various quantities change."
   ]
  },
  {
   "cell_type": "code",
   "execution_count": 16,
   "metadata": {},
   "outputs": [
    {
     "data": {
      "text/plain": [
       "[0, 1, 2, 3, 4, 5, 6, 7, 8, 9]"
      ]
     },
     "execution_count": 16,
     "metadata": {},
     "output_type": "execute_result"
    }
   ],
   "source": [
    "n = 10\n",
    "prizes = list(range(n))\n",
    "prizes"
   ]
  },
  {
   "cell_type": "markdown",
   "metadata": {},
   "source": [
    "Before proceeding, make some guesses for how you would expect $X$ to behave.  What is the smallest possible value?  The largest?  What values would be more/less likely?  What would you guess for the expected value?  (Nothing to write up, just think about it.)"
   ]
  },
  {
   "cell_type": "markdown",
   "metadata": {},
   "source": [
    "### a)\n",
    "\n",
    "The probability space could be represented as the sequence of prizes obtained.  (First I got prize 3, second I got prize 1, third I got prize 3 (again), etc.)  While technically you would stop buying prizes when you get a complete set, it is convenient to imagine that you keep buying boxes forever.  This way, all outcomes in the probability would have the same \"length\".  Also, you could use such a probability space to investigate other problems too (e.g. number of boxes purchased until $r$ complete sets are obtained).\n",
    "\n",
    "Define a probability space $P$ in which an outcome corresponds to an infinite sequence of prizes.  (Hint: use `BoxModel` with `size=inf`.)  After defining $P$, display a few simulated outcomes."
   ]
  },
  {
   "cell_type": "markdown",
   "metadata": {},
   "source": [
    "### b)\n",
    "\n",
    "The `number_prizes_until_complete_set` function below takes as an input a sequence of prizes and returns how many prizes were purchased until a complete set was obtained."
   ]
  },
  {
   "cell_type": "code",
   "execution_count": 17,
   "metadata": {},
   "outputs": [
    {
     "data": {
      "text/plain": [
       "5"
      ]
     },
     "execution_count": 17,
     "metadata": {},
     "output_type": "execute_result"
    }
   ],
   "source": [
    "def number_prizes_until_complete_set(outcome):\n",
    "    for trial, result in enumerate(outcome):\n",
    "        if result == 1:\n",
    "            return trial + 1 # +1 for zero-\n",
    "\n",
    "# for the outcome below, the set is completed when you get prize 7\n",
    "outcome = (3, 4, 3, 0, 1, 6, 5, 3, 2, 4, 5, 6, 9, 8, 3, 4, 5, 6, 7)  \n",
    "number_prizes_until_complete_set(outcome)"
   ]
  },
  {
   "cell_type": "markdown",
   "metadata": {},
   "source": [
    "Use the above function to define a `RV` $X$ on the probability space $P$ from part a)."
   ]
  },
  {
   "cell_type": "markdown",
   "metadata": {},
   "source": [
    "### c)\n",
    "\n",
    "Simulate 10000 values of $X$, store the values in a variable `x`, and summarize its approximate distribution in a table."
   ]
  },
  {
   "cell_type": "markdown",
   "metadata": {},
   "source": [
    "### d)\n",
    "\n",
    "Display the approximate distribution of $X$ in a plot."
   ]
  },
  {
   "cell_type": "markdown",
   "metadata": {},
   "source": [
    "### e)\n",
    "\n",
    "Use the simulation results to estimate $P(X > 40)$.  Enter the appropriate Symbulate commands below; don't just use the above table and a calculator.  ([Hints](https://dlsun.github.io/symbulate/sim.html#recap).)"
   ]
  },
  {
   "cell_type": "markdown",
   "metadata": {},
   "source": [
    "### f)\n",
    "\n",
    "Approximate $E(X)$."
   ]
  },
  {
   "cell_type": "markdown",
   "metadata": {},
   "source": [
    "### g)\n",
    "\n",
    "Approximate $\\text{Var}(Y)$ and $\\text{SD}(Y)$."
   ]
  },
  {
   "cell_type": "markdown",
   "metadata": {},
   "source": [
    "### h) \n",
    "\n",
    "Write a few sentences describing the distribution of $X$."
   ]
  },
  {
   "cell_type": "markdown",
   "metadata": {},
   "source": [
    "## Submission Instructions\n",
    "\n",
    "- After you have completed the notebook, in Jupyter select Kernel > Restart kernel and run all cells.\n",
    "- After the notebook finishes rerunning check to make sure that you have no errors and everything runs properly.  Fix any problems and redo this step until it works.\n",
    "- Make sure your type your name(s) at the top of the notebook where it says \"Type your name(s) here\".  If you worked in a team, you will submit a single notebook with both names; make sure both names are included\n",
    "- In Jupyter, select File > Export Notebook as/Download as) > PDF. This will save your completed notebook as a PDF file. \n",
    "- Submit your PDF file in PL.  Remember, only one submission per team."
   ]
  },
  {
   "cell_type": "code",
   "execution_count": null,
   "metadata": {},
   "outputs": [],
   "source": []
  }
 ],
 "metadata": {
  "kernelspec": {
   "display_name": "Python 3",
   "language": "python",
   "name": "python3"
  },
  "language_info": {
   "codemirror_mode": {
    "name": "ipython",
    "version": 3
   },
   "file_extension": ".py",
   "mimetype": "text/x-python",
   "name": "python",
   "nbconvert_exporter": "python",
   "pygments_lexer": "ipython3",
   "version": "3.6.6"
  }
 },
 "nbformat": 4,
 "nbformat_minor": 2
}
