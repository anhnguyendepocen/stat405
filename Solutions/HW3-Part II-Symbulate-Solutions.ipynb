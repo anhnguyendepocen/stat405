{
 "cells": [
  {
   "cell_type": "markdown",
   "metadata": {},
   "source": [
    "# Stat 305 HW3 Part II"
   ]
  },
  {
   "cell_type": "markdown",
   "metadata": {},
   "source": [
    "**You may work in teams of 2, submitting one notebook per team.**"
   ]
  },
  {
   "cell_type": "markdown",
   "metadata": {},
   "source": [
    "**TYPE YOUR NAME(S) HERE**"
   ]
  },
  {
   "cell_type": "markdown",
   "metadata": {},
   "source": [
    "# Introduction\n",
    "\n",
    "This Jupyter notebook provides a template for you to fill in.  Read the notebook from start to finish, completing the parts as indicated.  To run a cell, make sure the cell is highlighted by clicking on it, then press SHIFT + ENTER on your keyboard.  (Alternatively, you can click the \"play\" button in the toolbar above.)\n",
    "\n",
    "Some code has already been provided.  Be sure to run this code and view the output to undestand what it does.  In other parts, you will need to provide the code yourself; use the examples provided and the links as a guide. \n",
    "\n",
    "You will use the Python package [Symbulate](https://github.com/dlsun/symbulate).  A few specific links to the documentation are provided below, but it might make more sense if you read the documentation from start to finish.  **You should use only use Symbulate commands, not general Python code.**"
   ]
  },
  {
   "cell_type": "markdown",
   "metadata": {},
   "source": [
    "Be sure to run the following lines first."
   ]
  },
  {
   "cell_type": "code",
   "execution_count": 1,
   "metadata": {},
   "outputs": [],
   "source": [
    "from symbulate import *\n",
    "%matplotlib inline"
   ]
  },
  {
   "cell_type": "markdown",
   "metadata": {},
   "source": [
    "## Part A: Binomial and Hypergeometric distributions"
   ]
  },
  {
   "cell_type": "markdown",
   "metadata": {},
   "source": [
    "Shuffle a standard deck of 52 cards (13 hearts, and 39 other cards) and draw 5. Consider the number of hearts drawn."
   ]
  },
  {
   "cell_type": "markdown",
   "metadata": {},
   "source": [
    "## Problem 1\n",
    "\n",
    "First suppose the draws are made **with replacement**, and let $X$ represent the number of hearts among the 5 cards drawn."
   ]
  },
  {
   "cell_type": "markdown",
   "metadata": {},
   "source": [
    "### a)\n",
    "\n",
    "Define a probability space `P` in which an outcome corresponds to an ordered sequence of draws **with replacement.**   (Hint: you only need to consider whether a card is a heart or not.  Let 1 represent heart, and 0 not a heart.  See the examples for [BoxModel](https://dlsun.github.io/symbulate/probspace.html#boxmodel); use the `probs` argument like in `In[6:]`, or a dictionary like input like in `In[7:]`.  See also Examples from Handouts.)"
   ]
  },
  {
   "cell_type": "code",
   "execution_count": 2,
   "metadata": {},
   "outputs": [],
   "source": [
    "# Type all of your code for this problem in this cell.\n",
    "# Feel free to add additional cells for scratch work, but they will not be graded."
   ]
  },
  {
   "cell_type": "code",
   "execution_count": 3,
   "metadata": {},
   "outputs": [],
   "source": [
    "P = BoxModel([1, 0], probs=[13/52, 39/52], size=5)"
   ]
  },
  {
   "cell_type": "markdown",
   "metadata": {},
   "source": [
    "### b)\n",
    "\n",
    "Define a `RV` $X$ on the probability space `P` which counts the number of hearts.  (Hint: you could use a `count` function, but what simple function will count the number of 1s in a sequence of 0/1s?)"
   ]
  },
  {
   "cell_type": "code",
   "execution_count": 4,
   "metadata": {},
   "outputs": [],
   "source": [
    "# Type all of your code for this problem in this cell.\n",
    "# Feel free to add additional cells for scratch work, but they will not be graded."
   ]
  },
  {
   "cell_type": "code",
   "execution_count": 5,
   "metadata": {},
   "outputs": [],
   "source": [
    "X = RV(P, sum)\n",
    "# could also do X = RV(P, count_eq(1))"
   ]
  },
  {
   "cell_type": "markdown",
   "metadata": {},
   "source": [
    "### c)\n",
    "\n",
    "Simulate 10000 values of $X$, store the values in a variable `x`, and summarize its approximate distribution in a table."
   ]
  },
  {
   "cell_type": "code",
   "execution_count": 6,
   "metadata": {},
   "outputs": [],
   "source": [
    "# Type all of your code for this problem in this cell.\n",
    "# Feel free to add additional cells for scratch work, but they will not be graded."
   ]
  },
  {
   "cell_type": "code",
   "execution_count": 7,
   "metadata": {},
   "outputs": [
    {
     "data": {
      "text/html": [
       "\n",
       "    <table>\n",
       "      <thead>\n",
       "        <th width=\"80%\">Outcome</th>\n",
       "        <th width=\"20%\">Value</th>\n",
       "      </thead>\n",
       "      <tbody>\n",
       "        <tr><td>0</td><td>0.235</td></tr><tr><td>1</td><td>0.4009</td></tr><tr><td>2</td><td>0.2599</td></tr><tr><td>3</td><td>0.0895</td></tr><tr><td>4</td><td>0.014</td></tr><tr><td>5</td><td>0.0007</td></tr><tr><td><b>Total</b></td><td><b>1.0</b></td></tr>\n",
       "      </tbody>\n",
       "    </table>\n",
       "    "
      ],
      "text/plain": [
       "{0: 0.235, 1: 0.4009, 2: 0.2599, 3: 0.0895, 4: 0.014, 5: 0.0007}"
      ]
     },
     "execution_count": 7,
     "metadata": {},
     "output_type": "execute_result"
    }
   ],
   "source": [
    "x = X.sim(10000)\n",
    "x.tabulate(normalize=True)"
   ]
  },
  {
   "cell_type": "markdown",
   "metadata": {},
   "source": [
    "### d)\n",
    "\n",
    "Display the approximate distribution of $X$ in a plot.  Overlay the true probability mass function on the plot.  ([Hint](https://dlsun.github.io/symbulate/common_discrete.html#binomial).)\n",
    "\n",
    "Note: There is a difference between calling `plot` for a named distribution like `Distribution().plot()` as opposed to calling plot for simulated values of a RV which has a named distribution, like `RV(Distribution()).sim(10000).plot()`."
   ]
  },
  {
   "cell_type": "code",
   "execution_count": 8,
   "metadata": {},
   "outputs": [],
   "source": [
    "# Type all of your code for this problem in this cell.\n",
    "# Feel free to add additional cells for scratch work, but they will not be graded."
   ]
  },
  {
   "cell_type": "code",
   "execution_count": 9,
   "metadata": {},
   "outputs": [
    {
     "data": {
      "image/png": "[encoded data removed]",
      "text/plain": [
       "<Figure size 432x288 with 1 Axes>"
      ]
     },
     "metadata": {},
     "output_type": "display_data"
    }
   ],
   "source": [
    "x.plot()\n",
    "Binomial(n=5, p=13/52).plot()"
   ]
  },
  {
   "cell_type": "markdown",
   "metadata": {},
   "source": [
    "### e)\n",
    "\n",
    "Use the simulation results to estimate $P(X=3)$.  Enter the appropriate Symbulate commands below; don't just use the above table.  (Hint: use a [`count` function](https://dlsun.github.io/symbulate/sim.html#count).)"
   ]
  },
  {
   "cell_type": "code",
   "execution_count": 10,
   "metadata": {},
   "outputs": [],
   "source": [
    "# Type all of your code for this problem in this cell.\n",
    "# Feel free to add additional cells for scratch work, but they will not be graded."
   ]
  },
  {
   "cell_type": "code",
   "execution_count": 11,
   "metadata": {},
   "outputs": [
    {
     "data": {
      "text/plain": [
       "0.0895"
      ]
     },
     "execution_count": 11,
     "metadata": {},
     "output_type": "execute_result"
    }
   ],
   "source": [
    "x.count_eq(3) / 10000"
   ]
  },
  {
   "cell_type": "markdown",
   "metadata": {},
   "source": [
    "### f)\n",
    "\n",
    "Use the [.pdf() method](https://dlsun.github.io/symbulate/common_general_comments.html#pdf) to calculate the exact value of $P(X=3)$.  (Hint: what is the name of the distribution of $X$ in this case?)  Compare the approximation from the previous part with the exact value; recall that a relative frequency based on $N$ repetitions of a simulation is likely to be within $1/\\sqrt{N}$ of the true probability."
   ]
  },
  {
   "cell_type": "code",
   "execution_count": 12,
   "metadata": {},
   "outputs": [],
   "source": [
    "# Type all of your code for this problem in this cell.\n",
    "# Feel free to add additional cells for scratch work, but they will not be graded."
   ]
  },
  {
   "cell_type": "code",
   "execution_count": 13,
   "metadata": {},
   "outputs": [
    {
     "data": {
      "text/plain": [
       "0.087890625"
      ]
     },
     "execution_count": 13,
     "metadata": {},
     "output_type": "execute_result"
    }
   ],
   "source": [
    "Binomial(n=5, p=13/52).pdf(3)"
   ]
  },
  {
   "cell_type": "markdown",
   "metadata": {},
   "source": [
    "### g)\n",
    "\n",
    "Use the simulation results to estimate $E(X)$.  Compare the approximate expected value with the theoretical expected value.  (A mean based on $N$ repetitions of a simulation is likely to be within $2SD(X)/\\sqrt{N}$ of the true expected value.)"
   ]
  },
  {
   "cell_type": "code",
   "execution_count": 14,
   "metadata": {},
   "outputs": [],
   "source": [
    "# Type all of your code for this problem in this cell.\n",
    "# Feel free to add additional cells for scratch work, but they will not be graded."
   ]
  },
  {
   "cell_type": "code",
   "execution_count": 15,
   "metadata": {},
   "outputs": [
    {
     "data": {
      "text/plain": [
       "1.2487"
      ]
     },
     "execution_count": 15,
     "metadata": {},
     "output_type": "execute_result"
    }
   ],
   "source": [
    "x.mean()"
   ]
  },
  {
   "cell_type": "markdown",
   "metadata": {},
   "source": [
    "## Problem 2\n",
    "\n",
    "Now suppose the draws are made **without replacement**, and let $Y$ represent the number of hearts among the 5 cards drawn."
   ]
  },
  {
   "cell_type": "markdown",
   "metadata": {},
   "source": [
    "### a)\n",
    "\n",
    "Define a probability space `Q` in which an outcome corresponds to an ordered sequence of draws **without replacement.**   (Hint: As in problem 1, you only need to consider whether a card is a heart or not, but now it is necessary to specify the actual number of cards of each type.  Use [`BoxModel` with a dictionary-like input as in `In[7]`](https://dlsun.github.io/symbulate/sim.html#count).)"
   ]
  },
  {
   "cell_type": "code",
   "execution_count": 16,
   "metadata": {},
   "outputs": [],
   "source": [
    "# Type all of your code for this problem in this cell.\n",
    "# Feel free to add additional cells for scratch work, but they will not be graded."
   ]
  },
  {
   "cell_type": "code",
   "execution_count": 17,
   "metadata": {},
   "outputs": [],
   "source": [
    "Q = BoxModel({1: 13, 0: 39}, size=5, replace=False)"
   ]
  },
  {
   "cell_type": "markdown",
   "metadata": {},
   "source": [
    "### b)\n",
    "\n",
    "Define a `RV` $Y$ on the probability space `Q` which counts the number of hearts."
   ]
  },
  {
   "cell_type": "code",
   "execution_count": 18,
   "metadata": {},
   "outputs": [],
   "source": [
    "# Type all of your code for this problem in this cell.\n",
    "# Feel free to add additional cells for scratch work, but they will not be graded."
   ]
  },
  {
   "cell_type": "code",
   "execution_count": 19,
   "metadata": {},
   "outputs": [],
   "source": [
    "Y = RV(Q, sum)"
   ]
  },
  {
   "cell_type": "markdown",
   "metadata": {},
   "source": [
    "### c)\n",
    "\n",
    "Simulate 10000 values of $Y$, store the values in a variable `y`, and summarize its approximate distribution in a table."
   ]
  },
  {
   "cell_type": "code",
   "execution_count": 20,
   "metadata": {},
   "outputs": [],
   "source": [
    "# Type all of your code for this problem in this cell.\n",
    "# Feel free to add additional cells for scratch work, but they will not be graded."
   ]
  },
  {
   "cell_type": "code",
   "execution_count": 21,
   "metadata": {},
   "outputs": [
    {
     "data": {
      "text/html": [
       "\n",
       "    <table>\n",
       "      <thead>\n",
       "        <th width=\"80%\">Outcome</th>\n",
       "        <th width=\"20%\">Value</th>\n",
       "      </thead>\n",
       "      <tbody>\n",
       "        <tr><td>0</td><td>0.2132</td></tr><tr><td>1</td><td>0.4154</td></tr><tr><td>2</td><td>0.277</td></tr><tr><td>3</td><td>0.0846</td></tr><tr><td>4</td><td>0.0095</td></tr><tr><td>5</td><td>0.0003</td></tr><tr><td><b>Total</b></td><td><b>1.0</b></td></tr>\n",
       "      </tbody>\n",
       "    </table>\n",
       "    "
      ],
      "text/plain": [
       "{0: 0.2132, 1: 0.4154, 2: 0.277, 3: 0.0846, 4: 0.0095, 5: 0.0003}"
      ]
     },
     "execution_count": 21,
     "metadata": {},
     "output_type": "execute_result"
    }
   ],
   "source": [
    "y = Y.sim(10000)\n",
    "y.tabulate(normalize=True)"
   ]
  },
  {
   "cell_type": "markdown",
   "metadata": {},
   "source": [
    "### d)\n",
    "\n",
    "Display the approximate distribution of $Y$ in a plot.  Overlay the true probability mass function on the plot.  ([Hint](https://dlsun.github.io/symbulate/common_discrete.html#hyper).  Also, see Handout 17.)"
   ]
  },
  {
   "cell_type": "code",
   "execution_count": 22,
   "metadata": {},
   "outputs": [],
   "source": [
    "# Type all of your code for this problem in this cell.\n",
    "# Feel free to add additional cells for scratch work, but they will not be graded."
   ]
  },
  {
   "cell_type": "code",
   "execution_count": 23,
   "metadata": {},
   "outputs": [
    {
     "data": {
      "image/png": "[encoded data removed]",
      "text/plain": [
       "<Figure size 432x288 with 1 Axes>"
      ]
     },
     "metadata": {},
     "output_type": "display_data"
    }
   ],
   "source": [
    "y.plot()\n",
    "Hypergeometric(n=5, N1=13, N0=39).plot()"
   ]
  },
  {
   "cell_type": "markdown",
   "metadata": {},
   "source": [
    "### e)\n",
    "\n",
    "Use the simulation results to estimate $P(Y=3)$.  Enter the appropriate Symbulate commands below; don't just use the above table."
   ]
  },
  {
   "cell_type": "code",
   "execution_count": 24,
   "metadata": {},
   "outputs": [],
   "source": [
    "# Type all of your code for this problem in this cell.\n",
    "# Feel free to add additional cells for scratch work, but they will not be graded."
   ]
  },
  {
   "cell_type": "code",
   "execution_count": 25,
   "metadata": {},
   "outputs": [
    {
     "data": {
      "text/plain": [
       "0.0846"
      ]
     },
     "execution_count": 25,
     "metadata": {},
     "output_type": "execute_result"
    }
   ],
   "source": [
    "y.count_eq(3) / 10000"
   ]
  },
  {
   "cell_type": "markdown",
   "metadata": {},
   "source": [
    "### f)\n",
    "\n",
    "Use the [.pdf() method](https://dlsun.github.io/symbulate/common_general_comments.html#pdf) to calculate the exact value of $P(Y=3)$.  (Hint: See Handout 17.  What is the name of the distribution of $Y$ in this case?)  Compare the approximation from the previous part with the exact value; recall that a relative frequency based on $N$ repetitions of a simulation is likely to be within $1/\\sqrt{N}$ of the true probability."
   ]
  },
  {
   "cell_type": "code",
   "execution_count": 26,
   "metadata": {},
   "outputs": [],
   "source": [
    "# Type all of your code for this problem in this cell.\n",
    "# Feel free to add additional cells for scratch work, but they will not be graded."
   ]
  },
  {
   "cell_type": "code",
   "execution_count": 27,
   "metadata": {},
   "outputs": [
    {
     "data": {
      "text/plain": [
       "0.081542617046818727"
      ]
     },
     "execution_count": 27,
     "metadata": {},
     "output_type": "execute_result"
    }
   ],
   "source": [
    "Hypergeometric(n=5, N1=13, N0=39).pdf(3)"
   ]
  },
  {
   "cell_type": "markdown",
   "metadata": {},
   "source": [
    "### g)\n",
    "\n",
    "Use the simulation results to estimate $E(Y)$.  Compare the approximate expected value with the theoretical expected value.  (A mean based on $N$ repetitions of a simulation is likely to be within $2SD(X)/\\sqrt{N}$ of the true expected value.)  Also compare the expected value of $Y$ (without replacement) and $X$ (with replacement); are these values within the  margin of error of each other?"
   ]
  },
  {
   "cell_type": "code",
   "execution_count": 28,
   "metadata": {},
   "outputs": [],
   "source": [
    "# Type all of your code for this problem in this cell.\n",
    "# Feel free to add additional cells for scratch work, but they will not be graded."
   ]
  },
  {
   "cell_type": "code",
   "execution_count": 29,
   "metadata": {},
   "outputs": [
    {
     "data": {
      "text/plain": [
       "1.2627"
      ]
     },
     "execution_count": 29,
     "metadata": {},
     "output_type": "execute_result"
    }
   ],
   "source": [
    "y.mean()"
   ]
  },
  {
   "cell_type": "markdown",
   "metadata": {},
   "source": [
    "## Part B - Optional.  I had meant to assign this earlier, but the server was not yet up and running.  You do not need to submit it, but I would encourage you to try it."
   ]
  },
  {
   "cell_type": "markdown",
   "metadata": {},
   "source": [
    "Recall the collector problem.  Each box of a certain type of cereal contains one of $n$ distinct prizes and you want to obtain a complete set. Suppose that each box of cereal is equally likely to contain any one of the $n$ prizes, and the particular prize\n",
    "that appears in one box has no bearing on the prize that appears in another box. You purchase\n",
    "cereal boxes one box at a time until you have the complete set of $n$ prizes. \n",
    "\n",
    "Let $X$ be the total number of boxes purchased, assuming you stop once you have the complete set of $n$ prizes.\n",
    "\n",
    "We will assume $n=10$ (with prizes labeled 0, 1, ..., 9.)  But you can easily change this parameter to see how various quantities change."
   ]
  },
  {
   "cell_type": "code",
   "execution_count": 30,
   "metadata": {},
   "outputs": [
    {
     "data": {
      "text/plain": [
       "[0, 1, 2, 3, 4, 5, 6, 7, 8, 9]"
      ]
     },
     "execution_count": 30,
     "metadata": {},
     "output_type": "execute_result"
    }
   ],
   "source": [
    "n = 10\n",
    "prizes = list(range(n))\n",
    "prizes"
   ]
  },
  {
   "cell_type": "markdown",
   "metadata": {},
   "source": [
    "Before proceeding, make some guesses for how you would expect $X$ to behave.  What is the smallest possible value?  The largest?  What values would be more/less likely?  What would you guess for the expected value?  (Nothing to write up, just think about it.)"
   ]
  },
  {
   "cell_type": "markdown",
   "metadata": {},
   "source": [
    "### a)\n",
    "\n",
    "The probability space could be represented as the sequence of prizes obtained.  (First I got prize 3, second I got prize 1, third I got prize 3 (again), etc.)  While technically you would stop buying prizes when you get a complete set, it is convenient to imagine that you keep buying boxes forever.  This way, all outcomes in the probability would have the same \"length\".  Also, you could use such a probability space to investigate other problems too (e.g. number of boxes purchased until $r$ complete sets are obtained).\n",
    "\n",
    "Define a probability space $P$ in which an outcome corresponds to an infinite sequence of prizes.  (Hint: use `BoxModel` with `size=inf`.)  After defining $P$, display a few simulated outcomes."
   ]
  },
  {
   "cell_type": "code",
   "execution_count": 31,
   "metadata": {},
   "outputs": [],
   "source": [
    "P = BoxModel(prizes, size=inf)"
   ]
  },
  {
   "cell_type": "markdown",
   "metadata": {},
   "source": [
    "### b)\n",
    "\n",
    "The `number_prizes_until_complete_set` function below takes as an input a sequence of prizes and returns how many prizes were purchased until a complete set was obtained. **NOTE: THIS FUNCTION WAS WRONG IN THE ORIGINAL HW ASSIGNMENT.  THE FOLLOWING FUNCTION IS CORRECT.**"
   ]
  },
  {
   "cell_type": "code",
   "execution_count": 32,
   "metadata": {},
   "outputs": [
    {
     "data": {
      "text/plain": [
       "19"
      ]
     },
     "execution_count": 32,
     "metadata": {},
     "output_type": "execute_result"
    }
   ],
   "source": [
    "def number_prizes_until_complete_set(outcome):\n",
    "    prizes_so_far = []\n",
    "    for trial, result in enumerate(outcome):\n",
    "        prizes_so_far.append(result)\n",
    "        if len(set(prizes_so_far)) == n:\n",
    "            return trial + 1 # +1 for zero-indexing\n",
    "\n",
    "# for the outcome below, the set is completed when you get prize 7 on trial 19\n",
    "outcome = (3, 4, 3, 0, 1, 6, 5, 3, 2, 4, 5, 6, 9, 8, 3, 4, 5, 6, 7)  \n",
    "number_prizes_until_complete_set(outcome)"
   ]
  },
  {
   "cell_type": "markdown",
   "metadata": {},
   "source": [
    "Use the above function to define a `RV` $X$ on the probability space $P$ from part a)."
   ]
  },
  {
   "cell_type": "code",
   "execution_count": 33,
   "metadata": {},
   "outputs": [],
   "source": [
    "X = RV(P, number_prizes_until_complete_set)"
   ]
  },
  {
   "cell_type": "markdown",
   "metadata": {},
   "source": [
    "### c)\n",
    "\n",
    "Simulate 10000 values of $X$, store the values in a variable `x`, and summarize its approximate distribution in a table."
   ]
  },
  {
   "cell_type": "code",
   "execution_count": 34,
   "metadata": {},
   "outputs": [
    {
     "data": {
      "text/html": [
       "\n",
       "    <table>\n",
       "      <thead>\n",
       "        <th width=\"80%\">Outcome</th>\n",
       "        <th width=\"20%\">Value</th>\n",
       "      </thead>\n",
       "      <tbody>\n",
       "        <tr><td>10</td><td>0.0003</td></tr><tr><td>11</td><td>0.0021</td></tr><tr><td>12</td><td>0.0036</td></tr><tr><td>13</td><td>0.0078</td></tr><tr><td>14</td><td>0.0146</td></tr><tr><td>15</td><td>0.0193</td></tr><tr><td>16</td><td>0.0249</td></tr><tr><td>17</td><td>0.0305</td></tr><tr><td>18</td><td>0.0366</td></tr><tr><td>19</td><td>0.0375</td></tr><tr><td>20</td><td>0.0396</td></tr><tr><td>21</td><td>0.0421</td></tr><tr><td>22</td><td>0.0444</td></tr><tr><td>23</td><td>0.0448</td></tr><tr><td>24</td><td>0.0435</td></tr><tr><td>25</td><td>0.0398</td></tr><tr><td>26</td><td>0.0435</td></tr><tr><td>27</td><td>0.0398</td></tr><tr><td>28</td><td>0.0339</td></tr><tr><td>...</td><td>...</td></tr><tr><td>126</td><td>0.0001</td></tr><tr><td><b>Total</b></td><td><b>0.9999999999999993</b></td></tr>\n",
       "      </tbody>\n",
       "    </table>\n",
       "    "
      ],
      "text/plain": [
       "{10: 0.0003,\n",
       " 11: 0.0021,\n",
       " 12: 0.0036,\n",
       " 13: 0.0078,\n",
       " 14: 0.0146,\n",
       " 15: 0.0193,\n",
       " 16: 0.0249,\n",
       " 17: 0.0305,\n",
       " 18: 0.0366,\n",
       " 19: 0.0375,\n",
       " 20: 0.0396,\n",
       " 21: 0.0421,\n",
       " 22: 0.0444,\n",
       " 23: 0.0448,\n",
       " 24: 0.0435,\n",
       " 25: 0.0398,\n",
       " 26: 0.0435,\n",
       " 27: 0.0398,\n",
       " 28: 0.0339,\n",
       " 29: 0.0407,\n",
       " 30: 0.0359,\n",
       " 31: 0.03,\n",
       " 32: 0.0338,\n",
       " 33: 0.0243,\n",
       " 34: 0.0263,\n",
       " 35: 0.0248,\n",
       " 36: 0.0222,\n",
       " 37: 0.0198,\n",
       " 38: 0.017,\n",
       " 39: 0.0161,\n",
       " 40: 0.0162,\n",
       " 41: 0.0141,\n",
       " 42: 0.0128,\n",
       " 43: 0.0123,\n",
       " 44: 0.0095,\n",
       " 45: 0.0081,\n",
       " 46: 0.0085,\n",
       " 47: 0.0081,\n",
       " 48: 0.007,\n",
       " 49: 0.0057,\n",
       " 50: 0.0064,\n",
       " 51: 0.0054,\n",
       " 52: 0.0058,\n",
       " 53: 0.0036,\n",
       " 54: 0.0045,\n",
       " 55: 0.0032,\n",
       " 56: 0.003,\n",
       " 57: 0.0027,\n",
       " 58: 0.0026,\n",
       " 59: 0.0021,\n",
       " 60: 0.0016,\n",
       " 61: 0.0019,\n",
       " 62: 0.0015,\n",
       " 63: 0.0014,\n",
       " 64: 0.0014,\n",
       " 65: 0.0012,\n",
       " 66: 0.001,\n",
       " 67: 0.0007,\n",
       " 68: 0.0008,\n",
       " 69: 0.0008,\n",
       " 70: 0.001,\n",
       " 71: 0.0006,\n",
       " 72: 0.0004,\n",
       " 73: 0.0001,\n",
       " 74: 0.0005,\n",
       " 75: 0.0005,\n",
       " 76: 0.0002,\n",
       " 77: 0.0005,\n",
       " 79: 0.0003,\n",
       " 80: 0.0004,\n",
       " 81: 0.0003,\n",
       " 82: 0.0002,\n",
       " 83: 0.0001,\n",
       " 84: 0.0003,\n",
       " 85: 0.0002,\n",
       " 86: 0.0002,\n",
       " 88: 0.0001,\n",
       " 89: 0.0002,\n",
       " 95: 0.0001,\n",
       " 99: 0.0001,\n",
       " 100: 0.0001,\n",
       " 117: 0.0001,\n",
       " 126: 0.0001}"
      ]
     },
     "execution_count": 34,
     "metadata": {},
     "output_type": "execute_result"
    }
   ],
   "source": [
    "x = X.sim(10000)\n",
    "x.tabulate(normalize=True)"
   ]
  },
  {
   "cell_type": "markdown",
   "metadata": {},
   "source": [
    "### d)\n",
    "\n",
    "Display the approximate distribution of $X$ in a plot."
   ]
  },
  {
   "cell_type": "code",
   "execution_count": 35,
   "metadata": {},
   "outputs": [
    {
     "data": {
      "image/png": "[encoded data removed]",
      "text/plain": [
       "<Figure size 432x288 with 1 Axes>"
      ]
     },
     "metadata": {},
     "output_type": "display_data"
    }
   ],
   "source": [
    "x.plot()"
   ]
  },
  {
   "cell_type": "markdown",
   "metadata": {},
   "source": [
    "### e)\n",
    "\n",
    "Use the simulation results to estimate $P(X > 40)$.  Enter the appropriate Symbulate commands below; don't just use the above table and a calculator.  ([Hints](https://dlsun.github.io/symbulate/sim.html#recap).)"
   ]
  },
  {
   "cell_type": "code",
   "execution_count": 36,
   "metadata": {},
   "outputs": [
    {
     "data": {
      "text/plain": [
       "0.1443"
      ]
     },
     "execution_count": 36,
     "metadata": {},
     "output_type": "execute_result"
    }
   ],
   "source": [
    "x.count_gt(40) / 10000"
   ]
  },
  {
   "cell_type": "markdown",
   "metadata": {},
   "source": [
    "### f)\n",
    "\n",
    "Approximate $E(X)$."
   ]
  },
  {
   "cell_type": "code",
   "execution_count": 37,
   "metadata": {},
   "outputs": [
    {
     "data": {
      "text/plain": [
       "29.3386"
      ]
     },
     "execution_count": 37,
     "metadata": {},
     "output_type": "execute_result"
    }
   ],
   "source": [
    "x.mean()"
   ]
  },
  {
   "cell_type": "markdown",
   "metadata": {},
   "source": [
    "### g)\n",
    "\n",
    "Approximate $\\text{Var}(Y)$ and $\\text{SD}(Y)$."
   ]
  },
  {
   "cell_type": "code",
   "execution_count": 38,
   "metadata": {},
   "outputs": [
    {
     "data": {
      "text/plain": [
       "(125.96715004, 11.223508811419004)"
      ]
     },
     "execution_count": 38,
     "metadata": {},
     "output_type": "execute_result"
    }
   ],
   "source": [
    "x.var(), x.sd()"
   ]
  },
  {
   "cell_type": "markdown",
   "metadata": {},
   "source": [
    "### h) \n",
    "\n",
    "Write a few sentences describing the distribution of $X$."
   ]
  },
  {
   "cell_type": "markdown",
   "metadata": {},
   "source": [
    "## Submission Instructions\n",
    "\n",
    "- After you have completed the notebook, in Jupyter select Kernel > Restart kernel and run all cells.\n",
    "- After the notebook finishes rerunning check to make sure that you have no errors and everything runs properly.  Fix any problems and redo this step until it works.\n",
    "- Make sure your type your name(s) at the top of the notebook where it says \"Type your name(s) here\".  If you worked in a team, you will submit a single notebook with both names; make sure both names are included\n",
    "- In Jupyter, select File > Export Notebook as/Download as) > PDF. This will save your completed notebook as a PDF file. \n",
    "- Submit your PDF file in PL.  Remember, only one submission per team."
   ]
  },
  {
   "cell_type": "code",
   "execution_count": null,
   "metadata": {},
   "outputs": [],
   "source": []
  }
 ],
 "metadata": {
  "kernelspec": {
   "display_name": "Python 3",
   "language": "python",
   "name": "python3"
  },
  "language_info": {
   "codemirror_mode": {
    "name": "ipython",
    "version": 3
   },
   "file_extension": ".py",
   "mimetype": "text/x-python",
   "name": "python",
   "nbconvert_exporter": "python",
   "pygments_lexer": "ipython3",
   "version": "3.6.6"
  }
 },
 "nbformat": 4,
 "nbformat_minor": 2
}
