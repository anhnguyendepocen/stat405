{
 "cells": [
  {
   "cell_type": "markdown",
   "metadata": {},
   "source": [
    "# Stat 305 HW4 - Part II: Symbulate"
   ]
  },
  {
   "cell_type": "markdown",
   "metadata": {},
   "source": [
    "**You may work in teams of 2, submitting one notebook per team.**"
   ]
  },
  {
   "cell_type": "markdown",
   "metadata": {},
   "source": [
    "**TYPE YOUR NAME(S) HERE**"
   ]
  },
  {
   "cell_type": "markdown",
   "metadata": {},
   "source": [
    "## Instructions\n",
    "\n",
    "This Jupyter notebook provides a template for you to fill in.  Read the notebook from start to finish, completing the parts as indicated.  To run a cell, make sure the cell is highlighted by clicking on it, then press SHIFT + ENTER on your keyboard.  (Alternatively, you can click the \"play\" button in the toolbar above.)"
   ]
  },
  {
   "cell_type": "markdown",
   "metadata": {},
   "source": [
    "In this lab you will use the Symbulate package.  You have previously seen most of the commands that you will use, but remember to refer to the [documentation](https://dlsun.github.io/symbulate/index.html) for help.   In particular, read the documentation on [Normal distributions](https://dlsun.github.io/symbulate/common_continuous.html#normal), the [standardize method](https://dlsun.github.io/symbulate/rv.html#standardize), and the [`**` (exponentiation) notation](https://dlsun.github.io/symbulate/probspace.html#Independent-probability-spaces) for drawing multiple values independently from a distribution.  Also see in JupyterHub the Examples corresponding to the Handouts. \n",
    "\n",
    "**You should use only use Symbulate commands, not general Python code.** If you find yourself writing long blocks of Python code, you are probably doing something wrong.  For example, you should not need to write any `for` loops.\n",
    "\n",
    "Some code has already been provided.  Be sure to run this code and view the output to undestand what it does.  In other parts, you will need to provide the code yourself; use the examples provided and the links as a guide. "
   ]
  },
  {
   "cell_type": "code",
   "execution_count": 1,
   "metadata": {},
   "outputs": [],
   "source": [
    "from symbulate import *\n",
    "%matplotlib inline"
   ]
  },
  {
   "cell_type": "markdown",
   "metadata": {},
   "source": [
    "## Objective\n",
    "\n",
    "Completing this lab will help you see how continuous random variables can be simulated, and will also help you prepare for our discussion of the Central Limit Theorem."
   ]
  },
  {
   "cell_type": "markdown",
   "metadata": {},
   "source": [
    "## Setup\n",
    "\n",
    "A random sample of $n$ customers at the Avenue is selected.  Let $\\bar{X}$ represent the mean dollar amount spent by the $n$ customers in the sample.  In this lab, you will investigate the distribution of $\\bar{X}$: how does the mean dollar amount spent vary over many samples of size $n$?\n",
    "\n",
    "Each of the parts assumes a different distribution for dollar amounts spent by individual customers.  Within each part you will investigate how the distribution of the sample mean changes as the sample size increases.\n",
    "\n",
    "In each simulation, you should first define a probability space so that an outcome represents the $n$ individual dollar amounts spent by the customers in a random sample.  You can assume the dollar amounts spent are independent from customer to customer, and each is amount is drawn from the specified distribution.  (We say that the dollar amounts in a random sample are **independent and identically distributed (i.i.d.)**)\n",
    "\n",
    "In much of this lab, you will only need to make small modifications from question to question.  But do make sure you take time to think about the output of each part before moving on.  In particular, be sure to note the scale on the horizontal axis on your plots.\n",
    "\n",
    "You will run a simulation for each question, but there are some parts for which you should be able to derive the distribution analytically.  You are encouraged to do this outside of class for practice.\n",
    "\n",
    "Some of the simulations will take some a minute or two to run, especially for the larger values of $n$, so please be patient.  You might want to run `.sim(10)` first to make sure your code works, and then you can change to `.sim(10000)`."
   ]
  },
  {
   "cell_type": "markdown",
   "metadata": {},
   "source": [
    "## Part I\n",
    "\n",
    "Assume dollar amounts spent by individual customers can be modeled with a Normal distribution with mean 6.50 and standard deviation 1.71."
   ]
  },
  {
   "cell_type": "markdown",
   "metadata": {},
   "source": [
    "## a) (This part has been completed for you, but run and review the code and use it as a guide for remaining parts.)\n",
    "\n",
    "First assume just a single customer is selected at random, and let $X$ represent the dollar amount spent.  Use simulation to:\n",
    "\n",
    "- Plot the approximate distribution of $X$\n",
    "- Estimate its expected value and standard deviation\n",
    "- Estimate the probability that $X$ is more than 2 standard deviations greater than its expected value."
   ]
  },
  {
   "cell_type": "code",
   "execution_count": 2,
   "metadata": {},
   "outputs": [],
   "source": [
    "# Type all of your code for this problem in this cell.\n",
    "# Feel free to add additional cells for scratch work, but they will not be graded."
   ]
  },
  {
   "cell_type": "code",
   "execution_count": 3,
   "metadata": {},
   "outputs": [
    {
     "data": {
      "text/plain": [
       "(6.49122002813637, 1.7092131619435127, 0.0244)"
      ]
     },
     "execution_count": 3,
     "metadata": {},
     "output_type": "execute_result"
    },
    {
     "data": {
      "image/png": "[encoded data removed]",
      "text/plain": [
       "<Figure size 432x288 with 1 Axes>"
      ]
     },
     "metadata": {},
     "output_type": "display_data"
    }
   ],
   "source": [
    "P = Normal(mean=6.50, sd=1.71)\n",
    "X = RV(P)\n",
    "x = X.sim(10000)\n",
    "x.plot()\n",
    "x.mean(), x.sd(), x.standardize().count_gt(Vector(2)) / 10000 ### `Vector` is only needed due to a bug that hasn't yet been fixed"
   ]
  },
  {
   "cell_type": "markdown",
   "metadata": {},
   "source": [
    "## b) (This part has been completed for you, but review the code and use it as a guide for remaining parts.)\n",
    "\n",
    "Now $n=2$ customers are selected at random, and $\\bar{X}$ represents the mean dollar amount spent for the two customers.  Use simulation to:\n",
    "\n",
    "- Plot the approximate distribution of $\\bar{X}$\n",
    "- Estimate its expected value and standard deviation\n",
    "- Estimate the probability that $\\bar{X}$ is more than 2 standard deviations greater than its expected value."
   ]
  },
  {
   "cell_type": "code",
   "execution_count": 4,
   "metadata": {},
   "outputs": [],
   "source": [
    "# Type all of your code for this problem in this cell.\n",
    "# Feel free to add additional cells for scratch work, but they will not be graded."
   ]
  },
  {
   "cell_type": "code",
   "execution_count": 5,
   "metadata": {},
   "outputs": [
    {
     "data": {
      "text/plain": [
       "(6.49594165955678, 1.215043291873481, 0.0268)"
      ]
     },
     "execution_count": 5,
     "metadata": {},
     "output_type": "execute_result"
    },
    {
     "data": {
      "image/png": "[encoded data removed]",
      "text/plain": [
       "<Figure size 432x288 with 1 Axes>"
      ]
     },
     "metadata": {},
     "output_type": "display_data"
    }
   ],
   "source": [
    "P = Normal(mean=6.50, sd=1.71) ** 2\n",
    "X = RV(P, mean)\n",
    "x = X.sim(10000)\n",
    "x.plot()\n",
    "x.mean(), x.sd(), x.standardize().count_gt(Vector(2)) / 10000 ### `Vector` is only needed due to a bug that hasn't yet been fixed"
   ]
  },
  {
   "cell_type": "markdown",
   "metadata": {},
   "source": [
    "## c)\n",
    "\n",
    "Repeat part b) with $n=5$"
   ]
  },
  {
   "cell_type": "code",
   "execution_count": 6,
   "metadata": {},
   "outputs": [],
   "source": [
    "# Type all of your code for this problem in this cell.\n",
    "# Feel free to add additional cells for scratch work, but they will not be graded."
   ]
  },
  {
   "cell_type": "code",
   "execution_count": 7,
   "metadata": {},
   "outputs": [
    {
     "data": {
      "text/plain": [
       "(6.488241007242288, 0.7700597961685252, 0.0221)"
      ]
     },
     "execution_count": 7,
     "metadata": {},
     "output_type": "execute_result"
    },
    {
     "data": {
      "image/png": "[encoded data removed]",
      "text/plain": [
       "<Figure size 432x288 with 1 Axes>"
      ]
     },
     "metadata": {},
     "output_type": "display_data"
    }
   ],
   "source": [
    "P = Normal(mean=6.50, sd=1.71) ** 5\n",
    "X = RV(P, mean)\n",
    "x = X.sim(10000)\n",
    "x.plot()\n",
    "x.mean(), x.sd(), x.standardize().count_gt(Vector(2)) / 10000"
   ]
  },
  {
   "cell_type": "markdown",
   "metadata": {},
   "source": [
    "## d)\n",
    "\n",
    "Repeat part b) with $n=30$"
   ]
  },
  {
   "cell_type": "code",
   "execution_count": 8,
   "metadata": {},
   "outputs": [],
   "source": [
    "# Type all of your code for this problem in this cell.\n",
    "# Feel free to add additional cells for scratch work, but they will not be graded."
   ]
  },
  {
   "cell_type": "code",
   "execution_count": 9,
   "metadata": {},
   "outputs": [
    {
     "data": {
      "text/plain": [
       "(6.5010895425170325, 0.31310237514589206, 0.0242)"
      ]
     },
     "execution_count": 9,
     "metadata": {},
     "output_type": "execute_result"
    },
    {
     "data": {
      "image/png": "[encoded data removed]",
      "text/plain": [
       "<Figure size 432x288 with 1 Axes>"
      ]
     },
     "metadata": {},
     "output_type": "display_data"
    }
   ],
   "source": [
    "P = Normal(mean=6.50, sd=1.71) ** 30\n",
    "X = RV(P, mean)\n",
    "x = X.sim(10000)\n",
    "x.plot()\n",
    "x.mean(), x.sd(), x.standardize().count_gt(Vector(2)) / 10000"
   ]
  },
  {
   "cell_type": "markdown",
   "metadata": {},
   "source": [
    "## e)\n",
    "\n",
    "Repeat part b) with $n=100$"
   ]
  },
  {
   "cell_type": "code",
   "execution_count": 10,
   "metadata": {},
   "outputs": [],
   "source": [
    "# Type all of your code for this problem in this cell.\n",
    "# Feel free to add additional cells for scratch work, but they will not be graded."
   ]
  },
  {
   "cell_type": "code",
   "execution_count": 11,
   "metadata": {},
   "outputs": [
    {
     "data": {
      "text/plain": [
       "(6.500809930397424, 0.17253507853706604, 0.0235)"
      ]
     },
     "execution_count": 11,
     "metadata": {},
     "output_type": "execute_result"
    },
    {
     "data": {
      "image/png": "[encoded data removed]",
      "text/plain": [
       "<Figure size 432x288 with 1 Axes>"
      ]
     },
     "metadata": {},
     "output_type": "display_data"
    }
   ],
   "source": [
    "P = Normal(mean=6.50, sd=1.71) ** 100\n",
    "X = RV(P, mean)\n",
    "x = X.sim(10000)\n",
    "x.plot()\n",
    "x.mean(), x.sd(), x.standardize().count_gt(Vector(2)) / 10000"
   ]
  },
  {
   "cell_type": "markdown",
   "metadata": {},
   "source": [
    "## f)\n",
    "\n",
    "How does increasing the sample size $n$ affect the distribution of $\\bar{X}$? Comment on (1) expected value (\"center\"), (2) standard deviation (\"variability\"), and (3) shape, in particular the probability that $\\bar{X}$ is more than 2 standard deviations above its expected value."
   ]
  },
  {
   "cell_type": "markdown",
   "metadata": {},
   "source": [
    "**TYPE YOUR RESPONSE HERE.**"
   ]
  },
  {
   "cell_type": "markdown",
   "metadata": {},
   "source": [
    "- When population distribution is Normal, distribution of $\\bar{X}$ is Normal for any $n$\n",
    "- As $n$ increases, SD decreases as $\\sqrt{n}$"
   ]
  },
  {
   "cell_type": "markdown",
   "metadata": {},
   "source": [
    "## Part II\n",
    "\n",
    "Assume the dollar amount spent by any individual customer is equally likely to be 4, 5, 6, 7, 8, or 9."
   ]
  },
  {
   "cell_type": "markdown",
   "metadata": {},
   "source": [
    "## a)\n",
    "\n",
    "First assume just a single customer is selected at random, and let $X$ represent the dollar amount spent.  Use simulation to:\n",
    "\n",
    "- Plot the approximate distribution of $X$\n",
    "- Estimate its expected value and standard deviation\n",
    "- **This one is a little different here than in other parts.** Given the expected value and standard deviation, verifty that the probability that $X$ is more than 2 standard deviations greater than its expected value is 0.  (There is a bug in the count functions that returns an error instead of a count of 0; otherwise you could do this just like in the other problems.)"
   ]
  },
  {
   "cell_type": "code",
   "execution_count": 12,
   "metadata": {},
   "outputs": [],
   "source": [
    "# Type all of your code for this problem in this cell.\n",
    "# Feel free to add additional cells for scratch work, but they will not be graded."
   ]
  },
  {
   "cell_type": "code",
   "execution_count": 13,
   "metadata": {},
   "outputs": [
    {
     "data": {
      "text/plain": [
       "(6.5155, 1.7100759486057922)"
      ]
     },
     "execution_count": 13,
     "metadata": {},
     "output_type": "execute_result"
    },
    {
     "data": {
      "image/png": "[encoded data removed]",
      "text/plain": [
       "<Figure size 432x288 with 1 Axes>"
      ]
     },
     "metadata": {},
     "output_type": "display_data"
    }
   ],
   "source": [
    "P = BoxModel([4, 5, 6, 7, 8, 9])\n",
    "X = RV(P)\n",
    "x = X.sim(10000)\n",
    "x.plot()\n",
    "x.mean(), x.sd() #, x.standardize().count_gt(Vector(2)) / 10000"
   ]
  },
  {
   "cell_type": "markdown",
   "metadata": {},
   "source": [
    "## b)\n",
    "\n",
    "Now $n=2$ customers are selected at random, and $\\bar{X}$ represents the mean dollar amount spent for the two customers.  Use simulation to:\n",
    "\n",
    "- Plot the approximate distribution of $\\bar{X}$\n",
    "- Estimate its expected value and standard deviation\n",
    "- Estimate the probability that $\\bar{X}$ is more than 2 standard deviations greater than its expected value."
   ]
  },
  {
   "cell_type": "code",
   "execution_count": 14,
   "metadata": {},
   "outputs": [],
   "source": [
    "# Type all of your code for this problem in this cell.\n",
    "# Feel free to add additional cells for scratch work, but they will not be graded."
   ]
  },
  {
   "cell_type": "code",
   "execution_count": 15,
   "metadata": {},
   "outputs": [
    {
     "data": {
      "text/plain": [
       "(6.50725, 1.2126303795881086, 0.0272)"
      ]
     },
     "execution_count": 15,
     "metadata": {},
     "output_type": "execute_result"
    },
    {
     "data": {
      "image/png": "[encoded data removed]",
      "text/plain": [
       "<Figure size 432x288 with 1 Axes>"
      ]
     },
     "metadata": {},
     "output_type": "display_data"
    }
   ],
   "source": [
    "P = BoxModel([4, 5, 6, 7, 8, 9]) ** 2\n",
    "X = RV(P, mean)\n",
    "x = X.sim(10000)\n",
    "x.plot()\n",
    "x.mean(), x.sd(), x.standardize().count_gt(Vector(2)) / 10000"
   ]
  },
  {
   "cell_type": "markdown",
   "metadata": {},
   "source": [
    "## c)\n",
    "\n",
    "Repeat part b) with $n=5$"
   ]
  },
  {
   "cell_type": "code",
   "execution_count": 16,
   "metadata": {},
   "outputs": [],
   "source": [
    "# Type all of your code for this problem in this cell.\n",
    "# Feel free to add additional cells for scratch work, but they will not be graded."
   ]
  },
  {
   "cell_type": "code",
   "execution_count": 17,
   "metadata": {},
   "outputs": [
    {
     "data": {
      "text/plain": [
       "(6.5026600000000006, 0.7648953682694124, 0.0181)"
      ]
     },
     "execution_count": 17,
     "metadata": {},
     "output_type": "execute_result"
    },
    {
     "data": {
      "image/png": "[encoded data removed]",
      "text/plain": [
       "<Figure size 432x288 with 1 Axes>"
      ]
     },
     "metadata": {},
     "output_type": "display_data"
    }
   ],
   "source": [
    "P = BoxModel([4, 5, 6, 7, 8, 9]) ** 5\n",
    "X = RV(P, mean)\n",
    "x = X.sim(10000)\n",
    "x.plot()\n",
    "x.mean(), x.sd(), x.standardize().count_gt(Vector(2)) / 10000"
   ]
  },
  {
   "cell_type": "markdown",
   "metadata": {},
   "source": [
    "## d)\n",
    "\n",
    "Repeat part b) with $n=30$"
   ]
  },
  {
   "cell_type": "code",
   "execution_count": 18,
   "metadata": {},
   "outputs": [],
   "source": [
    "# Type all of your code for this problem in this cell.\n",
    "# Feel free to add additional cells for scratch work, but they will not be graded."
   ]
  },
  {
   "cell_type": "code",
   "execution_count": 19,
   "metadata": {},
   "outputs": [
    {
     "data": {
      "text/plain": [
       "(6.4993, 0.3134956299535928, 0.0216)"
      ]
     },
     "execution_count": 19,
     "metadata": {},
     "output_type": "execute_result"
    },
    {
     "data": {
      "image/png": "[encoded data removed]",
      "text/plain": [
       "<Figure size 432x288 with 1 Axes>"
      ]
     },
     "metadata": {},
     "output_type": "display_data"
    }
   ],
   "source": [
    "P = BoxModel([4, 5, 6, 7, 8, 9]) ** 30\n",
    "X = RV(P, mean)\n",
    "x = X.sim(10000)\n",
    "x.plot()\n",
    "x.mean(), x.sd(), x.standardize().count_gt(Vector(2)) / 10000"
   ]
  },
  {
   "cell_type": "markdown",
   "metadata": {},
   "source": [
    "## e)\n",
    "\n",
    "Repeat part b) with $n=100$"
   ]
  },
  {
   "cell_type": "code",
   "execution_count": 20,
   "metadata": {},
   "outputs": [],
   "source": [
    "# Type all of your code for this problem in this cell.\n",
    "# Feel free to add additional cells for scratch work, but they will not be graded."
   ]
  },
  {
   "cell_type": "code",
   "execution_count": 21,
   "metadata": {},
   "outputs": [
    {
     "data": {
      "text/plain": [
       "(6.499553, 0.16917691979404284, 0.0221)"
      ]
     },
     "execution_count": 21,
     "metadata": {},
     "output_type": "execute_result"
    },
    {
     "data": {
      "image/png": "[encoded data removed]",
      "text/plain": [
       "<Figure size 432x288 with 1 Axes>"
      ]
     },
     "metadata": {},
     "output_type": "display_data"
    }
   ],
   "source": [
    "P = BoxModel([4, 5, 6, 7, 8, 9]) ** 100\n",
    "X = RV(P, mean)\n",
    "x = X.sim(10000)\n",
    "x.plot()\n",
    "x.mean(), x.sd(), x.standardize().count_gt(Vector(2)) / 10000"
   ]
  },
  {
   "cell_type": "markdown",
   "metadata": {},
   "source": [
    "## f)\n",
    "\n",
    "How does increasing the sample size $n$ affect the distribution of $\\bar{X}$? Comment on (1) expected value (\"center\"), (2) standard deviation (\"variability\"), and (3) shape, in particular the probability that $\\bar{X}$ is more than 2 standard deviations above its expected value."
   ]
  },
  {
   "cell_type": "markdown",
   "metadata": {},
   "source": [
    "**TYPE YOUR RESPONSE HERE.**"
   ]
  },
  {
   "cell_type": "markdown",
   "metadata": {},
   "source": [
    "- Distribution of $\\bar{X}$ becomes more Normal as $n$ increases\n",
    "- As $n$ increases, SD decreases as $\\sqrt{n}$"
   ]
  },
  {
   "cell_type": "markdown",
   "metadata": {},
   "source": [
    "## Part III\n",
    "\n",
    "Assume the dollar amount spent by any individual customer has an Exponential distribution with mean 6.50"
   ]
  },
  {
   "cell_type": "markdown",
   "metadata": {},
   "source": [
    "## a)\n",
    "\n",
    "First assume just a single customer is selected at random, and let $X$ represent the dollar amount spent.  Use simulation to:\n",
    "\n",
    "- Plot the approximate distribution of $X$\n",
    "- Estimate its expected value and standard deviation\n",
    "- Estimate the probability that $X$ is more than 2 standard deviations greater than its expected value."
   ]
  },
  {
   "cell_type": "code",
   "execution_count": 22,
   "metadata": {},
   "outputs": [],
   "source": [
    "# Type all of your code for this problem in this cell.\n",
    "# Feel free to add additional cells for scratch work, but they will not be graded."
   ]
  },
  {
   "cell_type": "code",
   "execution_count": 23,
   "metadata": {},
   "outputs": [
    {
     "data": {
      "text/plain": [
       "(6.553123310129278, 6.522940839998698, 0.0517)"
      ]
     },
     "execution_count": 23,
     "metadata": {},
     "output_type": "execute_result"
    },
    {
     "data": {
      "image/png": "[encoded data removed]",
      "text/plain": [
       "<Figure size 432x288 with 1 Axes>"
      ]
     },
     "metadata": {},
     "output_type": "display_data"
    }
   ],
   "source": [
    "P = Exponential(rate=1/6.50)\n",
    "X = RV(P)\n",
    "x = X.sim(10000)\n",
    "x.plot()\n",
    "x.mean(), x.sd(), x.standardize().count_gt(Vector(2)) / 10000"
   ]
  },
  {
   "cell_type": "markdown",
   "metadata": {},
   "source": [
    "## b)\n",
    "\n",
    "Now $n=2$ customers are selected at random, and $\\bar{X}$ represents the mean dollar amount spent for the two customers.  Use simulation to:\n",
    "\n",
    "- Plot the approximate distribution of $\\bar{X}$\n",
    "- Estimate its expected value and standard deviation\n",
    "- Estimate the probability that $\\bar{X}$ is more than 2 standard deviations greater than its expected value."
   ]
  },
  {
   "cell_type": "code",
   "execution_count": 24,
   "metadata": {},
   "outputs": [],
   "source": [
    "# Type all of your code for this problem in this cell.\n",
    "# Feel free to add additional cells for scratch work, but they will not be graded."
   ]
  },
  {
   "cell_type": "code",
   "execution_count": 25,
   "metadata": {},
   "outputs": [
    {
     "data": {
      "text/plain": [
       "(6.450922242663615, 4.529915326452331, 0.0469)"
      ]
     },
     "execution_count": 25,
     "metadata": {},
     "output_type": "execute_result"
    },
    {
     "data": {
      "image/png": "[encoded data removed]",
      "text/plain": [
       "<Figure size 432x288 with 1 Axes>"
      ]
     },
     "metadata": {},
     "output_type": "display_data"
    }
   ],
   "source": [
    "P =  Exponential(rate=1/6.50) ** 2\n",
    "X = RV(P, mean)\n",
    "x = X.sim(10000)\n",
    "x.plot()\n",
    "x.mean(), x.sd(), x.standardize().count_gt(Vector(2)) / 10000"
   ]
  },
  {
   "cell_type": "markdown",
   "metadata": {},
   "source": [
    "## c)\n",
    "\n",
    "Repeat part b) with $n=5$"
   ]
  },
  {
   "cell_type": "code",
   "execution_count": 26,
   "metadata": {},
   "outputs": [],
   "source": [
    "# Type all of your code for this problem in this cell.\n",
    "# Feel free to add additional cells for scratch work, but they will not be graded."
   ]
  },
  {
   "cell_type": "code",
   "execution_count": 27,
   "metadata": {},
   "outputs": [
    {
     "data": {
      "text/plain": [
       "(6.46568234959359, 2.8738635716706047, 0.0418)"
      ]
     },
     "execution_count": 27,
     "metadata": {},
     "output_type": "execute_result"
    },
    {
     "data": {
      "image/png": "[encoded data removed]",
      "text/plain": [
       "<Figure size 432x288 with 1 Axes>"
      ]
     },
     "metadata": {},
     "output_type": "display_data"
    }
   ],
   "source": [
    "P =  Exponential(rate=1/6.50) ** 5\n",
    "X = RV(P, mean)\n",
    "x = X.sim(10000)\n",
    "x.plot()\n",
    "x.mean(), x.sd(), x.standardize().count_gt(Vector(2)) / 10000"
   ]
  },
  {
   "cell_type": "markdown",
   "metadata": {},
   "source": [
    "## d)\n",
    "\n",
    "Repeat part b) with $n=30$"
   ]
  },
  {
   "cell_type": "code",
   "execution_count": 28,
   "metadata": {},
   "outputs": [],
   "source": [
    "# Type all of your code for this problem in this cell.\n",
    "# Feel free to add additional cells for scratch work, but they will not be graded."
   ]
  },
  {
   "cell_type": "code",
   "execution_count": 29,
   "metadata": {},
   "outputs": [
    {
     "data": {
      "text/plain": [
       "(6.485327736569211, 1.1848502049190133, 0.0317)"
      ]
     },
     "execution_count": 29,
     "metadata": {},
     "output_type": "execute_result"
    },
    {
     "data": {
      "image/png": "[encoded data removed]",
      "text/plain": [
       "<Figure size 432x288 with 1 Axes>"
      ]
     },
     "metadata": {},
     "output_type": "display_data"
    }
   ],
   "source": [
    "P =  Exponential(rate=1/6.50) ** 30\n",
    "X = RV(P, mean)\n",
    "x = X.sim(10000)\n",
    "x.plot()\n",
    "x.mean(), x.sd(), x.standardize().count_gt(Vector(2)) / 10000"
   ]
  },
  {
   "cell_type": "markdown",
   "metadata": {},
   "source": [
    "## e)\n",
    "\n",
    "Repeat part b) with $n=100$"
   ]
  },
  {
   "cell_type": "code",
   "execution_count": 30,
   "metadata": {},
   "outputs": [],
   "source": [
    "# Type all of your code for this problem in this cell.\n",
    "# Feel free to add additional cells for scratch work, but they will not be graded."
   ]
  },
  {
   "cell_type": "code",
   "execution_count": 31,
   "metadata": {},
   "outputs": [
    {
     "data": {
      "text/plain": [
       "(6.500361181629209, 0.6474906348241766, 0.0267)"
      ]
     },
     "execution_count": 31,
     "metadata": {},
     "output_type": "execute_result"
    },
    {
     "data": {
      "image/png": "[encoded data removed]",
      "text/plain": [
       "<Figure size 432x288 with 1 Axes>"
      ]
     },
     "metadata": {},
     "output_type": "display_data"
    }
   ],
   "source": [
    "P =  Exponential(rate=1/6.50) ** 100\n",
    "X = RV(P, mean)\n",
    "x = X.sim(10000)\n",
    "x.plot()\n",
    "x.mean(), x.sd(), x.standardize().count_gt(Vector(2)) / 10000"
   ]
  },
  {
   "cell_type": "markdown",
   "metadata": {},
   "source": [
    "## f)\n",
    "\n",
    "How does increasing the sample size $n$ affect the distribution of $\\bar{X}$? Comment on (1) expected value (\"center\"), (2) standard deviation (\"variability\"), and (3) shape, in particular the probability that $\\bar{X}$ is more than 2 standard deviations above its expected value."
   ]
  },
  {
   "cell_type": "markdown",
   "metadata": {},
   "source": [
    "**TYPE YOUR RESPONSE HERE.**"
   ]
  },
  {
   "cell_type": "markdown",
   "metadata": {},
   "source": [
    "- Distribution of $\\bar{X}$ becomes more Normal as $n$ increases, though still a little skew with $n=100$\n",
    "- As $n$ increases, SD decreases as $\\sqrt{n}$"
   ]
  },
  {
   "cell_type": "markdown",
   "metadata": {},
   "source": [
    "## Part IV\n",
    "\n",
    "Now suppose that for 99% of the customers, the amounts spent follow the distribution in Part II, but the remaining 1% of customers spend 31 dollars (maybe they treat a few friends to lunch).  (Hint: use a BoxModel.)"
   ]
  },
  {
   "cell_type": "markdown",
   "metadata": {},
   "source": [
    "## a)\n",
    "\n",
    "First assume just a single customer is selected at random, and let $X$ represent the dollar amount spent.  Use simulation to:\n",
    "\n",
    "- Plot the approximate distribution of $X$\n",
    "- Estimate its expected value and standard deviation\n",
    "- Estimate the probability that $X$ is more than 2 standard deviations greater than its expected value."
   ]
  },
  {
   "cell_type": "code",
   "execution_count": 32,
   "metadata": {},
   "outputs": [],
   "source": [
    "# Type all of your code for this problem in this cell.\n",
    "# Feel free to add additional cells for scratch work, but they will not be graded."
   ]
  },
  {
   "cell_type": "code",
   "execution_count": 33,
   "metadata": {},
   "outputs": [
    {
     "data": {
      "text/plain": [
       "(6.6959, 2.9561162341829523, 0.0098)"
      ]
     },
     "execution_count": 33,
     "metadata": {},
     "output_type": "execute_result"
    },
    {
     "data": {
      "image/png": "[encoded data removed]",
      "text/plain": [
       "<Figure size 432x288 with 1 Axes>"
      ]
     },
     "metadata": {},
     "output_type": "display_data"
    }
   ],
   "source": [
    "P = BoxModel([4, 5, 6, 7, 8, 9, 31], probs=[0.99/6, 0.99/6, 0.99/6, 0.99/6, 0.99/6, 0.99/6, 0.01])\n",
    "X = RV(P)\n",
    "x = X.sim(10000)\n",
    "x.plot()\n",
    "x.mean(), x.sd(), x.standardize().count_gt(Vector(2)) / 10000"
   ]
  },
  {
   "cell_type": "markdown",
   "metadata": {},
   "source": [
    "## b)\n",
    "\n",
    "Now $n=2$ customers are selected at random, and $\\bar{X}$ represents the mean dollar amount spent for the two customers.  Use simulation to:\n",
    "\n",
    "- Plot the approximate distribution of $\\bar{X}$\n",
    "- Estimate its expected value and standard deviation\n",
    "- Estimate the probability that $\\bar{X}$ is more than 2 standard deviations greater than its expected value."
   ]
  },
  {
   "cell_type": "code",
   "execution_count": 34,
   "metadata": {},
   "outputs": [],
   "source": [
    "# Type all of your code for this problem in this cell.\n",
    "# Feel free to add additional cells for scratch work, but they will not be graded."
   ]
  },
  {
   "cell_type": "code",
   "execution_count": 35,
   "metadata": {},
   "outputs": [
    {
     "data": {
      "text/plain": [
       "(6.7275, 2.0715076031721438, 0.0186)"
      ]
     },
     "execution_count": 35,
     "metadata": {},
     "output_type": "execute_result"
    },
    {
     "data": {
      "image/png": "[encoded data removed]",
      "text/plain": [
       "<Figure size 432x288 with 1 Axes>"
      ]
     },
     "metadata": {},
     "output_type": "display_data"
    }
   ],
   "source": [
    "P = BoxModel([4, 5, 6, 7, 8, 9, 31], probs=[0.99/6, 0.99/6, 0.99/6, 0.99/6, 0.99/6, 0.99/6, 0.01]) ** 2\n",
    "X = RV(P, mean)\n",
    "x = X.sim(10000)\n",
    "x.plot()\n",
    "x.mean(), x.sd(), x.standardize().count_gt(Vector(2)) / 10000"
   ]
  },
  {
   "cell_type": "markdown",
   "metadata": {},
   "source": [
    "## c)\n",
    "\n",
    "Repeat part b) with $n=5$"
   ]
  },
  {
   "cell_type": "code",
   "execution_count": 36,
   "metadata": {},
   "outputs": [],
   "source": [
    "# Type all of your code for this problem in this cell.\n",
    "# Feel free to add additional cells for scratch work, but they will not be graded."
   ]
  },
  {
   "cell_type": "code",
   "execution_count": 37,
   "metadata": {},
   "outputs": [
    {
     "data": {
      "text/plain": [
       "(6.77106, 1.3510819650931618, 0.0522)"
      ]
     },
     "execution_count": 37,
     "metadata": {},
     "output_type": "execute_result"
    },
    {
     "data": {
      "image/png": "[encoded data removed]",
      "text/plain": [
       "<Figure size 432x288 with 1 Axes>"
      ]
     },
     "metadata": {},
     "output_type": "display_data"
    }
   ],
   "source": [
    "P = BoxModel([4, 5, 6, 7, 8, 9, 31], probs=[0.99/6, 0.99/6, 0.99/6, 0.99/6, 0.99/6, 0.99/6, 0.01]) ** 5\n",
    "X = RV(P, mean)\n",
    "x = X.sim(10000)\n",
    "x.plot()\n",
    "x.mean(), x.sd(), x.standardize().count_gt(Vector(2)) / 10000"
   ]
  },
  {
   "cell_type": "markdown",
   "metadata": {},
   "source": [
    "## d)\n",
    "\n",
    "Repeat part b) with $n=30$"
   ]
  },
  {
   "cell_type": "code",
   "execution_count": 38,
   "metadata": {},
   "outputs": [],
   "source": [
    "# Type all of your code for this problem in this cell.\n",
    "# Feel free to add additional cells for scratch work, but they will not be graded."
   ]
  },
  {
   "cell_type": "code",
   "execution_count": 39,
   "metadata": {},
   "outputs": [
    {
     "data": {
      "text/plain": [
       "(6.743156666666667, 0.5337771610679665, 0.0417)"
      ]
     },
     "execution_count": 39,
     "metadata": {},
     "output_type": "execute_result"
    },
    {
     "data": {
      "image/png": "[encoded data removed]",
      "text/plain": [
       "<Figure size 432x288 with 1 Axes>"
      ]
     },
     "metadata": {},
     "output_type": "display_data"
    }
   ],
   "source": [
    "P = BoxModel([4, 5, 6, 7, 8, 9, 31], probs=[0.99/6, 0.99/6, 0.99/6, 0.99/6, 0.99/6, 0.99/6, 0.01]) ** 30\n",
    "X = RV(P, mean)\n",
    "x = X.sim(10000)\n",
    "x.plot()\n",
    "x.mean(), x.sd(), x.standardize().count_gt(Vector(2)) / 10000"
   ]
  },
  {
   "cell_type": "markdown",
   "metadata": {},
   "source": [
    "## e)\n",
    "\n",
    "Repeat part b) with $n=100$"
   ]
  },
  {
   "cell_type": "code",
   "execution_count": 40,
   "metadata": {},
   "outputs": [
    {
     "data": {
      "text/plain": [
       "(6.746726, 0.3001719189464598, 0.035)"
      ]
     },
     "execution_count": 40,
     "metadata": {},
     "output_type": "execute_result"
    },
    {
     "data": {
      "image/png": "[encoded data removed]",
      "text/plain": [
       "<Figure size 432x288 with 1 Axes>"
      ]
     },
     "metadata": {},
     "output_type": "display_data"
    }
   ],
   "source": [
    "P = BoxModel([4, 5, 6, 7, 8, 9, 31], probs=[0.99/6, 0.99/6, 0.99/6, 0.99/6, 0.99/6, 0.99/6, 0.01]) ** 100\n",
    "X = RV(P, mean)\n",
    "x = X.sim(10000)\n",
    "x.plot()\n",
    "x.mean(), x.sd(), x.standardize().count_gt(Vector(2)) / 10000"
   ]
  },
  {
   "cell_type": "markdown",
   "metadata": {},
   "source": [
    "## f)\n",
    "\n",
    "How does increasing the sample size $n$ affect the distribution of $\\bar{X}$? Comment on (1) expected value (\"center\"), (2) standard deviation (\"variability\"), and (3) shape, in particular the probability that $\\bar{X}$ is more than 2 standard deviations above its expected value."
   ]
  },
  {
   "cell_type": "markdown",
   "metadata": {},
   "source": [
    "**TYPE YOUR RESPONSE HERE.**"
   ]
  },
  {
   "cell_type": "markdown",
   "metadata": {},
   "source": [
    "- Distribution of $\\bar{X}$ becomes more Normal as $n$ increases\n",
    "- But still not Normal for n=30.  Better for n=100 but still a little skew\n",
    "- But outlier has significant effect\n",
    "- As $n$ increases, SD decreases as $\\sqrt{n}$"
   ]
  },
  {
   "cell_type": "markdown",
   "metadata": {},
   "source": [
    "## Part V\n",
    "\n",
    "Review your work from the previous parts.  Write a few sentences summarizing what you have learned about the distribution of the sample mean of a random sample.  Be sure to consider shape, expected value, and standard deviation of the distribution.  Also consider the impact of the population distribution that you started with in each of the Parts."
   ]
  },
  {
   "cell_type": "markdown",
   "metadata": {},
   "source": [
    "**TYPE YOUR RESPONSE HERE.**"
   ]
  },
  {
   "cell_type": "markdown",
   "metadata": {},
   "source": [
    "- Expected value of sample mean is the population mean; means from random samples do not systematically overestimate or underestimate the population mean\n",
    "- SD of sample mean is population SD divided by $\\sqrt{n}$.  As $n$ increases, SD decreases as $\\sqrt{n}$.  Need to quadruple sample size to cut SD in half.\n",
    "- Distribution of $\\bar{X}$ becomes more Normal as $n$ increases\n",
    "- Though how large of an $n$ is large enough for the Normal approximation to be valid depends on the shape of the population distribution.  The closer the population distribution is to Normal, the smaller the $n$ required.\n",
    "- Note that outliers can have a big effect on the distribution of the sample mean.\n",
    "- There is no magic number (i.e. forget \"n=30\")\n"
   ]
  },
  {
   "cell_type": "markdown",
   "metadata": {},
   "source": [
    "## Submission Instructions\n",
    "\n",
    "- After you have completed the notebook, in Jupyter select Kernel > Restart kernel and run all cells.\n",
    "- After the notebook finishes rerunning check to make sure that you have no errors and everything runs properly.  Fix any problems and redo this step until it works.\n",
    "- Make sure your type your name(s) at the top of the notebook where it says \"Type your name(s) here\".  If you worked in a team, you will submit a single notebook with both names; make sure both names are included\n",
    "- In Jupyter, select File > Export Notebook as/Download as) > PDF. This will save your completed notebook as a PDF file. \n",
    "- Submit your PDF file in PL.  Remember, only one submission per team."
   ]
  },
  {
   "cell_type": "code",
   "execution_count": null,
   "metadata": {},
   "outputs": [],
   "source": []
  }
 ],
 "metadata": {
  "kernelspec": {
   "display_name": "Python 3",
   "language": "python",
   "name": "python3"
  },
  "language_info": {
   "codemirror_mode": {
    "name": "ipython",
    "version": 3
   },
   "file_extension": ".py",
   "mimetype": "text/x-python",
   "name": "python",
   "nbconvert_exporter": "python",
   "pygments_lexer": "ipython3",
   "version": "3.6.6"
  }
 },
 "nbformat": 4,
 "nbformat_minor": 2
}
