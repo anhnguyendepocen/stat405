{
 "cells": [
  {
   "cell_type": "code",
   "execution_count": 1,
   "metadata": {},
   "outputs": [],
   "source": [
    "from symbulate import *\n",
    "%matplotlib inline"
   ]
  },
  {
   "cell_type": "code",
   "execution_count": 2,
   "metadata": {},
   "outputs": [
    {
     "data": {
      "text/html": [
       "\n",
       "    <table>\n",
       "      <thead>\n",
       "        <th width=\"10%\">Index</th>\n",
       "        <th width=\"90%\">Result</th>\n",
       "      </thead>\n",
       "      <tbody>\n",
       "        \n",
       "        <tr>\n",
       "          <td>0</td><td>(3, 2)</td>\n",
       "        </tr>\n",
       "        \n",
       "        <tr>\n",
       "          <td>1</td><td>(1, 3)</td>\n",
       "        </tr>\n",
       "        \n",
       "        <tr>\n",
       "          <td>2</td><td>(3, 4)</td>\n",
       "        </tr>\n",
       "        \n",
       "        <tr>\n",
       "          <td>3</td><td>(2, 3)</td>\n",
       "        </tr>\n",
       "        \n",
       "        <tr>\n",
       "          <td>4</td><td>(4, 1)</td>\n",
       "        </tr>\n",
       "        \n",
       "      </tbody>\n",
       "    </table>\n",
       "        "
      ],
      "text/plain": [
       "<symbulate.results.Results at 0x92538d0>"
      ]
     },
     "execution_count": 2,
     "metadata": {},
     "output_type": "execute_result"
    }
   ],
   "source": [
    "P = BoxModel([1, 2, 3, 4], size=2, replace=True)\n",
    "P.sim(5)"
   ]
  },
  {
   "cell_type": "code",
   "execution_count": 3,
   "metadata": {},
   "outputs": [
    {
     "data": {
      "text/html": [
       "\n",
       "<table>\n",
       "  <thead>\n",
       "    <th width=\"80%\">Outcome</th>\n",
       "    <th width=\"20%\">Value</th>\n",
       "  </thead>\n",
       "  <tbody>\n",
       "    <tr><td>(1, 1)</td><td>1025</td></tr><tr><td>(1, 2)</td><td>1027</td></tr><tr><td>(1, 3)</td><td>948</td></tr><tr><td>(1, 4)</td><td>1029</td></tr><tr><td>(2, 1)</td><td>1022</td></tr><tr><td>(2, 2)</td><td>939</td></tr><tr><td>(2, 3)</td><td>965</td></tr><tr><td>(2, 4)</td><td>1017</td></tr><tr><td>(3, 1)</td><td>1003</td></tr><tr><td>(3, 2)</td><td>1024</td></tr><tr><td>(3, 3)</td><td>1001</td></tr><tr><td>(3, 4)</td><td>997</td></tr><tr><td>(4, 1)</td><td>1022</td></tr><tr><td>(4, 2)</td><td>1005</td></tr><tr><td>(4, 3)</td><td>1007</td></tr><tr><td>(4, 4)</td><td>969</td></tr><tr><td><b>Total</b></td><td><b>16000</b></td></tr>\n",
       "  </tbody>\n",
       "</table>\n"
      ],
      "text/plain": [
       "{(1, 1): 1025,\n",
       " (1, 2): 1027,\n",
       " (1, 3): 948,\n",
       " (1, 4): 1029,\n",
       " (2, 1): 1022,\n",
       " (2, 2): 939,\n",
       " (2, 3): 965,\n",
       " (2, 4): 1017,\n",
       " (3, 1): 1003,\n",
       " (3, 2): 1024,\n",
       " (3, 3): 1001,\n",
       " (3, 4): 997,\n",
       " (4, 1): 1022,\n",
       " (4, 2): 1005,\n",
       " (4, 3): 1007,\n",
       " (4, 4): 969}"
      ]
     },
     "execution_count": 3,
     "metadata": {},
     "output_type": "execute_result"
    }
   ],
   "source": [
    "P.sim(16000).tabulate()"
   ]
  },
  {
   "cell_type": "code",
   "execution_count": 4,
   "metadata": {},
   "outputs": [
    {
     "data": {
      "text/html": [
       "\n",
       "<table>\n",
       "  <thead>\n",
       "    <th width=\"80%\">Outcome</th>\n",
       "    <th width=\"20%\">Value</th>\n",
       "  </thead>\n",
       "  <tbody>\n",
       "    <tr><td>(1, 1)</td><td>0.0605</td></tr><tr><td>(1, 2)</td><td>0.0625625</td></tr><tr><td>(1, 3)</td><td>0.0614375</td></tr><tr><td>(1, 4)</td><td>0.059125</td></tr><tr><td>(2, 1)</td><td>0.0598125</td></tr><tr><td>(2, 2)</td><td>0.0613125</td></tr><tr><td>(2, 3)</td><td>0.064375</td></tr><tr><td>(2, 4)</td><td>0.062375</td></tr><tr><td>(3, 1)</td><td>0.0659375</td></tr><tr><td>(3, 2)</td><td>0.06225</td></tr><tr><td>(3, 3)</td><td>0.0609375</td></tr><tr><td>(3, 4)</td><td>0.0665625</td></tr><tr><td>(4, 1)</td><td>0.0628125</td></tr><tr><td>(4, 2)</td><td>0.06275</td></tr><tr><td>(4, 3)</td><td>0.0616875</td></tr><tr><td>(4, 4)</td><td>0.0655625</td></tr><tr><td><b>Total</b></td><td><b>0.9999999999999999</b></td></tr>\n",
       "  </tbody>\n",
       "</table>\n"
      ],
      "text/plain": [
       "{(1, 1): 0.0605,\n",
       " (1, 2): 0.0625625,\n",
       " (1, 3): 0.0614375,\n",
       " (1, 4): 0.059125,\n",
       " (2, 1): 0.0598125,\n",
       " (2, 2): 0.0613125,\n",
       " (2, 3): 0.064375,\n",
       " (2, 4): 0.062375,\n",
       " (3, 1): 0.0659375,\n",
       " (3, 2): 0.06225,\n",
       " (3, 3): 0.0609375,\n",
       " (3, 4): 0.0665625,\n",
       " (4, 1): 0.0628125,\n",
       " (4, 2): 0.06275,\n",
       " (4, 3): 0.0616875,\n",
       " (4, 4): 0.0655625}"
      ]
     },
     "execution_count": 4,
     "metadata": {},
     "output_type": "execute_result"
    }
   ],
   "source": [
    "P.sim(16000).tabulate(normalize=True)"
   ]
  },
  {
   "cell_type": "code",
   "execution_count": 5,
   "metadata": {},
   "outputs": [],
   "source": [
    "P = BoxModel([1, 2, 3, 4], size=2)\n",
    "X = RV(P, sum)\n",
    "Y = RV(P, max)\n",
    "Z = RV(P) # default is identity; will return outcomes"
   ]
  },
  {
   "cell_type": "code",
   "execution_count": 6,
   "metadata": {},
   "outputs": [
    {
     "name": "stdout",
     "output_type": "stream",
     "text": [
      "Warning: Calling an RV as a function simply applies the function that defines the RV to the input, regardless of whether that input is a possible outcome in the underlying probability space.\n",
      "Warning: Calling an RV as a function simply applies the function that defines the RV to the input, regardless of whether that input is a possible outcome in the underlying probability space.\n",
      "Warning: Calling an RV as a function simply applies the function that defines the RV to the input, regardless of whether that input is a possible outcome in the underlying probability space.\n"
     ]
    },
    {
     "data": {
      "text/plain": [
       "(5, 3, (3, 2))"
      ]
     },
     "execution_count": 6,
     "metadata": {},
     "output_type": "execute_result"
    }
   ],
   "source": [
    "outcome = (3,  2)\n",
    "X(outcome), Y(outcome), Z(outcome)"
   ]
  },
  {
   "cell_type": "code",
   "execution_count": 7,
   "metadata": {},
   "outputs": [
    {
     "data": {
      "text/html": [
       "\n",
       "    <table>\n",
       "      <thead>\n",
       "        <th width=\"10%\">Index</th>\n",
       "        <th width=\"90%\">Result</th>\n",
       "      </thead>\n",
       "      <tbody>\n",
       "        \n",
       "        <tr>\n",
       "          <td>0</td><td>6</td>\n",
       "        </tr>\n",
       "        \n",
       "        <tr>\n",
       "          <td>1</td><td>2</td>\n",
       "        </tr>\n",
       "        \n",
       "        <tr>\n",
       "          <td>2</td><td>4</td>\n",
       "        </tr>\n",
       "        \n",
       "        <tr>\n",
       "          <td>3</td><td>6</td>\n",
       "        </tr>\n",
       "        \n",
       "        <tr>\n",
       "          <td>4</td><td>3</td>\n",
       "        </tr>\n",
       "        \n",
       "      </tbody>\n",
       "    </table>\n",
       "        "
      ],
      "text/plain": [
       "<symbulate.results.RVResults at 0x926a6d8>"
      ]
     },
     "execution_count": 7,
     "metadata": {},
     "output_type": "execute_result"
    }
   ],
   "source": [
    "X.sim(5)"
   ]
  },
  {
   "cell_type": "code",
   "execution_count": 8,
   "metadata": {},
   "outputs": [
    {
     "data": {
      "text/html": [
       "\n",
       "<table>\n",
       "  <thead>\n",
       "    <th width=\"80%\">Outcome</th>\n",
       "    <th width=\"20%\">Value</th>\n",
       "  </thead>\n",
       "  <tbody>\n",
       "    <tr><td>2</td><td>932</td></tr><tr><td>3</td><td>2053</td></tr><tr><td>4</td><td>2951</td></tr><tr><td>5</td><td>4049</td></tr><tr><td>6</td><td>2979</td></tr><tr><td>7</td><td>2016</td></tr><tr><td>8</td><td>1020</td></tr><tr><td><b>Total</b></td><td><b>16000</b></td></tr>\n",
       "  </tbody>\n",
       "</table>\n"
      ],
      "text/plain": [
       "{2: 932, 3: 2053, 4: 2951, 5: 4049, 6: 2979, 7: 2016, 8: 1020}"
      ]
     },
     "execution_count": 8,
     "metadata": {},
     "output_type": "execute_result"
    }
   ],
   "source": [
    "x = X.sim(16000)\n",
    "x.tabulate()"
   ]
  },
  {
   "cell_type": "code",
   "execution_count": 9,
   "metadata": {},
   "outputs": [
    {
     "data": {
      "text/plain": [
       "(5.013625, 1.5766069133982004)"
      ]
     },
     "execution_count": 9,
     "metadata": {},
     "output_type": "execute_result"
    },
    {
     "data": {
      "image/png": "[encoded data removed]",
      "text/plain": [
       "<Figure size 432x288 with 1 Axes>"
      ]
     },
     "metadata": {},
     "output_type": "display_data"
    }
   ],
   "source": [
    "x.plot()\n",
    "x.mean(), x.sd()"
   ]
  },
  {
   "cell_type": "code",
   "execution_count": 10,
   "metadata": {},
   "outputs": [
    {
     "data": {
      "text/plain": [
       "(3.128, 0.9228304286270583)"
      ]
     },
     "execution_count": 10,
     "metadata": {},
     "output_type": "execute_result"
    },
    {
     "data": {
      "image/png": "[encoded data removed]",
      "text/plain": [
       "<Figure size 432x288 with 1 Axes>"
      ]
     },
     "metadata": {},
     "output_type": "display_data"
    }
   ],
   "source": [
    "y = Y.sim(10000)\n",
    "y.plot()\n",
    "y.mean(), y.sd()"
   ]
  },
  {
   "cell_type": "code",
   "execution_count": 11,
   "metadata": {},
   "outputs": [
    {
     "data": {
      "text/html": [
       "\n",
       "    <table>\n",
       "      <thead>\n",
       "        <th width=\"10%\">Index</th>\n",
       "        <th width=\"90%\">Result</th>\n",
       "      </thead>\n",
       "      <tbody>\n",
       "        \n",
       "        <tr>\n",
       "          <td>0</td><td>((1, 1), 2, 1)</td>\n",
       "        </tr>\n",
       "        \n",
       "        <tr>\n",
       "          <td>1</td><td>((3, 4), 7, 4)</td>\n",
       "        </tr>\n",
       "        \n",
       "        <tr>\n",
       "          <td>2</td><td>((4, 3), 7, 4)</td>\n",
       "        </tr>\n",
       "        \n",
       "        <tr>\n",
       "          <td>3</td><td>((4, 4), 8, 4)</td>\n",
       "        </tr>\n",
       "        \n",
       "        <tr>\n",
       "          <td>4</td><td>((3, 4), 7, 4)</td>\n",
       "        </tr>\n",
       "        \n",
       "      </tbody>\n",
       "    </table>\n",
       "        "
      ],
      "text/plain": [
       "<symbulate.results.RVResults at 0x958a1d0>"
      ]
     },
     "execution_count": 11,
     "metadata": {},
     "output_type": "execute_result"
    }
   ],
   "source": [
    "(Z & X & Y).sim(5)"
   ]
  },
  {
   "cell_type": "code",
   "execution_count": 12,
   "metadata": {},
   "outputs": [
    {
     "data": {
      "text/html": [
       "\n",
       "<table>\n",
       "  <thead>\n",
       "    <th width=\"80%\">Outcome</th>\n",
       "    <th width=\"20%\">Value</th>\n",
       "  </thead>\n",
       "  <tbody>\n",
       "    <tr><td>(2, 1)</td><td>974</td></tr><tr><td>(3, 2)</td><td>1959</td></tr><tr><td>(4, 2)</td><td>1026</td></tr><tr><td>(4, 3)</td><td>1992</td></tr><tr><td>(5, 3)</td><td>2070</td></tr><tr><td>(5, 4)</td><td>2038</td></tr><tr><td>(6, 3)</td><td>1004</td></tr><tr><td>(6, 4)</td><td>2017</td></tr><tr><td>(7, 4)</td><td>1945</td></tr><tr><td>(8, 4)</td><td>975</td></tr><tr><td><b>Total</b></td><td><b>16000</b></td></tr>\n",
       "  </tbody>\n",
       "</table>\n"
      ],
      "text/plain": [
       "{(2, 1): 974,\n",
       " (3, 2): 1959,\n",
       " (4, 2): 1026,\n",
       " (4, 3): 1992,\n",
       " (5, 3): 2070,\n",
       " (5, 4): 2038,\n",
       " (6, 3): 1004,\n",
       " (6, 4): 2017,\n",
       " (7, 4): 1945,\n",
       " (8, 4): 975}"
      ]
     },
     "execution_count": 12,
     "metadata": {},
     "output_type": "execute_result"
    }
   ],
   "source": [
    "xy = (X & Y).sim(16000)\n",
    "xy.tabulate()"
   ]
  },
  {
   "cell_type": "code",
   "execution_count": 13,
   "metadata": {},
   "outputs": [
    {
     "data": {
      "text/html": [
       "\n",
       "<table>\n",
       "  <thead>\n",
       "    <th width=\"80%\">Outcome</th>\n",
       "    <th width=\"20%\">Value</th>\n",
       "  </thead>\n",
       "  <tbody>\n",
       "    <tr><td>(2, 1)</td><td>0.060875</td></tr><tr><td>(3, 2)</td><td>0.1224375</td></tr><tr><td>(4, 2)</td><td>0.064125</td></tr><tr><td>(4, 3)</td><td>0.1245</td></tr><tr><td>(5, 3)</td><td>0.129375</td></tr><tr><td>(5, 4)</td><td>0.127375</td></tr><tr><td>(6, 3)</td><td>0.06275</td></tr><tr><td>(6, 4)</td><td>0.1260625</td></tr><tr><td>(7, 4)</td><td>0.1215625</td></tr><tr><td>(8, 4)</td><td>0.0609375</td></tr><tr><td><b>Total</b></td><td><b>0.9999999999999999</b></td></tr>\n",
       "  </tbody>\n",
       "</table>\n"
      ],
      "text/plain": [
       "{(2, 1): 0.060875,\n",
       " (3, 2): 0.1224375,\n",
       " (4, 2): 0.064125,\n",
       " (4, 3): 0.1245,\n",
       " (5, 3): 0.129375,\n",
       " (5, 4): 0.127375,\n",
       " (6, 3): 0.06275,\n",
       " (6, 4): 0.1260625,\n",
       " (7, 4): 0.1215625,\n",
       " (8, 4): 0.0609375}"
      ]
     },
     "execution_count": 13,
     "metadata": {},
     "output_type": "execute_result"
    }
   ],
   "source": [
    "xy.tabulate(normalize=True)"
   ]
  },
  {
   "cell_type": "code",
   "execution_count": 14,
   "metadata": {},
   "outputs": [
    {
     "data": {
      "image/png": "[encoded data removed]",
      "text/plain": [
       "<Figure size 432x288 with 1 Axes>"
      ]
     },
     "metadata": {},
     "output_type": "display_data"
    }
   ],
   "source": [
    "xy.plot(jitter=True)"
   ]
  },
  {
   "cell_type": "code",
   "execution_count": 15,
   "metadata": {},
   "outputs": [
    {
     "data": {
      "image/png": "[encoded data removed]",
      "text/plain": [
       "<Figure size 432x288 with 2 Axes>"
      ]
     },
     "metadata": {},
     "output_type": "display_data"
    }
   ],
   "source": [
    "xy.plot('tile')"
   ]
  },
  {
   "cell_type": "code",
   "execution_count": 16,
   "metadata": {},
   "outputs": [
    {
     "data": {
      "image/png": "[encoded data removed]",
      "text/plain": [
       "<Figure size 432x288 with 4 Axes>"
      ]
     },
     "metadata": {},
     "output_type": "display_data"
    }
   ],
   "source": [
    "xy.plot(['tile', 'marginal'])"
   ]
  },
  {
   "cell_type": "code",
   "execution_count": 17,
   "metadata": {},
   "outputs": [
    {
     "data": {
      "text/html": [
       "\n",
       "<table>\n",
       "  <thead>\n",
       "    <th width=\"80%\">Outcome</th>\n",
       "    <th width=\"20%\">Value</th>\n",
       "  </thead>\n",
       "  <tbody>\n",
       "    <tr><td>3</td><td>3346</td></tr><tr><td>4</td><td>6654</td></tr><tr><td><b>Total</b></td><td><b>10000</b></td></tr>\n",
       "  </tbody>\n",
       "</table>\n"
      ],
      "text/plain": [
       "{3: 3346, 4: 6654}"
      ]
     },
     "execution_count": 17,
     "metadata": {},
     "output_type": "execute_result"
    }
   ],
   "source": [
    "(Y | (X == 6) ).sim(10000).tabulate()"
   ]
  },
  {
   "cell_type": "code",
   "execution_count": 18,
   "metadata": {},
   "outputs": [
    {
     "data": {
      "text/plain": [
       "3.6717"
      ]
     },
     "execution_count": 18,
     "metadata": {},
     "output_type": "execute_result"
    },
    {
     "data": {
      "image/png": "[encoded data removed]",
      "text/plain": [
       "<Figure size 432x288 with 1 Axes>"
      ]
     },
     "metadata": {},
     "output_type": "display_data"
    }
   ],
   "source": [
    "y_given_Xeq6 = (Y | (X == 6) ).sim(10000)\n",
    "y_given_Xeq6.plot()\n",
    "y_given_Xeq6.mean()"
   ]
  },
  {
   "cell_type": "code",
   "execution_count": 19,
   "metadata": {},
   "outputs": [
    {
     "data": {
      "text/plain": [
       "6.2874"
      ]
     },
     "execution_count": 19,
     "metadata": {},
     "output_type": "execute_result"
    },
    {
     "data": {
      "image/png": "[encoded data removed]",
      "text/plain": [
       "<Figure size 432x288 with 1 Axes>"
      ]
     },
     "metadata": {},
     "output_type": "display_data"
    }
   ],
   "source": [
    "x_given_Yeq4 = (X | (Y == 4) ).sim(10000)\n",
    "x_given_Yeq4.plot()\n",
    "x_given_Yeq4.mean()"
   ]
  },
  {
   "cell_type": "code",
   "execution_count": 20,
   "metadata": {},
   "outputs": [
    {
     "data": {
      "text/plain": [
       "16.9809"
      ]
     },
     "execution_count": 20,
     "metadata": {},
     "output_type": "execute_result"
    },
    {
     "data": {
      "image/png": "[encoded data removed]",
      "text/plain": [
       "<Figure size 432x288 with 1 Axes>"
      ]
     },
     "metadata": {},
     "output_type": "display_data"
    }
   ],
   "source": [
    "W = X * Y\n",
    "w = W.sim(10000)\n",
    "w.plot()\n",
    "w.mean()"
   ]
  },
  {
   "cell_type": "markdown",
   "metadata": {},
   "source": [
    "# Exercise 2.4"
   ]
  },
  {
   "cell_type": "markdown",
   "metadata": {},
   "source": [
    "Note: Python has zero-based indexing, so `X[0]` represents $X_1$."
   ]
  },
  {
   "cell_type": "code",
   "execution_count": 21,
   "metadata": {},
   "outputs": [],
   "source": [
    "P = BoxModel([1, 0], size=3, replace=True)\n",
    "X = RV(P)\n",
    "S = RV(P, cumsum)"
   ]
  },
  {
   "cell_type": "code",
   "execution_count": 22,
   "metadata": {},
   "outputs": [
    {
     "data": {
      "image/png": "[encoded data removed]",
      "text/plain": [
       "<Figure size 432x288 with 4 Axes>"
      ]
     },
     "metadata": {},
     "output_type": "display_data"
    }
   ],
   "source": [
    "(S[0] & S[2]).sim(10000).plot(['tile','marginal'])"
   ]
  },
  {
   "cell_type": "code",
   "execution_count": 23,
   "metadata": {},
   "outputs": [
    {
     "data": {
      "image/png": "[encoded data removed]",
      "text/plain": [
       "<Figure size 432x288 with 4 Axes>"
      ]
     },
     "metadata": {},
     "output_type": "display_data"
    }
   ],
   "source": [
    "( (S[0] & S[2]) | (S[1] == 1) ).sim(10000).plot(['tile','marginal'])"
   ]
  },
  {
   "cell_type": "code",
   "execution_count": 24,
   "metadata": {},
   "outputs": [
    {
     "data": {
      "image/png": "[encoded data removed]",
      "text/plain": [
       "<Figure size 432x288 with 4 Axes>"
      ]
     },
     "metadata": {},
     "output_type": "display_data"
    }
   ],
   "source": [
    "( (S[1] & S[2]) | (S[0] == 0) ).sim(10000).plot(['tile','marginal'])"
   ]
  },
  {
   "cell_type": "markdown",
   "metadata": {},
   "source": [
    "# Exercise 2.6"
   ]
  },
  {
   "cell_type": "code",
   "execution_count": 25,
   "metadata": {},
   "outputs": [],
   "source": [
    "# define a function that takes as an input a sequence of coin flips\n",
    "# and returns the number of flips which follow H\n",
    "def trials_following_H(x):\n",
    "    return sum(x[0:len(x)-1])\n",
    "\n",
    "# define a function that takes as an input a sequence of coin flips\n",
    "# and returns the number of flips which follow H that result in H\n",
    "def H_following_H(x):\n",
    "    return sum(a*b for a, b in zip(x[1:len(x)], x[0:len(x)-1]))\n",
    "\n",
    "# probability space corresponding to four fair coin flips\n",
    "P = BoxModel([0,1], size = 4)\n",
    "\n",
    "# N is the RV representing the number of flips which follow H\n",
    "N = RV(P, trials_following_H)\n",
    "\n",
    "# X is the RV representing the number of flips which follow H that result in H\n",
    "X = RV(P, H_following_H)"
   ]
  },
  {
   "cell_type": "code",
   "execution_count": 26,
   "metadata": {},
   "outputs": [
    {
     "data": {
      "text/plain": [
       "0.40791666666666665"
      ]
     },
     "execution_count": 26,
     "metadata": {},
     "output_type": "execute_result"
    },
    {
     "data": {
      "image/png": "[encoded data removed]",
      "text/plain": [
       "<Figure size 432x288 with 1 Axes>"
      ]
     },
     "metadata": {},
     "output_type": "display_data"
    }
   ],
   "source": [
    "x = ( (X / N) | (N > 0) ).sim(10000)\n",
    "x.plot()\n",
    "x.mean()"
   ]
  },
  {
   "cell_type": "code",
   "execution_count": 27,
   "metadata": {},
   "outputs": [
    {
     "data": {
      "text/html": [
       "\n",
       "<table>\n",
       "  <thead>\n",
       "    <th width=\"80%\">Outcome</th>\n",
       "    <th width=\"20%\">Value</th>\n",
       "  </thead>\n",
       "  <tbody>\n",
       "    <tr><td>0.0</td><td>0.4246</td></tr><tr><td>0.5</td><td>0.2885</td></tr><tr><td>0.6666666666666666</td><td>0.0697</td></tr><tr><td>1.0</td><td>0.2172</td></tr><tr><td><b>Total</b></td><td><b>1.0</b></td></tr>\n",
       "  </tbody>\n",
       "</table>\n"
      ],
      "text/plain": [
       "{0.0: 0.4246, 0.5: 0.2885, 0.6666666666666666: 0.0697, 1.0: 0.2172}"
      ]
     },
     "execution_count": 27,
     "metadata": {},
     "output_type": "execute_result"
    }
   ],
   "source": [
    "x.tabulate(normalize=True)"
   ]
  },
  {
   "cell_type": "code",
   "execution_count": null,
   "metadata": {},
   "outputs": [],
   "source": []
  }
 ],
 "metadata": {
  "kernelspec": {
   "display_name": "Python 3",
   "language": "python",
   "name": "python3"
  },
  "language_info": {
   "codemirror_mode": {
    "name": "ipython",
    "version": 3
   },
   "file_extension": ".py",
   "mimetype": "text/x-python",
   "name": "python",
   "nbconvert_exporter": "python",
   "pygments_lexer": "ipython3",
   "version": "3.6.6"
  }
 },
 "nbformat": 4,
 "nbformat_minor": 2
}
