{
 "cells": [
  {
   "cell_type": "code",
   "execution_count": 1,
   "metadata": {},
   "outputs": [],
   "source": [
    "from symbulate import *\n",
    "%matplotlib inline"
   ]
  },
  {
   "cell_type": "code",
   "execution_count": 2,
   "metadata": {},
   "outputs": [
    {
     "data": {
      "text/html": [
       "\n",
       "    <table>\n",
       "      <thead>\n",
       "        <th width=\"10%\">Index</th>\n",
       "        <th width=\"90%\">Result</th>\n",
       "      </thead>\n",
       "      <tbody>\n",
       "        \n",
       "        <tr>\n",
       "          <td>0</td><td>(1, 2)</td>\n",
       "        </tr>\n",
       "        \n",
       "        <tr>\n",
       "          <td>1</td><td>(3, 3)</td>\n",
       "        </tr>\n",
       "        \n",
       "        <tr>\n",
       "          <td>2</td><td>(4, 2)</td>\n",
       "        </tr>\n",
       "        \n",
       "        <tr>\n",
       "          <td>3</td><td>(1, 4)</td>\n",
       "        </tr>\n",
       "        \n",
       "        <tr>\n",
       "          <td>4</td><td>(4, 4)</td>\n",
       "        </tr>\n",
       "        \n",
       "      </tbody>\n",
       "    </table>\n",
       "        "
      ],
      "text/plain": [
       "<symbulate.results.Results at 0x9185710>"
      ]
     },
     "execution_count": 2,
     "metadata": {},
     "output_type": "execute_result"
    }
   ],
   "source": [
    "P = BoxModel([1, 2, 3, 4], size=2, replace=True)\n",
    "P.sim(5)"
   ]
  },
  {
   "cell_type": "code",
   "execution_count": 3,
   "metadata": {},
   "outputs": [
    {
     "data": {
      "text/html": [
       "\n",
       "<table>\n",
       "  <thead>\n",
       "    <th width=\"80%\">Outcome</th>\n",
       "    <th width=\"20%\">Value</th>\n",
       "  </thead>\n",
       "  <tbody>\n",
       "    <tr><td>(1, 1)</td><td>951</td></tr><tr><td>(1, 2)</td><td>1034</td></tr><tr><td>(1, 3)</td><td>1011</td></tr><tr><td>(1, 4)</td><td>953</td></tr><tr><td>(2, 1)</td><td>1027</td></tr><tr><td>(2, 2)</td><td>984</td></tr><tr><td>(2, 3)</td><td>1020</td></tr><tr><td>(2, 4)</td><td>1008</td></tr><tr><td>(3, 1)</td><td>968</td></tr><tr><td>(3, 2)</td><td>980</td></tr><tr><td>(3, 3)</td><td>973</td></tr><tr><td>(3, 4)</td><td>1028</td></tr><tr><td>(4, 1)</td><td>992</td></tr><tr><td>(4, 2)</td><td>1016</td></tr><tr><td>(4, 3)</td><td>1038</td></tr><tr><td>(4, 4)</td><td>1017</td></tr><tr><td><b>Total</b></td><td><b>16000</b></td></tr>\n",
       "  </tbody>\n",
       "</table>\n"
      ],
      "text/plain": [
       "{(1, 1): 951,\n",
       " (1, 2): 1034,\n",
       " (1, 3): 1011,\n",
       " (1, 4): 953,\n",
       " (2, 1): 1027,\n",
       " (2, 2): 984,\n",
       " (2, 3): 1020,\n",
       " (2, 4): 1008,\n",
       " (3, 1): 968,\n",
       " (3, 2): 980,\n",
       " (3, 3): 973,\n",
       " (3, 4): 1028,\n",
       " (4, 1): 992,\n",
       " (4, 2): 1016,\n",
       " (4, 3): 1038,\n",
       " (4, 4): 1017}"
      ]
     },
     "execution_count": 3,
     "metadata": {},
     "output_type": "execute_result"
    }
   ],
   "source": [
    "P.sim(16000).tabulate()"
   ]
  },
  {
   "cell_type": "code",
   "execution_count": 4,
   "metadata": {},
   "outputs": [
    {
     "data": {
      "text/html": [
       "\n",
       "<table>\n",
       "  <thead>\n",
       "    <th width=\"80%\">Outcome</th>\n",
       "    <th width=\"20%\">Value</th>\n",
       "  </thead>\n",
       "  <tbody>\n",
       "    <tr><td>(1, 1)</td><td>0.062125</td></tr><tr><td>(1, 2)</td><td>0.0631875</td></tr><tr><td>(1, 3)</td><td>0.062</td></tr><tr><td>(1, 4)</td><td>0.0594375</td></tr><tr><td>(2, 1)</td><td>0.0620625</td></tr><tr><td>(2, 2)</td><td>0.062375</td></tr><tr><td>(2, 3)</td><td>0.061625</td></tr><tr><td>(2, 4)</td><td>0.0631875</td></tr><tr><td>(3, 1)</td><td>0.06325</td></tr><tr><td>(3, 2)</td><td>0.061375</td></tr><tr><td>(3, 3)</td><td>0.0631875</td></tr><tr><td>(3, 4)</td><td>0.0661875</td></tr><tr><td>(4, 1)</td><td>0.0613125</td></tr><tr><td>(4, 2)</td><td>0.0608125</td></tr><tr><td>(4, 3)</td><td>0.0648125</td></tr><tr><td>(4, 4)</td><td>0.0630625</td></tr><tr><td><b>Total</b></td><td><b>1.0000000000000002</b></td></tr>\n",
       "  </tbody>\n",
       "</table>\n"
      ],
      "text/plain": [
       "{(1, 1): 0.062125,\n",
       " (1, 2): 0.0631875,\n",
       " (1, 3): 0.062,\n",
       " (1, 4): 0.0594375,\n",
       " (2, 1): 0.0620625,\n",
       " (2, 2): 0.062375,\n",
       " (2, 3): 0.061625,\n",
       " (2, 4): 0.0631875,\n",
       " (3, 1): 0.06325,\n",
       " (3, 2): 0.061375,\n",
       " (3, 3): 0.0631875,\n",
       " (3, 4): 0.0661875,\n",
       " (4, 1): 0.0613125,\n",
       " (4, 2): 0.0608125,\n",
       " (4, 3): 0.0648125,\n",
       " (4, 4): 0.0630625}"
      ]
     },
     "execution_count": 4,
     "metadata": {},
     "output_type": "execute_result"
    }
   ],
   "source": [
    "P.sim(16000).tabulate(normalize=True)"
   ]
  },
  {
   "cell_type": "code",
   "execution_count": 5,
   "metadata": {},
   "outputs": [],
   "source": [
    "P = BoxModel([1, 2, 3, 4], size=2)\n",
    "X = RV(P, sum)\n",
    "Y = RV(P, max)\n",
    "Z = RV(P) # default is identity; will return outcomes"
   ]
  },
  {
   "cell_type": "code",
   "execution_count": 6,
   "metadata": {},
   "outputs": [
    {
     "name": "stdout",
     "output_type": "stream",
     "text": [
      "Warning: Calling an RV as a function simply applies the function that defines the RV to the input, regardless of whether that input is a possible outcome in the underlying probability space.\n",
      "Warning: Calling an RV as a function simply applies the function that defines the RV to the input, regardless of whether that input is a possible outcome in the underlying probability space.\n",
      "Warning: Calling an RV as a function simply applies the function that defines the RV to the input, regardless of whether that input is a possible outcome in the underlying probability space.\n"
     ]
    },
    {
     "data": {
      "text/plain": [
       "(5, 3, (3, 2))"
      ]
     },
     "execution_count": 6,
     "metadata": {},
     "output_type": "execute_result"
    }
   ],
   "source": [
    "outcome = (3,  2)\n",
    "X(outcome), Y(outcome), Z(outcome)"
   ]
  },
  {
   "cell_type": "code",
   "execution_count": 7,
   "metadata": {},
   "outputs": [
    {
     "data": {
      "text/html": [
       "\n",
       "    <table>\n",
       "      <thead>\n",
       "        <th width=\"10%\">Index</th>\n",
       "        <th width=\"90%\">Result</th>\n",
       "      </thead>\n",
       "      <tbody>\n",
       "        \n",
       "        <tr>\n",
       "          <td>0</td><td>3</td>\n",
       "        </tr>\n",
       "        \n",
       "        <tr>\n",
       "          <td>1</td><td>6</td>\n",
       "        </tr>\n",
       "        \n",
       "        <tr>\n",
       "          <td>2</td><td>4</td>\n",
       "        </tr>\n",
       "        \n",
       "        <tr>\n",
       "          <td>3</td><td>4</td>\n",
       "        </tr>\n",
       "        \n",
       "        <tr>\n",
       "          <td>4</td><td>7</td>\n",
       "        </tr>\n",
       "        \n",
       "      </tbody>\n",
       "    </table>\n",
       "        "
      ],
      "text/plain": [
       "<symbulate.results.RVResults at 0x50316d8>"
      ]
     },
     "execution_count": 7,
     "metadata": {},
     "output_type": "execute_result"
    }
   ],
   "source": [
    "X.sim(5)"
   ]
  },
  {
   "cell_type": "code",
   "execution_count": 8,
   "metadata": {},
   "outputs": [
    {
     "data": {
      "text/html": [
       "\n",
       "<table>\n",
       "  <thead>\n",
       "    <th width=\"80%\">Outcome</th>\n",
       "    <th width=\"20%\">Value</th>\n",
       "  </thead>\n",
       "  <tbody>\n",
       "    <tr><td>2</td><td>987</td></tr><tr><td>3</td><td>2022</td></tr><tr><td>4</td><td>3016</td></tr><tr><td>5</td><td>3929</td></tr><tr><td>6</td><td>2951</td></tr><tr><td>7</td><td>2064</td></tr><tr><td>8</td><td>1031</td></tr><tr><td><b>Total</b></td><td><b>16000</b></td></tr>\n",
       "  </tbody>\n",
       "</table>\n"
      ],
      "text/plain": [
       "{2: 987, 3: 2022, 4: 3016, 5: 3929, 6: 2951, 7: 2064, 8: 1031}"
      ]
     },
     "execution_count": 8,
     "metadata": {},
     "output_type": "execute_result"
    }
   ],
   "source": [
    "x = X.sim(16000)\n",
    "x.tabulate()"
   ]
  },
  {
   "cell_type": "code",
   "execution_count": 9,
   "metadata": {},
   "outputs": [
    {
     "data": {
      "text/plain": [
       "(5.0094375, 1.5904318387135459)"
      ]
     },
     "execution_count": 9,
     "metadata": {},
     "output_type": "execute_result"
    },
    {
     "data": {
      "image/png": "[encoded data removed]",
      "text/plain": [
       "<Figure size 432x288 with 1 Axes>"
      ]
     },
     "metadata": {},
     "output_type": "display_data"
    }
   ],
   "source": [
    "x.plot()\n",
    "x.mean(), x.sd()"
   ]
  },
  {
   "cell_type": "code",
   "execution_count": 10,
   "metadata": {},
   "outputs": [
    {
     "data": {
      "text/plain": [
       "(3.1055, 0.9364666304786307)"
      ]
     },
     "execution_count": 10,
     "metadata": {},
     "output_type": "execute_result"
    },
    {
     "data": {
      "image/png": "[encoded data removed]",
      "text/plain": [
       "<Figure size 432x288 with 1 Axes>"
      ]
     },
     "metadata": {},
     "output_type": "display_data"
    }
   ],
   "source": [
    "y = Y.sim(10000)\n",
    "y.plot()\n",
    "y.mean(), y.sd()"
   ]
  },
  {
   "cell_type": "code",
   "execution_count": 11,
   "metadata": {},
   "outputs": [
    {
     "data": {
      "text/html": [
       "\n",
       "    <table>\n",
       "      <thead>\n",
       "        <th width=\"10%\">Index</th>\n",
       "        <th width=\"90%\">Result</th>\n",
       "      </thead>\n",
       "      <tbody>\n",
       "        \n",
       "        <tr>\n",
       "          <td>0</td><td>((1, 4), 5, 4)</td>\n",
       "        </tr>\n",
       "        \n",
       "        <tr>\n",
       "          <td>1</td><td>((1, 4), 5, 4)</td>\n",
       "        </tr>\n",
       "        \n",
       "        <tr>\n",
       "          <td>2</td><td>((2, 3), 5, 3)</td>\n",
       "        </tr>\n",
       "        \n",
       "        <tr>\n",
       "          <td>3</td><td>((4, 2), 6, 4)</td>\n",
       "        </tr>\n",
       "        \n",
       "        <tr>\n",
       "          <td>4</td><td>((4, 4), 8, 4)</td>\n",
       "        </tr>\n",
       "        \n",
       "      </tbody>\n",
       "    </table>\n",
       "        "
      ],
      "text/plain": [
       "<symbulate.results.RVResults at 0x5031400>"
      ]
     },
     "execution_count": 11,
     "metadata": {},
     "output_type": "execute_result"
    }
   ],
   "source": [
    "(Z & X & Y).sim(5)"
   ]
  },
  {
   "cell_type": "code",
   "execution_count": 12,
   "metadata": {},
   "outputs": [
    {
     "data": {
      "text/html": [
       "\n",
       "<table>\n",
       "  <thead>\n",
       "    <th width=\"80%\">Outcome</th>\n",
       "    <th width=\"20%\">Value</th>\n",
       "  </thead>\n",
       "  <tbody>\n",
       "    <tr><td>(2, 1)</td><td>978</td></tr><tr><td>(3, 2)</td><td>1975</td></tr><tr><td>(4, 2)</td><td>1034</td></tr><tr><td>(4, 3)</td><td>1999</td></tr><tr><td>(5, 3)</td><td>2037</td></tr><tr><td>(5, 4)</td><td>1981</td></tr><tr><td>(6, 3)</td><td>1025</td></tr><tr><td>(6, 4)</td><td>2007</td></tr><tr><td>(7, 4)</td><td>2022</td></tr><tr><td>(8, 4)</td><td>942</td></tr><tr><td><b>Total</b></td><td><b>16000</b></td></tr>\n",
       "  </tbody>\n",
       "</table>\n"
      ],
      "text/plain": [
       "{(2, 1): 978,\n",
       " (3, 2): 1975,\n",
       " (4, 2): 1034,\n",
       " (4, 3): 1999,\n",
       " (5, 3): 2037,\n",
       " (5, 4): 1981,\n",
       " (6, 3): 1025,\n",
       " (6, 4): 2007,\n",
       " (7, 4): 2022,\n",
       " (8, 4): 942}"
      ]
     },
     "execution_count": 12,
     "metadata": {},
     "output_type": "execute_result"
    }
   ],
   "source": [
    "xy = (X & Y).sim(16000)\n",
    "xy.tabulate()"
   ]
  },
  {
   "cell_type": "code",
   "execution_count": 13,
   "metadata": {},
   "outputs": [
    {
     "data": {
      "text/html": [
       "\n",
       "<table>\n",
       "  <thead>\n",
       "    <th width=\"80%\">Outcome</th>\n",
       "    <th width=\"20%\">Value</th>\n",
       "  </thead>\n",
       "  <tbody>\n",
       "    <tr><td>(2, 1)</td><td>0.061125</td></tr><tr><td>(3, 2)</td><td>0.1234375</td></tr><tr><td>(4, 2)</td><td>0.064625</td></tr><tr><td>(4, 3)</td><td>0.1249375</td></tr><tr><td>(5, 3)</td><td>0.1273125</td></tr><tr><td>(5, 4)</td><td>0.1238125</td></tr><tr><td>(6, 3)</td><td>0.0640625</td></tr><tr><td>(6, 4)</td><td>0.1254375</td></tr><tr><td>(7, 4)</td><td>0.126375</td></tr><tr><td>(8, 4)</td><td>0.058875</td></tr><tr><td><b>Total</b></td><td><b>1.0</b></td></tr>\n",
       "  </tbody>\n",
       "</table>\n"
      ],
      "text/plain": [
       "{(2, 1): 0.061125,\n",
       " (3, 2): 0.1234375,\n",
       " (4, 2): 0.064625,\n",
       " (4, 3): 0.1249375,\n",
       " (5, 3): 0.1273125,\n",
       " (5, 4): 0.1238125,\n",
       " (6, 3): 0.0640625,\n",
       " (6, 4): 0.1254375,\n",
       " (7, 4): 0.126375,\n",
       " (8, 4): 0.058875}"
      ]
     },
     "execution_count": 13,
     "metadata": {},
     "output_type": "execute_result"
    }
   ],
   "source": [
    "xy.tabulate(normalize=True)"
   ]
  },
  {
   "cell_type": "code",
   "execution_count": 14,
   "metadata": {},
   "outputs": [
    {
     "data": {
      "image/png": "[encoded data removed]",
      "text/plain": [
       "<Figure size 432x288 with 1 Axes>"
      ]
     },
     "metadata": {},
     "output_type": "display_data"
    }
   ],
   "source": [
    "xy.plot(jitter=True)"
   ]
  },
  {
   "cell_type": "code",
   "execution_count": 15,
   "metadata": {},
   "outputs": [
    {
     "data": {
      "image/png": "[encoded data removed]",
      "text/plain": [
       "<Figure size 432x288 with 2 Axes>"
      ]
     },
     "metadata": {},
     "output_type": "display_data"
    }
   ],
   "source": [
    "xy.plot('tile')"
   ]
  },
  {
   "cell_type": "code",
   "execution_count": 16,
   "metadata": {},
   "outputs": [
    {
     "data": {
      "image/png": "[encoded data removed]",
      "text/plain": [
       "<Figure size 432x288 with 4 Axes>"
      ]
     },
     "metadata": {},
     "output_type": "display_data"
    }
   ],
   "source": [
    "xy.plot(['tile', 'marginal'])"
   ]
  },
  {
   "cell_type": "code",
   "execution_count": 17,
   "metadata": {},
   "outputs": [
    {
     "data": {
      "text/html": [
       "\n",
       "<table>\n",
       "  <thead>\n",
       "    <th width=\"80%\">Outcome</th>\n",
       "    <th width=\"20%\">Value</th>\n",
       "  </thead>\n",
       "  <tbody>\n",
       "    <tr><td>3</td><td>3373</td></tr><tr><td>4</td><td>6627</td></tr><tr><td><b>Total</b></td><td><b>10000</b></td></tr>\n",
       "  </tbody>\n",
       "</table>\n"
      ],
      "text/plain": [
       "{3: 3373, 4: 6627}"
      ]
     },
     "execution_count": 17,
     "metadata": {},
     "output_type": "execute_result"
    }
   ],
   "source": [
    "(Y | (X == 6) ).sim(10000).tabulate()"
   ]
  },
  {
   "cell_type": "code",
   "execution_count": 18,
   "metadata": {},
   "outputs": [
    {
     "data": {
      "text/plain": [
       "3.6686"
      ]
     },
     "execution_count": 18,
     "metadata": {},
     "output_type": "execute_result"
    },
    {
     "data": {
      "image/png": "[encoded data removed]",
      "text/plain": [
       "<Figure size 432x288 with 1 Axes>"
      ]
     },
     "metadata": {},
     "output_type": "display_data"
    }
   ],
   "source": [
    "y_given_Xeq6 = (Y | (X == 6) ).sim(10000)\n",
    "y_given_Xeq6.plot()\n",
    "y_given_Xeq6.mean()"
   ]
  },
  {
   "cell_type": "code",
   "execution_count": 19,
   "metadata": {},
   "outputs": [
    {
     "data": {
      "text/plain": [
       "6.2857"
      ]
     },
     "execution_count": 19,
     "metadata": {},
     "output_type": "execute_result"
    },
    {
     "data": {
      "image/png": "[encoded data removed]",
      "text/plain": [
       "<Figure size 432x288 with 1 Axes>"
      ]
     },
     "metadata": {},
     "output_type": "display_data"
    }
   ],
   "source": [
    "x_given_Yeq4 = (X | (Y == 4) ).sim(10000)\n",
    "x_given_Yeq4.plot()\n",
    "x_given_Yeq4.mean()"
   ]
  },
  {
   "cell_type": "code",
   "execution_count": 20,
   "metadata": {},
   "outputs": [
    {
     "data": {
      "text/plain": [
       "16.7854"
      ]
     },
     "execution_count": 20,
     "metadata": {},
     "output_type": "execute_result"
    },
    {
     "data": {
      "image/png": "[encoded data removed]",
      "text/plain": [
       "<Figure size 432x288 with 1 Axes>"
      ]
     },
     "metadata": {},
     "output_type": "display_data"
    }
   ],
   "source": [
    "W = X * Y\n",
    "w = W.sim(10000)\n",
    "w.plot()\n",
    "w.mean()"
   ]
  },
  {
   "cell_type": "markdown",
   "metadata": {},
   "source": [
    "# Exercise 2.4"
   ]
  },
  {
   "cell_type": "markdown",
   "metadata": {},
   "source": [
    "Note: Python has zero-based indexing, so `X[0]` represents $X_1$."
   ]
  },
  {
   "cell_type": "code",
   "execution_count": 21,
   "metadata": {},
   "outputs": [],
   "source": [
    "P = BoxModel([1, 0], size=3, replace=True)\n",
    "X = RV(P)\n",
    "S = RV(P, cumsum)"
   ]
  },
  {
   "cell_type": "code",
   "execution_count": 22,
   "metadata": {},
   "outputs": [
    {
     "data": {
      "image/png": "[encoded data removed]",
      "text/plain": [
       "<Figure size 432x288 with 4 Axes>"
      ]
     },
     "metadata": {},
     "output_type": "display_data"
    }
   ],
   "source": [
    "(S[0] & S[2]).sim(10000).plot(['tile','marginal'])"
   ]
  },
  {
   "cell_type": "code",
   "execution_count": 23,
   "metadata": {},
   "outputs": [
    {
     "data": {
      "image/png": "[encoded data removed]",
      "text/plain": [
       "<Figure size 432x288 with 4 Axes>"
      ]
     },
     "metadata": {},
     "output_type": "display_data"
    }
   ],
   "source": [
    "( (S[0] & S[2]) | (S[1] == 1) ).sim(10000).plot(['tile','marginal'])"
   ]
  },
  {
   "cell_type": "code",
   "execution_count": 24,
   "metadata": {},
   "outputs": [
    {
     "data": {
      "image/png": "[encoded data removed]",
      "text/plain": [
       "<Figure size 432x288 with 4 Axes>"
      ]
     },
     "metadata": {},
     "output_type": "display_data"
    }
   ],
   "source": [
    "( (S[1] & S[2]) | (S[0] == 0) ).sim(10000).plot(['tile','marginal'])"
   ]
  },
  {
   "cell_type": "markdown",
   "metadata": {},
   "source": [
    "# Exercise 2.5"
   ]
  },
  {
   "cell_type": "code",
   "execution_count": 35,
   "metadata": {},
   "outputs": [],
   "source": [
    "P = BoxModel([0, 1], size=10) * BoxModel([1,2,3,4,5,6], size=10)\n",
    "flips = RV(P)[0]\n",
    "rolls = RV(P)[1]\n",
    "W = flips.apply(sum)\n",
    "X = 10 - W\n",
    "Y = rolls.apply(count_eq(6))\n",
    "\n",
    "def is_even(x):\n",
    "    return (x % 2 == 0)\n",
    "\n",
    "Z = rolls.apply(count(is_even))"
   ]
  },
  {
   "cell_type": "code",
   "execution_count": 26,
   "metadata": {},
   "outputs": [
    {
     "data": {
      "image/png": "[encoded data removed]",
      "text/plain": [
       "<Figure size 432x288 with 4 Axes>"
      ]
     },
     "metadata": {},
     "output_type": "display_data"
    }
   ],
   "source": [
    "(W & X).sim(10000).plot(['tile', 'marginal'])"
   ]
  },
  {
   "cell_type": "code",
   "execution_count": 27,
   "metadata": {},
   "outputs": [
    {
     "data": {
      "image/png": "[encoded data removed]",
      "text/plain": [
       "<Figure size 432x288 with 4 Axes>"
      ]
     },
     "metadata": {},
     "output_type": "display_data"
    }
   ],
   "source": [
    "(W & Y).sim(10000).plot(['tile', 'marginal'])"
   ]
  },
  {
   "cell_type": "code",
   "execution_count": 36,
   "metadata": {},
   "outputs": [
    {
     "data": {
      "image/png": "[encoded data removed]",
      "text/plain": [
       "<Figure size 432x288 with 4 Axes>"
      ]
     },
     "metadata": {},
     "output_type": "display_data"
    }
   ],
   "source": [
    "(W & Z).sim(10000).plot(['tile', 'marginal'])"
   ]
  },
  {
   "cell_type": "code",
   "execution_count": 28,
   "metadata": {},
   "outputs": [
    {
     "data": {
      "image/png": "[encoded data removed]",
      "text/plain": [
       "<Figure size 432x288 with 4 Axes>"
      ]
     },
     "metadata": {},
     "output_type": "display_data"
    }
   ],
   "source": [
    "(X & Y).sim(10000).plot(['tile', 'marginal'])"
   ]
  },
  {
   "cell_type": "code",
   "execution_count": 37,
   "metadata": {},
   "outputs": [
    {
     "data": {
      "image/png": "[encoded data removed]",
      "text/plain": [
       "<Figure size 432x288 with 4 Axes>"
      ]
     },
     "metadata": {},
     "output_type": "display_data"
    }
   ],
   "source": [
    "(Y & Z).sim(10000).plot(['tile', 'marginal'])"
   ]
  },
  {
   "cell_type": "markdown",
   "metadata": {},
   "source": [
    "# Exercise 2.6"
   ]
  },
  {
   "cell_type": "code",
   "execution_count": 29,
   "metadata": {},
   "outputs": [],
   "source": [
    "# define a function that takes as an input a sequence of coin flips\n",
    "# and returns the number of flips which follow H\n",
    "def trials_following_H(x):\n",
    "    return sum(x[0:len(x)-1])\n",
    "\n",
    "# define a function that takes as an input a sequence of coin flips\n",
    "# and returns the number of flips which follow H that result in H\n",
    "def H_following_H(x):\n",
    "    return sum(a*b for a, b in zip(x[1:len(x)], x[0:len(x)-1]))\n",
    "\n",
    "# probability space corresponding to four fair coin flips\n",
    "P = BoxModel([0,1], size = 4)\n",
    "\n",
    "# N is the RV representing the number of flips which follow H\n",
    "N = RV(P, trials_following_H)\n",
    "\n",
    "# X is the RV representing the number of flips which follow H that result in H\n",
    "X = RV(P, H_following_H)"
   ]
  },
  {
   "cell_type": "code",
   "execution_count": 30,
   "metadata": {},
   "outputs": [
    {
     "data": {
      "text/plain": [
       "0.3937833333333333"
      ]
     },
     "execution_count": 30,
     "metadata": {},
     "output_type": "execute_result"
    },
    {
     "data": {
      "image/png": "[encoded data removed]",
      "text/plain": [
       "<Figure size 432x288 with 1 Axes>"
      ]
     },
     "metadata": {},
     "output_type": "display_data"
    }
   ],
   "source": [
    "x = ( (X / N) | (N > 0) ).sim(10000)\n",
    "x.plot()\n",
    "x.mean()"
   ]
  },
  {
   "cell_type": "code",
   "execution_count": 31,
   "metadata": {},
   "outputs": [
    {
     "data": {
      "text/html": [
       "\n",
       "<table>\n",
       "  <thead>\n",
       "    <th width=\"80%\">Outcome</th>\n",
       "    <th width=\"20%\">Value</th>\n",
       "  </thead>\n",
       "  <tbody>\n",
       "    <tr><td>0.0</td><td>0.4418</td></tr><tr><td>0.5</td><td>0.2829</td></tr><tr><td>0.6666666666666666</td><td>0.0689</td></tr><tr><td>1.0</td><td>0.2064</td></tr><tr><td><b>Total</b></td><td><b>1.0</b></td></tr>\n",
       "  </tbody>\n",
       "</table>\n"
      ],
      "text/plain": [
       "{0.0: 0.4418, 0.5: 0.2829, 0.6666666666666666: 0.0689, 1.0: 0.2064}"
      ]
     },
     "execution_count": 31,
     "metadata": {},
     "output_type": "execute_result"
    }
   ],
   "source": [
    "x.tabulate(normalize=True)"
   ]
  },
  {
   "cell_type": "code",
   "execution_count": null,
   "metadata": {},
   "outputs": [],
   "source": []
  }
 ],
 "metadata": {
  "kernelspec": {
   "display_name": "Python 3",
   "language": "python",
   "name": "python3"
  },
  "language_info": {
   "codemirror_mode": {
    "name": "ipython",
    "version": 3
   },
   "file_extension": ".py",
   "mimetype": "text/x-python",
   "name": "python",
   "nbconvert_exporter": "python",
   "pygments_lexer": "ipython3",
   "version": "3.6.6"
  }
 },
 "nbformat": 4,
 "nbformat_minor": 2
}
