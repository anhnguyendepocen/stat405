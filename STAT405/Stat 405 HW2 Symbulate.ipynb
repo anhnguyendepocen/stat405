{
 "cells": [
  {
   "cell_type": "markdown",
   "metadata": {},
   "source": [
    "## Stat 405 HW2, Part II"
   ]
  },
  {
   "cell_type": "markdown",
   "metadata": {},
   "source": [
    "This Jupyter notebook provides a template for you to fill in.  Read the notebook from start to finish, completing the parts as indicated.  To run a cell, make sure the cell is highlighted by clicking on it, then press SHIFT + ENTER on your keyboard.  (Alternatively, you can click the \"play\" button in the toolbar above.)"
   ]
  },
  {
   "cell_type": "markdown",
   "metadata": {},
   "source": [
    "Thie assignment will introduce you to some basic Symbulate commands.  Some hints are provided throughout, but also refer to [Symbulate documentation](https://dlsun.github.io/symbulate/index.html) and the [Symbulate tutorials](https://github.com/dlsun/symbulate/tree/master/tutorial). **You should use Symbulate commands whenever possible.**  If you find yourself writing long blocks of Python code, you are probably doing something wrong.  For example, you should not need to write any *`for` loops.\n",
    "\n",
    "**Warning:** Some of the simulations might run a little slow, especially if conditioning on events with low probability.  You might want to run say 100 repetitions of a simulation first to make sure it runs, and then change to 1000 or 10000 afterwards."
   ]
  },
  {
   "cell_type": "markdown",
   "metadata": {},
   "source": [
    "Be sure to run the following cell first."
   ]
  },
  {
   "cell_type": "code",
   "execution_count": null,
   "metadata": {},
   "outputs": [],
   "source": [
    "from symbulate import *\n",
    "%matplotlib inline"
   ]
  },
  {
   "cell_type": "markdown",
   "metadata": {},
   "source": [
    "Define a probability space corresponding to a sequence of 5 rolls of a fair six-sided die, and simulate a few outcomes.  Hint: Use [`BoxModel`](https://dlsun.github.io/symbulate/probspace.html#boxmodel) and the [`sim`](https://dlsun.github.io/symbulate/sim.html#sim) method."
   ]
  },
  {
   "cell_type": "code",
   "execution_count": null,
   "metadata": {},
   "outputs": [],
   "source": [
    "# TYPE YOUR SYMBULATE COMMANDS IN THIS CELL"
   ]
  },
  {
   "cell_type": "markdown",
   "metadata": {},
   "source": [
    "Let $S$ be the sum of the 10 rolls.  Define $S$ as a Symbulate [RV](https://dlsun.github.io/symbulate/rv.html)."
   ]
  },
  {
   "cell_type": "code",
   "execution_count": null,
   "metadata": {},
   "outputs": [],
   "source": [
    "# TYPE YOUR SYMBULATE COMMANDS IN THIS CELL"
   ]
  },
  {
   "cell_type": "markdown",
   "metadata": {},
   "source": [
    "Simulate 10000 values of $S$, visualize the approximate marginal distribution of $S$ with a plot, and estimate $E(S)$.  "
   ]
  },
  {
   "cell_type": "code",
   "execution_count": null,
   "metadata": {},
   "outputs": [],
   "source": [
    "# TYPE YOUR SYMBULATE COMMANDS IN THIS CELL"
   ]
  },
  {
   "cell_type": "markdown",
   "metadata": {},
   "source": [
    "**DESCRIBE THE DISTRIBUTION IN WORDS HERE.**"
   ]
  },
  {
   "cell_type": "markdown",
   "metadata": {},
   "source": [
    "Define the following RVs\n",
    "\n",
    "- $X$ = Maximum of the rolls\n",
    "- $N$ = Number of rolls equal to 1. Hint: use [`count_eq(1)`](https://dlsun.github.io/symbulate/sim.html#count).\n",
    "- $Y$ = Number of distinct faces rolled.  For example, if all rolls are 3 then $Y=1$; if all rolls are either 3 or 5 then $Y=2$; if each face is rolled at least once then $Y=6$.  (Hint: use the function `count_distinct` defined below.)"
   ]
  },
  {
   "cell_type": "code",
   "execution_count": null,
   "metadata": {},
   "outputs": [],
   "source": [
    "# Be sure to run this cell\n",
    "# This code defines a function\n",
    "\n",
    "def count_distinct(x):\n",
    "    return len(set(x))\n",
    "\n",
    "count_distinct((3,5,3,3,3))"
   ]
  },
  {
   "cell_type": "code",
   "execution_count": null,
   "metadata": {},
   "outputs": [],
   "source": [
    "# TYPE YOUR SYMBULATE COMMANDS IN THIS CELL"
   ]
  },
  {
   "cell_type": "markdown",
   "metadata": {},
   "source": [
    "Which of the above RVs should have a Binomial distribution?  Simulate 10000 values of that RV, and visualize the approximation distribution in a plot.  Then overlay the true Binomial distribution by calling `Binomial(n,p).plot()` in the same cell, with the values of n and p filled in."
   ]
  },
  {
   "cell_type": "code",
   "execution_count": null,
   "metadata": {},
   "outputs": [],
   "source": [
    "# TYPE YOUR SYMBULATE COMMANDS IN THIS CELL"
   ]
  },
  {
   "cell_type": "markdown",
   "metadata": {},
   "source": [
    "Pick two of the RVs --- N, S, X, Y --- and use simulation to investigate the [conditional distribution](https://dlsun.github.io/symbulate/conditioning.html) of one given some event involving the other.  Summarize the conditional distribution in both a table and a plot."
   ]
  },
  {
   "cell_type": "code",
   "execution_count": null,
   "metadata": {},
   "outputs": [],
   "source": [
    "# TYPE YOUR SYMBULATE COMMANDS IN THIS CELL"
   ]
  },
  {
   "cell_type": "markdown",
   "metadata": {},
   "source": [
    "**DESCRIBE THE DISTRIBUTION IN WORDS HERE.**"
   ]
  },
  {
   "cell_type": "markdown",
   "metadata": {},
   "source": [
    "Pick two of the RVs --- N, S, X, Y --- and use simulation to investigate their [joint distribution](https://dlsun.github.io/symbulate/joint.html).  Create a plot of the joint distribution; hint: check [here](https://dlsun.github.io/symbulate/graphics.html) for some plot options.  "
   ]
  },
  {
   "cell_type": "code",
   "execution_count": null,
   "metadata": {},
   "outputs": [],
   "source": [
    "# TYPE YOUR SYMBULATE COMMANDS IN THIS CELL"
   ]
  },
  {
   "cell_type": "markdown",
   "metadata": {},
   "source": [
    "**DESCRIBE THE DISTRIBUTION IN WORDS HERE.**"
   ]
  },
  {
   "cell_type": "markdown",
   "metadata": {},
   "source": [
    "Pick three of the RVs --- N, S, X, Y --- and use simulation to investigate the joint distribution of two given some event involving the third.  Create a plot of the conditional joint distribution; hint: check [here](https://dlsun.github.io/symbulate/graphics.html) for some plot options.  "
   ]
  },
  {
   "cell_type": "code",
   "execution_count": null,
   "metadata": {},
   "outputs": [],
   "source": [
    "# TYPE YOUR SYMBULATE COMMANDS IN THIS CELL"
   ]
  },
  {
   "cell_type": "markdown",
   "metadata": {},
   "source": [
    "**DESCRIBE THE DISTRIBUTION IN WORDS HERE.**"
   ]
  },
  {
   "cell_type": "markdown",
   "metadata": {},
   "source": [
    "Note that using `X & Y` actually joins X and Y together to make a random vector.  "
   ]
  },
  {
   "cell_type": "code",
   "execution_count": null,
   "metadata": {},
   "outputs": [],
   "source": [
    "XY = X & Y\n",
    "XY.sim(100)"
   ]
  },
  {
   "cell_type": "markdown",
   "metadata": {},
   "source": [
    "Each component of the random vector can be indexed using brackets, to create a random variable.  Python uses zero-based indexing, so the first component is 0, the second is 1, and so on."
   ]
  },
  {
   "cell_type": "code",
   "execution_count": null,
   "metadata": {},
   "outputs": [],
   "source": [
    "XY[0].sim(10000).plot()"
   ]
  },
  {
   "cell_type": "markdown",
   "metadata": {},
   "source": [
    "You can also access multiple components at once."
   ]
  },
  {
   "cell_type": "code",
   "execution_count": null,
   "metadata": {},
   "outputs": [],
   "source": [
    "XY[0, 1].sim(10000).plot()"
   ]
  },
  {
   "cell_type": "markdown",
   "metadata": {},
   "source": [
    "Create a random vector of the four random variables, N, S, X, Y.  "
   ]
  },
  {
   "cell_type": "code",
   "execution_count": null,
   "metadata": {},
   "outputs": [],
   "source": [
    "# TYPE YOUR SYMBULATE COMMANDS IN THIS CELL"
   ]
  },
  {
   "cell_type": "markdown",
   "metadata": {},
   "source": [
    "Use your random vector and the brackets notation to simulate and plot the marginal distribution of one of the variables.  (So you've already done this above, now you're just using different notation to refer to variable.)"
   ]
  },
  {
   "cell_type": "code",
   "execution_count": null,
   "metadata": {},
   "outputs": [],
   "source": [
    "# TYPE YOUR SYMBULATE COMMANDS IN THIS CELL"
   ]
  },
  {
   "cell_type": "markdown",
   "metadata": {},
   "source": [
    "Use your random vector and the brackets notation to simulate and plot the joint distribution of two of the variables.  (So you've already done this above, now you're just using different notation to refer to variable.)"
   ]
  },
  {
   "cell_type": "code",
   "execution_count": null,
   "metadata": {},
   "outputs": [],
   "source": [
    "# TYPE YOUR SYMBULATE COMMANDS IN THIS CELL"
   ]
  },
  {
   "cell_type": "markdown",
   "metadata": {},
   "source": [
    "Use your random vector and the brackets notation to simulate and plot the conditional distribution of one of the variables given some event involving the other.  (So you've already done this above, now you're just using different notation to refer to variable.)"
   ]
  },
  {
   "cell_type": "code",
   "execution_count": null,
   "metadata": {},
   "outputs": [],
   "source": [
    "# TYPE YOUR SYMBULATE COMMANDS IN THIS CELL"
   ]
  },
  {
   "cell_type": "markdown",
   "metadata": {},
   "source": [
    "## Submission Instructions\n",
    "\n",
    "Before you submit this notebook, click the \"Kernel\" drop-down menu at the top of this page and select \"Restart & Run All\". This will ensure that all of the code in your notebook executes properly. Please fix any errors, and repeat the process until the entire notebook executes without any errors.\n",
    "\n",
    "Then, to submit your notebook, follow these instructions:\n",
    "- Save your notebook by going to `File > Save and Checkpoint`. \n",
    "- Download your notebook by going to `File > Download as > Notebook (.ipynb)`.\n",
    "- Download your notebook as an HTML file by going to `File > Download as > HTML (.html)`.\n",
    "- Upload the downloaded `.ipynb` and `.html` files to PolyLearn."
   ]
  },
  {
   "cell_type": "code",
   "execution_count": null,
   "metadata": {},
   "outputs": [],
   "source": []
  }
 ],
 "metadata": {
  "kernelspec": {
   "display_name": "Python 3",
   "language": "python",
   "name": "python3"
  },
  "language_info": {
   "codemirror_mode": {
    "name": "ipython",
    "version": 3
   },
   "file_extension": ".py",
   "mimetype": "text/x-python",
   "name": "python",
   "nbconvert_exporter": "python",
   "pygments_lexer": "ipython3",
   "version": "3.6.6"
  }
 },
 "nbformat": 4,
 "nbformat_minor": 2
}
