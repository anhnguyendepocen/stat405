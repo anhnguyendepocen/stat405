{
 "cells": [
  {
   "cell_type": "code",
   "execution_count": 1,
   "metadata": {},
   "outputs": [],
   "source": [
    "from symbulate import *\n",
    "%matplotlib inline"
   ]
  },
  {
   "cell_type": "code",
   "execution_count": 2,
   "metadata": {},
   "outputs": [
    {
     "data": {
      "text/html": [
       "\n",
       "<table>\n",
       "  <thead>\n",
       "    <th width=\"80%\">Outcome</th>\n",
       "    <th width=\"20%\">Value</th>\n",
       "  </thead>\n",
       "  <tbody>\n",
       "    <tr><td>('disease', 'not positive')</td><td>399</td></tr><tr><td>('disease', 'positive')</td><td>566</td></tr><tr><td>('not disease', 'not positive')</td><td>7211</td></tr><tr><td>('not disease', 'positive')</td><td>1824</td></tr><tr><td><b>Total</b></td><td><b>10000</b></td></tr>\n",
       "  </tbody>\n",
       "</table>\n"
      ],
      "text/plain": [
       "{('disease', 'not positive'): 399,\n",
       " ('disease', 'positive'): 566,\n",
       " ('not disease', 'not positive'): 7211,\n",
       " ('not disease', 'positive'): 1824}"
      ]
     },
     "execution_count": 2,
     "metadata": {},
     "output_type": "execute_result"
    }
   ],
   "source": [
    "def disease_sim():\n",
    "    status = BoxModel(['disease', 'not disease'], probs=[0.1, 0.9]).draw()\n",
    "    if status == 'disease':\n",
    "        test_result = BoxModel(['positive', 'not positive'], probs=[0.6, 0.4]).draw()\n",
    "    else:\n",
    "        test_result = BoxModel(['positive', 'not positive'], probs=[0.2, 0.8]).draw()\n",
    "    return status, test_result\n",
    "\n",
    "P = ProbabilitySpace(disease_sim)\n",
    "\n",
    "reps = P.sim(10000)\n",
    "reps.tabulate()"
   ]
  },
  {
   "cell_type": "code",
   "execution_count": 3,
   "metadata": {},
   "outputs": [
    {
     "data": {
      "text/html": [
       "\n",
       "<table>\n",
       "  <thead>\n",
       "    <th width=\"80%\">Outcome</th>\n",
       "    <th width=\"20%\">Value</th>\n",
       "  </thead>\n",
       "  <tbody>\n",
       "    <tr><td>disease</td><td>2445</td></tr><tr><td>not disease</td><td>7555</td></tr><tr><td><b>Total</b></td><td><b>10000</b></td></tr>\n",
       "  </tbody>\n",
       "</table>\n"
      ],
      "text/plain": [
       "{'disease': 2445, 'not disease': 7555}"
      ]
     },
     "execution_count": 3,
     "metadata": {},
     "output_type": "execute_result"
    }
   ],
   "source": [
    "A, B = RV(P)\n",
    "\n",
    "(A | (B == 'positive')).sim(10000).tabulate()"
   ]
  },
  {
   "cell_type": "code",
   "execution_count": 6,
   "metadata": {},
   "outputs": [
    {
     "data": {
      "text/html": [
       "\n",
       "<table>\n",
       "  <thead>\n",
       "    <th width=\"80%\">Outcome</th>\n",
       "    <th width=\"20%\">Value</th>\n",
       "  </thead>\n",
       "  <tbody>\n",
       "    <tr><td>('disease', (not positive, not positive))</td><td>178</td></tr><tr><td>('disease', (not positive, positive))</td><td>221</td></tr><tr><td>('disease', (positive, not positive))</td><td>210</td></tr><tr><td>('disease', (positive, positive))</td><td>360</td></tr><tr><td>('not disease', (not positive, not positive))</td><td>5821</td></tr><tr><td>('not disease', (not positive, positive))</td><td>1397</td></tr><tr><td>('not disease', (positive, not positive))</td><td>1460</td></tr><tr><td>('not disease', (positive, positive))</td><td>353</td></tr><tr><td><b>Total</b></td><td><b>10000</b></td></tr>\n",
       "  </tbody>\n",
       "</table>\n"
      ],
      "text/plain": [
       "{('disease', (not positive, not positive)): 178,\n",
       " ('disease', (not positive, positive)): 221,\n",
       " ('disease', (positive, not positive)): 210,\n",
       " ('disease', (positive, positive)): 360,\n",
       " ('not disease', (not positive, not positive)): 5821,\n",
       " ('not disease', (not positive, positive)): 1397,\n",
       " ('not disease', (positive, not positive)): 1460,\n",
       " ('not disease', (positive, positive)): 353}"
      ]
     },
     "execution_count": 6,
     "metadata": {},
     "output_type": "execute_result"
    }
   ],
   "source": [
    "def disease_sim():\n",
    "    status = BoxModel(['disease', 'not disease'], probs=[0.1, 0.9]).draw()\n",
    "    if status == 'disease':\n",
    "        test_result = BoxModel(['positive', 'not positive'], probs=[0.6, 0.4], size=2).draw()\n",
    "    else:\n",
    "        test_result = BoxModel(['positive', 'not positive'], probs=[0.2, 0.8], size=2).draw()\n",
    "    return status, test_result\n",
    "\n",
    "P = ProbabilitySpace(disease_sim)\n",
    "\n",
    "reps = P.sim(10000)\n",
    "reps.tabulate()"
   ]
  },
  {
   "cell_type": "code",
   "execution_count": 8,
   "metadata": {},
   "outputs": [
    {
     "data": {
      "text/html": [
       "\n",
       "<table>\n",
       "  <thead>\n",
       "    <th width=\"80%\">Outcome</th>\n",
       "    <th width=\"20%\">Value</th>\n",
       "  </thead>\n",
       "  <tbody>\n",
       "    <tr><td>disease</td><td>4978</td></tr><tr><td>not disease</td><td>5022</td></tr><tr><td><b>Total</b></td><td><b>10000</b></td></tr>\n",
       "  </tbody>\n",
       "</table>\n"
      ],
      "text/plain": [
       "{'disease': 4978, 'not disease': 5022}"
      ]
     },
     "execution_count": 8,
     "metadata": {},
     "output_type": "execute_result"
    }
   ],
   "source": [
    "A, B = RV(P)\n",
    "\n",
    "(A | ( (B[0] == 'positive') & (B[1] == 'positive') ) ).sim(10000).tabulate()"
   ]
  },
  {
   "cell_type": "code",
   "execution_count": null,
   "metadata": {},
   "outputs": [],
   "source": []
  }
 ],
 "metadata": {
  "kernelspec": {
   "display_name": "Python 3",
   "language": "python",
   "name": "python3"
  },
  "language_info": {
   "codemirror_mode": {
    "name": "ipython",
    "version": 3
   },
   "file_extension": ".py",
   "mimetype": "text/x-python",
   "name": "python",
   "nbconvert_exporter": "python",
   "pygments_lexer": "ipython3",
   "version": "3.6.6"
  }
 },
 "nbformat": 4,
 "nbformat_minor": 2
}
