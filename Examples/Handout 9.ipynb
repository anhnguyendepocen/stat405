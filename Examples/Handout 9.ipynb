{
 "cells": [
  {
   "cell_type": "code",
   "execution_count": 1,
   "metadata": {},
   "outputs": [],
   "source": [
    "from symbulate import *\n",
    "%matplotlib inline"
   ]
  },
  {
   "cell_type": "markdown",
   "metadata": {},
   "source": [
    "## Exer 9.3 - Down syndrome"
   ]
  },
  {
   "cell_type": "code",
   "execution_count": 2,
   "metadata": {},
   "outputs": [
    {
     "data": {
      "text/html": [
       "\n",
       "    <table>\n",
       "      <thead>\n",
       "        <th width=\"80%\">Outcome</th>\n",
       "        <th width=\"20%\">Value</th>\n",
       "      </thead>\n",
       "      <tbody>\n",
       "        <tr><td>('DS', 'not pos')</td><td>42</td></tr><tr><td>('DS', 'pos')</td><td>348</td></tr><tr><td>('not DS', 'not pos')</td><td>94702</td></tr><tr><td>('not DS', 'pos')</td><td>4908</td></tr><tr><td><b>Total</b></td><td><b>100000</b></td></tr>\n",
       "      </tbody>\n",
       "    </table>\n",
       "    "
      ],
      "text/plain": [
       "{('DS', 'not pos'): 42,\n",
       " ('DS', 'pos'): 348,\n",
       " ('not DS', 'not pos'): 94702,\n",
       " ('not DS', 'pos'): 4908}"
      ]
     },
     "execution_count": 2,
     "metadata": {},
     "output_type": "execute_result"
    }
   ],
   "source": [
    "def ds_test():\n",
    "    x = BoxModel(['DS', 'not DS'], probs=[1/250, 1-1/250]).draw()\n",
    "    if x == 'DS':\n",
    "        y = BoxModel(['pos', 'not pos'], probs=[0.9, 0.1]).draw()\n",
    "    else:\n",
    "        y= BoxModel(['pos', 'not pos'], probs=[0.05, 0.95]).draw()\n",
    "    return x, y\n",
    "        \n",
    "        \n",
    "P = ProbabilitySpace(ds_test)\n",
    "P.sim(100000).tabulate()"
   ]
  },
  {
   "cell_type": "code",
   "execution_count": 3,
   "metadata": {},
   "outputs": [
    {
     "data": {
      "text/html": [
       "\n",
       "    <table>\n",
       "      <thead>\n",
       "        <th width=\"80%\">Outcome</th>\n",
       "        <th width=\"20%\">Value</th>\n",
       "      </thead>\n",
       "      <tbody>\n",
       "        <tr><td>DS</td><td>0.0693</td></tr><tr><td>not DS</td><td>0.9307</td></tr><tr><td><b>Total</b></td><td><b>1.0</b></td></tr>\n",
       "      </tbody>\n",
       "    </table>\n",
       "    "
      ],
      "text/plain": [
       "{'DS': 0.0693, 'not DS': 0.9307}"
      ]
     },
     "execution_count": 3,
     "metadata": {},
     "output_type": "execute_result"
    }
   ],
   "source": [
    "Status, Result = RV(P)\n",
    "( Status | ( Result == 'pos') ).sim(10000).tabulate(normalize=True)"
   ]
  },
  {
   "cell_type": "markdown",
   "metadata": {},
   "source": [
    "## Exer 9.4 - birthday"
   ]
  },
  {
   "cell_type": "code",
   "execution_count": 4,
   "metadata": {},
   "outputs": [
    {
     "data": {
      "text/plain": [
       "0.1903"
      ]
     },
     "execution_count": 4,
     "metadata": {},
     "output_type": "execute_result"
    },
    {
     "data": {
      "image/png": "[encoded data removed]",
      "text/plain": [
       "<Figure size 432x288 with 1 Axes>"
      ]
     },
     "metadata": {},
     "output_type": "display_data"
    }
   ],
   "source": [
    "# probability space for the 35 birthdays\n",
    "birthdays = 365\n",
    "n = 35\n",
    "P = BoxModel(list(range(birthdays)), size=n, replace=True)\n",
    "\n",
    "# define a function that takes a list of people and counts number of distinct birthdays\n",
    "def unique_birthdays(omega):\n",
    "    return len(set(omega))\n",
    "\n",
    "# define the RV\n",
    "X = RV(P, unique_birthdays)\n",
    "\n",
    "x = X.sim(10000)\n",
    "x.plot()\n",
    "x.count_eq(n) / 10000 # estimated prob that all birthdays are different"
   ]
  },
  {
   "cell_type": "markdown",
   "metadata": {},
   "source": [
    "## Exer 9.5 - Harry"
   ]
  },
  {
   "cell_type": "code",
   "execution_count": 5,
   "metadata": {},
   "outputs": [
    {
     "data": {
      "text/html": [
       "\n",
       "    <table>\n",
       "      <thead>\n",
       "        <th width=\"80%\">Outcome</th>\n",
       "        <th width=\"20%\">Value</th>\n",
       "      </thead>\n",
       "      <tbody>\n",
       "        <tr><td>(1, 2)</td><td>0.0497</td></tr><tr><td>(1, 3)</td><td>0.0501</td></tr><tr><td>(1, 4)</td><td>0.0483</td></tr><tr><td>(1, 5)</td><td>0.0502</td></tr><tr><td>(2, 1)</td><td>0.0493</td></tr><tr><td>(2, 3)</td><td>0.0516</td></tr><tr><td>(2, 4)</td><td>0.052</td></tr><tr><td>(2, 5)</td><td>0.0459</td></tr><tr><td>(3, 1)</td><td>0.0549</td></tr><tr><td>(3, 2)</td><td>0.0506</td></tr><tr><td>(3, 4)</td><td>0.0467</td></tr><tr><td>(3, 5)</td><td>0.0483</td></tr><tr><td>(4, 1)</td><td>0.0536</td></tr><tr><td>(4, 2)</td><td>0.0514</td></tr><tr><td>(4, 3)</td><td>0.05</td></tr><tr><td>(4, 5)</td><td>0.0514</td></tr><tr><td>(5, 1)</td><td>0.0475</td></tr><tr><td>(5, 2)</td><td>0.0506</td></tr><tr><td>(5, 3)</td><td>0.0466</td></tr><tr><td>...</td><td>...</td></tr><tr><td>(5, 4)</td><td>0.0513</td></tr><tr><td><b>Total</b></td><td><b>1.0</b></td></tr>\n",
       "      </tbody>\n",
       "    </table>\n",
       "    "
      ],
      "text/plain": [
       "{(1, 2): 0.0497,\n",
       " (1, 3): 0.0501,\n",
       " (1, 4): 0.0483,\n",
       " (1, 5): 0.0502,\n",
       " (2, 1): 0.0493,\n",
       " (2, 3): 0.0516,\n",
       " (2, 4): 0.052,\n",
       " (2, 5): 0.0459,\n",
       " (3, 1): 0.0549,\n",
       " (3, 2): 0.0506,\n",
       " (3, 4): 0.0467,\n",
       " (3, 5): 0.0483,\n",
       " (4, 1): 0.0536,\n",
       " (4, 2): 0.0514,\n",
       " (4, 3): 0.05,\n",
       " (4, 5): 0.0514,\n",
       " (5, 1): 0.0475,\n",
       " (5, 2): 0.0506,\n",
       " (5, 3): 0.0466,\n",
       " (5, 4): 0.0513}"
      ]
     },
     "execution_count": 5,
     "metadata": {},
     "output_type": "execute_result"
    }
   ],
   "source": [
    "P = BoxModel([1, 2, 3, 4, 5], size=2, replace=False)\n",
    "P.sim(10000).tabulate(normalize=True)"
   ]
  },
  {
   "cell_type": "code",
   "execution_count": 6,
   "metadata": {},
   "outputs": [
    {
     "data": {
      "text/html": [
       "\n",
       "    <table>\n",
       "      <thead>\n",
       "        <th width=\"80%\">Outcome</th>\n",
       "        <th width=\"20%\">Value</th>\n",
       "      </thead>\n",
       "      <tbody>\n",
       "        <tr><td>1</td><td>0.2023</td></tr><tr><td>2</td><td>0.1982</td></tr><tr><td>3</td><td>0.2065</td></tr><tr><td>4</td><td>0.1977</td></tr><tr><td>5</td><td>0.1953</td></tr><tr><td><b>Total</b></td><td><b>1.0</b></td></tr>\n",
       "      </tbody>\n",
       "    </table>\n",
       "    "
      ],
      "text/plain": [
       "{1: 0.2023, 2: 0.1982, 3: 0.2065, 4: 0.1977, 5: 0.1953}"
      ]
     },
     "execution_count": 6,
     "metadata": {},
     "output_type": "execute_result"
    }
   ],
   "source": [
    "P = BoxModel([1, 2, 3, 4, 5], size=2, replace=False)\n",
    "First, Second = RV(P)\n",
    "(Second).sim(10000).tabulate(normalize=True)"
   ]
  },
  {
   "cell_type": "code",
   "execution_count": 7,
   "metadata": {},
   "outputs": [
    {
     "data": {
      "text/html": [
       "\n",
       "    <table>\n",
       "      <thead>\n",
       "        <th width=\"80%\">Outcome</th>\n",
       "        <th width=\"20%\">Value</th>\n",
       "      </thead>\n",
       "      <tbody>\n",
       "        <tr><td>1</td><td>0.0</td></tr><tr><td>2</td><td>0.2546</td></tr><tr><td>3</td><td>0.253</td></tr><tr><td>4</td><td>0.2457</td></tr><tr><td>5</td><td>0.2467</td></tr><tr><td><b>Total</b></td><td><b>1.0</b></td></tr>\n",
       "      </tbody>\n",
       "    </table>\n",
       "    "
      ],
      "text/plain": [
       "{1: 0.0, 2: 0.2546, 3: 0.253, 4: 0.2457, 5: 0.2467}"
      ]
     },
     "execution_count": 7,
     "metadata": {},
     "output_type": "execute_result"
    }
   ],
   "source": [
    "(Second | (First == 1) ).sim(10000).tabulate([1, 2, 3, 4, 5], normalize=True)"
   ]
  },
  {
   "cell_type": "code",
   "execution_count": 8,
   "metadata": {},
   "outputs": [
    {
     "data": {
      "text/html": [
       "\n",
       "    <table>\n",
       "      <thead>\n",
       "        <th width=\"80%\">Outcome</th>\n",
       "        <th width=\"20%\">Value</th>\n",
       "      </thead>\n",
       "      <tbody>\n",
       "        <tr><td>1</td><td>0.249</td></tr><tr><td>2</td><td>0.1852</td></tr><tr><td>3</td><td>0.1878</td></tr><tr><td>4</td><td>0.1874</td></tr><tr><td>5</td><td>0.1906</td></tr><tr><td><b>Total</b></td><td><b>1.0</b></td></tr>\n",
       "      </tbody>\n",
       "    </table>\n",
       "    "
      ],
      "text/plain": [
       "{1: 0.249, 2: 0.1852, 3: 0.1878, 4: 0.1874, 5: 0.1906}"
      ]
     },
     "execution_count": 8,
     "metadata": {},
     "output_type": "execute_result"
    }
   ],
   "source": [
    "(Second | ~(First == 1) ).sim(10000).tabulate([1, 2, 3, 4, 5], normalize=True)"
   ]
  },
  {
   "cell_type": "markdown",
   "metadata": {},
   "source": [
    "## Exer 9.6 - presidential approval"
   ]
  },
  {
   "cell_type": "code",
   "execution_count": 9,
   "metadata": {},
   "outputs": [
    {
     "data": {
      "text/html": [
       "\n",
       "    <table>\n",
       "      <thead>\n",
       "        <th width=\"80%\">Outcome</th>\n",
       "        <th width=\"20%\">Value</th>\n",
       "      </thead>\n",
       "      <tbody>\n",
       "        <tr><td>('D', 'A')</td><td>2149</td></tr><tr><td>('D', 'not A')</td><td>24775</td></tr><tr><td>('I', 'A')</td><td>16116</td></tr><tr><td>('I', 'not A')</td><td>29069</td></tr><tr><td>('R', 'A')</td><td>23775</td></tr><tr><td>('R', 'not A')</td><td>4116</td></tr><tr><td><b>Total</b></td><td><b>100000</b></td></tr>\n",
       "      </tbody>\n",
       "    </table>\n",
       "    "
      ],
      "text/plain": [
       "{('D', 'A'): 2149,\n",
       " ('D', 'not A'): 24775,\n",
       " ('I', 'A'): 16116,\n",
       " ('I', 'not A'): 29069,\n",
       " ('R', 'A'): 23775,\n",
       " ('R', 'not A'): 4116}"
      ]
     },
     "execution_count": 9,
     "metadata": {},
     "output_type": "execute_result"
    }
   ],
   "source": [
    "def party_approval():\n",
    "    x = BoxModel(['R', 'I', 'D'], probs=[0.28, 0.45, 0.27]).draw()\n",
    "    if x == 'R':\n",
    "        y = BoxModel(['A', 'not A'], probs=[0.85, 0.15]).draw()\n",
    "    elif x == 'I':\n",
    "        y = BoxModel(['A', 'not A'], probs=[0.36, 0.64]).draw()\n",
    "    else:\n",
    "        y = BoxModel(['A', 'not A'], probs=[0.08, 0.92]).draw()\n",
    "    return x, y\n",
    "        \n",
    "        \n",
    "P = ProbabilitySpace(party_approval)\n",
    "P.sim(100000).tabulate()"
   ]
  },
  {
   "cell_type": "code",
   "execution_count": 10,
   "metadata": {},
   "outputs": [
    {
     "data": {
      "text/html": [
       "\n",
       "    <table>\n",
       "      <thead>\n",
       "        <th width=\"80%\">Outcome</th>\n",
       "        <th width=\"20%\">Value</th>\n",
       "      </thead>\n",
       "      <tbody>\n",
       "        <tr><td>D</td><td>0.0539</td></tr><tr><td>I</td><td>0.3869</td></tr><tr><td>R</td><td>0.5592</td></tr><tr><td><b>Total</b></td><td><b>1.0</b></td></tr>\n",
       "      </tbody>\n",
       "    </table>\n",
       "    "
      ],
      "text/plain": [
       "{'D': 0.0539, 'I': 0.3869, 'R': 0.5592}"
      ]
     },
     "execution_count": 10,
     "metadata": {},
     "output_type": "execute_result"
    }
   ],
   "source": [
    "Party, Approval = RV(P)\n",
    "(Party | (Approval == 'A') ).sim(10000).tabulate(normalize=True)"
   ]
  },
  {
   "cell_type": "code",
   "execution_count": null,
   "metadata": {},
   "outputs": [],
   "source": []
  }
 ],
 "metadata": {
  "kernelspec": {
   "display_name": "Python 3",
   "language": "python",
   "name": "python3"
  },
  "language_info": {
   "codemirror_mode": {
    "name": "ipython",
    "version": 3
   },
   "file_extension": ".py",
   "mimetype": "text/x-python",
   "name": "python",
   "nbconvert_exporter": "python",
   "pygments_lexer": "ipython3",
   "version": "3.6.6"
  }
 },
 "nbformat": 4,
 "nbformat_minor": 2
}
