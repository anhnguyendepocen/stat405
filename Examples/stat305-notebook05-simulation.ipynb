{
 "cells": [
  {
   "cell_type": "markdown",
   "metadata": {},
   "source": [
    "# STAT 305 - Handout 5\n",
    "# Introduction to Symbulate"
   ]
  },
  {
   "cell_type": "markdown",
   "metadata": {},
   "source": [
    "Symbulate is a Python package which provides a user friendly framework for conducting simulations involving probability models. The syntax of Symbulate mirrors the \"language of probability\" in that the primary objects in\n",
    "Symbulate are the same as the primary components of a probability model: probability spaces, random variables, events.  Once these components are specified, Symbulate allows users to simulate many times from the \n",
    "probability model and summarize those results.\n",
    "\n",
    "Conducting and analyzing simulations in Symbulate requires minimal programming. Symbulate\n",
    "eliminates the need for: writing loops to perform repetitions of a simulation, initializing and\n",
    "updating variables to store results, \"vectorizing\" code, and learning commands or packages to\n",
    "produce graphics. In addition, there is no need to install additional packages or libraries.\n",
    "\n",
    "The Symbulate package can be freely downloaded from the [Symbulate Github repository](\\href{https://github.com/dlsun/symbulate}). This section contains a brief introduction to Symbulate; many more examples will be introduced throughout the course.  More examples can be also found in the [Symbulate documentation](https://dlsun.github.io/symbulate/index.html)."
   ]
  },
  {
   "cell_type": "code",
   "execution_count": 14,
   "metadata": {},
   "outputs": [
    {
     "data": {
      "text/plain": [
       "2.0"
      ]
     },
     "execution_count": 14,
     "metadata": {},
     "output_type": "execute_result"
    }
   ],
   "source": [
    "4/2"
   ]
  },
  {
   "cell_type": "code",
   "execution_count": 13,
   "metadata": {},
   "outputs": [
    {
     "data": {
      "text/plain": [
       "5"
      ]
     },
     "execution_count": 13,
     "metadata": {},
     "output_type": "execute_result"
    }
   ],
   "source": [
    "3 + 2"
   ]
  },
  {
   "cell_type": "markdown",
   "metadata": {},
   "source": [
    " The following command imports Symbulate during a Python session.  (The second line is an \"IPython magic\" which enables inline plotting.)"
   ]
  },
  {
   "cell_type": "code",
   "execution_count": 1,
   "metadata": {},
   "outputs": [],
   "source": [
    "from symbulate import *\n",
    "%matplotlib inline"
   ]
  },
  {
   "cell_type": "markdown",
   "metadata": {},
   "source": [
    "## Probability spaces"
   ]
  },
  {
   "cell_type": "markdown",
   "metadata": {},
   "source": [
    "We introduce some of the core Symbulate commands with a simple example.  Roll a fair four-sided die twice and let $X$ be the sum of two rolls and $Y$ be the larger of the two rolls (or the common value if a tie).  The following Symbulate code defines a probability space `P` for simulating the 16 equally likely ordered pairs of rolls via a `BoxModel`."
   ]
  },
  {
   "cell_type": "code",
   "execution_count": 2,
   "metadata": {},
   "outputs": [],
   "source": [
    "P = BoxModel([1, 2, 3, 4], size=2, replace=True, order_matters=True)"
   ]
  },
  {
   "cell_type": "markdown",
   "metadata": {},
   "source": [
    "(Technical note on notation: a probability space is a triple $(\\Omega, \\mathcal{F}, P)$, while $P$ is just the probability measure. We primarily view a Symbulate probability space as a description of the probability model rather than an explicit specification of $\\Omega$.  For example, we define a `BoxModel` instead of creating a set with all possible outcomes.  We tend to represent a probability space with `P`, even though this is a slight abuse of notation.)"
   ]
  },
  {
   "cell_type": "markdown",
   "metadata": {},
   "source": [
    "An outcome of `P` consists of a draw of 2 tickets in sequence, with replacement, from a box with tickets labeled \n",
    "1, 2, 3, and 4. Each simulated outcome consists of an ordered pair of rolls.  The `sim` command simulates realizations of probability space outcomes (or events or random variables). "
   ]
  },
  {
   "cell_type": "code",
   "execution_count": 3,
   "metadata": {},
   "outputs": [
    {
     "data": {
      "text/html": [
       "\n",
       "    <table>\n",
       "      <thead>\n",
       "        <th width=\"10%\">Index</th>\n",
       "        <th width=\"90%\">Result</th>\n",
       "      </thead>\n",
       "      <tbody>\n",
       "        \n",
       "        <tr>\n",
       "          <td>0</td><td>(4, 3)</td>\n",
       "        </tr>\n",
       "        \n",
       "        <tr>\n",
       "          <td>1</td><td>(4, 1)</td>\n",
       "        </tr>\n",
       "        \n",
       "        <tr>\n",
       "          <td>2</td><td>(4, 3)</td>\n",
       "        </tr>\n",
       "        \n",
       "        <tr>\n",
       "          <td>3</td><td>(1, 1)</td>\n",
       "        </tr>\n",
       "        \n",
       "      </tbody>\n",
       "    </table>\n",
       "    "
      ],
      "text/plain": [
       "<symbulate.results.Results at 0x50667f0>"
      ]
     },
     "execution_count": 3,
     "metadata": {},
     "output_type": "execute_result"
    }
   ],
   "source": [
    "P.sim(4)"
   ]
  },
  {
   "cell_type": "markdown",
   "metadata": {},
   "source": [
    "(Technical note: Python follows zero-based indexing; the first item in a list is 0, the second item is 1, etc.)"
   ]
  },
  {
   "cell_type": "markdown",
   "metadata": {},
   "source": [
    "Symbulate objects have methods such as `sim`, `tabulate`, which can be \"chained\" together with periods `.`; in this way a line of code can be loosely read left to right as a sentence.  In the following, `P.sim(10000).tabulate()` can read like \"For the probability space `P`, simulate 10000 outcomes and tabulate them\"."
   ]
  },
  {
   "cell_type": "code",
   "execution_count": 4,
   "metadata": {},
   "outputs": [
    {
     "data": {
      "text/html": [
       "\n",
       "    <table>\n",
       "      <thead>\n",
       "        <th width=\"80%\">Outcome</th>\n",
       "        <th width=\"20%\">Value</th>\n",
       "      </thead>\n",
       "      <tbody>\n",
       "        <tr><td>(2, 3)</td><td>990</td></tr><tr><td>(4, 4)</td><td>1005</td></tr><tr><td>(3, 3)</td><td>978</td></tr><tr><td>(3, 1)</td><td>1009</td></tr><tr><td>(1, 1)</td><td>1073</td></tr><tr><td>(1, 3)</td><td>1044</td></tr><tr><td>(2, 4)</td><td>993</td></tr><tr><td>(4, 3)</td><td>982</td></tr><tr><td>(4, 2)</td><td>1011</td></tr><tr><td>(1, 4)</td><td>996</td></tr><tr><td>(2, 2)</td><td>990</td></tr><tr><td>(4, 1)</td><td>1018</td></tr><tr><td>(2, 1)</td><td>984</td></tr><tr><td>(1, 2)</td><td>992</td></tr><tr><td>(3, 2)</td><td>965</td></tr><tr><td>(3, 4)</td><td>970</td></tr><tr><td><b>Total</b></td><td><b>16000</b></td></tr>\n",
       "      </tbody>\n",
       "    </table>\n",
       "    "
      ],
      "text/plain": [
       "{(2, 3): 990,\n",
       " (4, 4): 1005,\n",
       " (3, 3): 978,\n",
       " (3, 1): 1009,\n",
       " (1, 1): 1073,\n",
       " (1, 3): 1044,\n",
       " (2, 4): 993,\n",
       " (4, 3): 982,\n",
       " (4, 2): 1011,\n",
       " (1, 4): 996,\n",
       " (2, 2): 990,\n",
       " (4, 1): 1018,\n",
       " (2, 1): 984,\n",
       " (1, 2): 992,\n",
       " (3, 2): 965,\n",
       " (3, 4): 970}"
      ]
     },
     "execution_count": 4,
     "metadata": {},
     "output_type": "execute_result"
    }
   ],
   "source": [
    "P.sim(16000).tabulate()"
   ]
  },
  {
   "cell_type": "markdown",
   "metadata": {},
   "source": [
    "## Random variables"
   ]
  },
  {
   "cell_type": "markdown",
   "metadata": {},
   "source": [
    "Recall that a random variable is a function mapping outcomes in the sample space to real numbers.  A Symbulate `RV` is specified by the probability space on which it is defined and the mapping function."
   ]
  },
  {
   "cell_type": "code",
   "execution_count": 5,
   "metadata": {},
   "outputs": [],
   "source": [
    "X = RV(P, sum)\n",
    "Y = RV(P, max)"
   ]
  },
  {
   "cell_type": "markdown",
   "metadata": {},
   "source": [
    "The above code simply defines the random variables.  Since a random variable $X$ is a function, any `RV` can be called as a function to return its value $X(\\omega)$ for a particular outcome $\\omega$ in the probability space."
   ]
  },
  {
   "cell_type": "code",
   "execution_count": 6,
   "metadata": {},
   "outputs": [
    {
     "name": "stdout",
     "output_type": "stream",
     "text": [
      "Warning: Calling an RV as a function simply applies the function that defines the RV to the input, regardless of whether that input is a possible outcome in the underlying probability space.\n",
      "Warning: Calling an RV as a function simply applies the function that defines the RV to the input, regardless of whether that input is a possible outcome in the underlying probability space.\n"
     ]
    },
    {
     "data": {
      "text/plain": [
       "(5, 3)"
      ]
     },
     "execution_count": 6,
     "metadata": {},
     "output_type": "execute_result"
    }
   ],
   "source": [
    "omega = (3, 2)  # a pair of rolls\n",
    "X(omega), Y(omega)"
   ]
  },
  {
   "cell_type": "markdown",
   "metadata": {},
   "source": [
    "The following commands simulate 10,000 values of the random variable `Y`, store the results as `y`, and summarize the realized values and their relative frequencies, in a plot and table.  (The default option `normalize=False` returns frequencies (counts).)  Note that the random variable itself is denoted with an uppercase letter `Y`, while the realized values of it are denoted with a lowercase letter `y`."
   ]
  },
  {
   "cell_type": "code",
   "execution_count": 7,
   "metadata": {},
   "outputs": [
    {
     "data": {
      "text/html": [
       "\n",
       "    <table>\n",
       "      <thead>\n",
       "        <th width=\"80%\">Outcome</th>\n",
       "        <th width=\"20%\">Value</th>\n",
       "      </thead>\n",
       "      <tbody>\n",
       "        <tr><td>1</td><td>0.0629</td></tr><tr><td>2</td><td>0.1843</td></tr><tr><td>3</td><td>0.3119</td></tr><tr><td>4</td><td>0.4409</td></tr><tr><td><b>Total</b></td><td><b>1.0</b></td></tr>\n",
       "      </tbody>\n",
       "    </table>\n",
       "    "
      ],
      "text/plain": [
       "{1: 0.0629, 2: 0.1843, 3: 0.3119, 4: 0.4409}"
      ]
     },
     "execution_count": 7,
     "metadata": {},
     "output_type": "execute_result"
    },
    {
     "data": {
      "image/png": "[encoded data removed]",
      "text/plain": [
       "<Figure size 432x288 with 1 Axes>"
      ]
     },
     "metadata": {},
     "output_type": "display_data"
    }
   ],
   "source": [
    "y = Y.sim(10000)\n",
    "y.plot()\n",
    "y.tabulate(normalize=True)"
   ]
  },
  {
   "cell_type": "markdown",
   "metadata": {},
   "source": [
    "## Events"
   ]
  },
  {
   "cell_type": "markdown",
   "metadata": {},
   "source": [
    "Events can be defined and simulated.  For programming reasons, events are enclosed in parentheses `()` rather than braces $\\{\\}$.  A realization of an event is `True` if the event occurs for the simulated outcome ($\\omega \\in A$),  or `False` if not ($\\omega \\notin A$)."
   ]
  },
  {
   "cell_type": "code",
   "execution_count": 8,
   "metadata": {},
   "outputs": [
    {
     "data": {
      "text/html": [
       "\n",
       "    <table>\n",
       "      <thead>\n",
       "        <th width=\"80%\">Outcome</th>\n",
       "        <th width=\"20%\">Value</th>\n",
       "      </thead>\n",
       "      <tbody>\n",
       "        <tr><td>False</td><td>8077</td></tr><tr><td>True</td><td>1923</td></tr><tr><td><b>Total</b></td><td><b>10000</b></td></tr>\n",
       "      </tbody>\n",
       "    </table>\n",
       "    "
      ],
      "text/plain": [
       "{False: 8077, True: 1923}"
      ]
     },
     "execution_count": 8,
     "metadata": {},
     "output_type": "execute_result"
    }
   ],
   "source": [
    "A = (X <= 3) # an event\n",
    "A.sim(10000).tabulate()"
   ]
  },
  {
   "cell_type": "markdown",
   "metadata": {},
   "source": [
    "## Summary of Symbulate commands"
   ]
  },
  {
   "cell_type": "markdown",
   "metadata": {},
   "source": [
    "Many\n",
    "scenarios require only a few lines of Symbulate code to set up, run,\n",
    "analyze, and visualize. The following table comprises the\n",
    "requisite Symbulate commands for a wide variety of situations."
   ]
  },
  {
   "cell_type": "markdown",
   "metadata": {},
   "source": [
    "  \n",
    "  | Command                    | Function\n",
    "  | -------------------------- | -----------------------------------------------------------------------------------------\n",
    "  | `ProbabilitySpace`         | Define a probability space (e.g. `BoxModel`))\n",
    "  | `RV`                       | Define random variables or random vectors\n",
    "  | `apply`                    | Apply transformations\n",
    "  | `[]` (brackets)            | Access a component of a random vector, or a random process at a particular time\n",
    "  | `*` (and `**`)             | Define independent probability spaces or distributions\n",
    "  | `AssumeIndependent`        | Assume random variables or processes are independent\n",
    "  | &#124; (vertical bar)      | Condition on events\n",
    "  | `&`                        | Simulate multiple random variables (e.g. `(X & Y).sim(10000)`)\n",
    "  | `sim`                      | Simulate outcomes, events, random variables, and random processes\n",
    "  | `tabulate`                 | Tabulate simulated values\n",
    "  | `plot`                     | Plot simulated values\n",
    "  | `filter` (and relatives)   | Create subsets of simulated values (`filter_eq`, `filter_lt`, etc)\n",
    "  | `count` (and relatives)    | Count simulated values which satisfy some critera (`count_eq`, `count_lt`, etc)\n",
    "  | Statistical summaries      | `mean`, `median`, `sd`, `var`, `quantile`, `corr`, `cov`, etc.\n",
    "  | Common models              | `Binomial`, `Normal`, etc; encountered throughout the course"
   ]
  },
  {
   "cell_type": "markdown",
   "metadata": {},
   "source": [
    "While no previous experience with Python is required, it is also possible to incorporate Python programming with Symbulate code. In particular, Python functions or loops can be used: to define or transform random variables or stochastic processes, or to investigate the effects of changing parameter values.  Also, while many common plots are built in with the Symbulate `plot` function, the [Matplotlib package](https://matplotlib.org/) can be used to create or customize plots."
   ]
  },
  {
   "cell_type": "markdown",
   "metadata": {},
   "source": [
    "## Matching problem\n",
    "\n",
    "The `RV`s in the dice rolling example involved the common functions `sum` and `max`.  User-defined functions can also be used to define a Symbulate `RV`.  We will use the matching problem to illustrate the use of a user-defined function, and to compare Symbulate with a \"simulation-from-scratch\" like in the R example.\n",
    "\n",
    "**Exercise.** Imagine there is a `number_of_matches` function, just like there is a `sum` function.  For the matching problem when $n=4$ write the Symbulate code needed to:\n",
    "- Define a probability space\n",
    "- Define the RV $Y$\n",
    "- simulate many values of $Y$\n",
    "- summarize the simulated values in a plot and a table\n",
    "\n",
    "(We'll continue to label the prizes as 1, ..., n, though it would be more natural in Python as 0, ..., n-1)"
   ]
  },
  {
   "cell_type": "markdown",
   "metadata": {},
   "source": [
    "**Write your code before proceeding.**"
   ]
  },
  {
   "cell_type": "code",
   "execution_count": null,
   "metadata": {},
   "outputs": [],
   "source": []
  },
  {
   "cell_type": "code",
   "execution_count": null,
   "metadata": {},
   "outputs": [],
   "source": []
  },
  {
   "cell_type": "code",
   "execution_count": null,
   "metadata": {},
   "outputs": [],
   "source": []
  },
  {
   "cell_type": "markdown",
   "metadata": {},
   "source": [
    "```\n",
    "n = 4\n",
    "labels = list(range(1, n+1)) # Python syntax for [1, 2, ..., n]\n",
    "P = BoxModel(labels, size=n, replace=False, order_matters=True)\n",
    "Y = RV(P, number_of_matches)\n",
    "y = Y.sim(10000)\n",
    "y.plot()\n",
    "y.tabulate()\n",
    "```"
   ]
  },
  {
   "cell_type": "markdown",
   "metadata": {},
   "source": [
    "So coding primarily involves writing the `number_of_matches` function, which defines the RV $Y$.  The following function takes as an input an outcome $\\omega$ and defines the number of matches as a counter which goes through each box and adds 1 each time a match is encountered."
   ]
  },
  {
   "cell_type": "code",
   "execution_count": 9,
   "metadata": {},
   "outputs": [],
   "source": [
    "n = 4\n",
    "labels = list(range(1, n+1)) # Python syntax for [1, 2, ..., n]\n",
    "\n",
    "def number_of_matches(omega):\n",
    "    count = 0\n",
    "    for i in range(0, n, 1):\n",
    "        if omega[i] == labels[i]:\n",
    "            count += 1\n",
    "    return count"
   ]
  },
  {
   "cell_type": "markdown",
   "metadata": {},
   "source": [
    "Here is the function evaluated for a few sample outcomes"
   ]
  },
  {
   "cell_type": "code",
   "execution_count": 10,
   "metadata": {},
   "outputs": [
    {
     "data": {
      "text/plain": [
       "(4, 0, 2, 1)"
      ]
     },
     "execution_count": 10,
     "metadata": {},
     "output_type": "execute_result"
    }
   ],
   "source": [
    "number_of_matches((1, 2, 3, 4)), number_of_matches((4, 3, 2, 1)), number_of_matches((1, 2, 4, 3)), number_of_matches((1, 3, 4, 2))"
   ]
  },
  {
   "cell_type": "markdown",
   "metadata": {},
   "source": [
    "Now we can put our user-defined function together with the Symbulate code to obtain the simulation for $n=4$."
   ]
  },
  {
   "cell_type": "code",
   "execution_count": 11,
   "metadata": {},
   "outputs": [
    {
     "data": {
      "text/html": [
       "\n",
       "    <table>\n",
       "      <thead>\n",
       "        <th width=\"80%\">Outcome</th>\n",
       "        <th width=\"20%\">Value</th>\n",
       "      </thead>\n",
       "      <tbody>\n",
       "        <tr><td>0</td><td>3751</td></tr><tr><td>1</td><td>3278</td></tr><tr><td>2</td><td>2565</td></tr><tr><td>4</td><td>406</td></tr><tr><td><b>Total</b></td><td><b>10000</b></td></tr>\n",
       "      </tbody>\n",
       "    </table>\n",
       "    "
      ],
      "text/plain": [
       "{0: 3751, 1: 3278, 2: 2565, 4: 406}"
      ]
     },
     "execution_count": 11,
     "metadata": {},
     "output_type": "execute_result"
    },
    {
     "data": {
      "image/png": "[encoded data removed]",
      "text/plain": [
       "<Figure size 432x288 with 1 Axes>"
      ]
     },
     "metadata": {},
     "output_type": "display_data"
    }
   ],
   "source": [
    "n = 4\n",
    "labels = list(range(1, n+1)) # Python syntax for [1, 2, ..., n]\n",
    "\n",
    "def number_of_matches(omega):\n",
    "    count = 0\n",
    "    for i in range(0, n, 1):\n",
    "        if omega[i] == labels[i]:\n",
    "            count += 1\n",
    "    return count\n",
    "\n",
    "P = BoxModel(labels, size=n, replace=False, order_matters=True)\n",
    "Y = RV(P, number_of_matches)\n",
    "y = Y.sim(10000)\n",
    "y.plot()\n",
    "y.tabulate()"
   ]
  },
  {
   "cell_type": "markdown",
   "metadata": {},
   "source": [
    "## Jupyter widgets\n",
    "\n",
    "Jupyter widgets can be used to create user interface controls (e.g. sliders, dropdown boxes) for interactively exploring how output responds to changes in parameters.\n",
    "\n",
    "We can adapt the code for n=4 into a function `matching_sim` which takes $n$ as an input and outputs the plot of the simulated values of $Y$.  Then we can add a few lines of code to define a Jupyter widget with a slider for $n$ to interact with the plot.  (We also add a few `plt` lines to fix the axes so that they don't change as $n$ changes for easier comparison.)"
   ]
  },
  {
   "cell_type": "code",
   "execution_count": 12,
   "metadata": {},
   "outputs": [
    {
     "name": "stderr",
     "output_type": "stream",
     "text": [
      "Widget Javascript not detected.  It may not be installed or enabled properly.\n"
     ]
    },
    {
     "data": {
      "application/vnd.jupyter.widget-view+json": {
       "model_id": "a86b63f025e848e79606cee996e0c667"
      }
     },
     "metadata": {},
     "output_type": "display_data"
    }
   ],
   "source": [
    "import matplotlib.pyplot as plt\n",
    "from ipywidgets import interact\n",
    "import ipywidgets\n",
    "\n",
    "def matching_sim(n):\n",
    "    labels = list(range(1, n+1)) # Python syntax for [1, 2, ..., n]\n",
    "    def number_of_matches(omega):\n",
    "        count = 0\n",
    "        for i in range(0, n, 1):\n",
    "            if omega[i] == labels[i]:\n",
    "                count += 1\n",
    "        return count\n",
    "    \n",
    "    P = BoxModel(labels, size=n, replace=False, order_matters=True)\n",
    "    Y = RV(P, number_of_matches)\n",
    "    y = Y.sim(10000)\n",
    "    y.plot()\n",
    "    plt.ylim(0, 0.4)\n",
    "    plt.xlim(-1, 10.2)\n",
    "    plt.show()\n",
    "\n",
    "interact(matching_sim, n=ipywidgets.IntSlider(min=4, max=50, step=1, value=1));"
   ]
  },
  {
   "cell_type": "code",
   "execution_count": null,
   "metadata": {},
   "outputs": [],
   "source": []
  }
 ],
 "metadata": {
  "kernelspec": {
   "display_name": "Python 3",
   "language": "python",
   "name": "python3"
  },
  "language_info": {
   "codemirror_mode": {
    "name": "ipython",
    "version": 3
   },
   "file_extension": ".py",
   "mimetype": "text/x-python",
   "name": "python",
   "nbconvert_exporter": "python",
   "pygments_lexer": "ipython3",
   "version": "3.6.6"
  },
  "widgets": {
   "application/vnd.jupyter.widget-state+json": {
    "state": {
     "20657e4ed51145c2aa8b8a3991d71d34": {
      "model_module": "jupyter-js-widgets",
      "model_module_version": "~2.1.4",
      "model_name": "LayoutModel",
      "state": {
       "_model_module_version": "~2.1.4",
       "_view_module_version": "~2.1.4"
      }
     },
     "24a2b9b33ad34f1195e78794b1d263db": {
      "model_module": "jupyter-js-widgets",
      "model_module_version": "~2.1.4",
      "model_name": "OutputModel",
      "state": {
       "_dom_classes": [],
       "_model_module": "jupyter-js-widgets",
       "_model_module_version": "~2.1.4",
       "_view_module": "jupyter-js-widgets",
       "_view_module_version": "~2.1.4",
       "layout": "IPY_MODEL_ac5aa18184a8423f8a4303f9c6fc1d8e",
       "msg_throttle": 1
      }
     },
     "622e13ed9c774797ae504ccc37a9a0dd": {
      "model_module": "jupyter-js-widgets",
      "model_module_version": "~2.1.4",
      "model_name": "LayoutModel",
      "state": {
       "_model_module_version": "~2.1.4",
       "_view_module_version": "~2.1.4"
      }
     },
     "6ae82ff7537f4bdc8a8be72b55f89d1d": {
      "model_module": "jupyter-js-widgets",
      "model_module_version": "~2.1.4",
      "model_name": "SliderStyleModel",
      "state": {
       "_model_module_version": "~2.1.4",
       "_view_module_version": "~2.1.4"
      }
     },
     "95b2416d8834462ab549471fae27e048": {
      "model_module": "jupyter-js-widgets",
      "model_module_version": "~2.1.4",
      "model_name": "IntSliderModel",
      "state": {
       "_model_module_version": "~2.1.4",
       "_view_module_version": "~2.1.4",
       "description": "n",
       "layout": "IPY_MODEL_622e13ed9c774797ae504ccc37a9a0dd",
       "max": 50,
       "min": 4,
       "style": "IPY_MODEL_6ae82ff7537f4bdc8a8be72b55f89d1d",
       "value": 4
      }
     },
     "ac5aa18184a8423f8a4303f9c6fc1d8e": {
      "model_module": "jupyter-js-widgets",
      "model_module_version": "~2.1.4",
      "model_name": "LayoutModel",
      "state": {
       "_model_module_version": "~2.1.4",
       "_view_module_version": "~2.1.4"
      }
     },
     "efb51f33fd8a41f3ade0f6c96ddad83d": {
      "model_module": "jupyter-js-widgets",
      "model_module_version": "~2.1.4",
      "model_name": "VBoxModel",
      "state": {
       "_dom_classes": [
        "widget-interact"
       ],
       "_model_module_version": "~2.1.4",
       "_view_module_version": "~2.1.4",
       "children": [
        "IPY_MODEL_95b2416d8834462ab549471fae27e048",
        "IPY_MODEL_24a2b9b33ad34f1195e78794b1d263db"
       ],
       "layout": "IPY_MODEL_20657e4ed51145c2aa8b8a3991d71d34"
      }
     }
    },
    "version_major": 1,
    "version_minor": 0
   }
  }
 },
 "nbformat": 4,
 "nbformat_minor": 2
}
